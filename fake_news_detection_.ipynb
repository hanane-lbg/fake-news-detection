{
  "cells": [
    {
      "cell_type": "code",
      "source": [
        "!pip install pandas\n",
        "!pip install numpy\n",
        "!pip install matplotlib\n",
        "!pip install keras\n",
        "!pip install tensorflow\n",
        "!pip install nltk"
      ],
      "metadata": {
        "colab": {
          "base_uri": "https://localhost:8080/"
        },
        "id": "Z82yakzmM1Bs",
        "outputId": "914f633a-a4cf-40df-d9b4-969ee23c346f"
      },
      "id": "Z82yakzmM1Bs",
      "execution_count": 1,
      "outputs": [
        {
          "output_type": "stream",
          "name": "stdout",
          "text": [
            "Requirement already satisfied: pandas in /usr/local/lib/python3.10/dist-packages (2.2.2)\n",
            "Requirement already satisfied: numpy>=1.22.4 in /usr/local/lib/python3.10/dist-packages (from pandas) (1.26.4)\n",
            "Requirement already satisfied: python-dateutil>=2.8.2 in /usr/local/lib/python3.10/dist-packages (from pandas) (2.8.2)\n",
            "Requirement already satisfied: pytz>=2020.1 in /usr/local/lib/python3.10/dist-packages (from pandas) (2024.2)\n",
            "Requirement already satisfied: tzdata>=2022.7 in /usr/local/lib/python3.10/dist-packages (from pandas) (2024.2)\n",
            "Requirement already satisfied: six>=1.5 in /usr/local/lib/python3.10/dist-packages (from python-dateutil>=2.8.2->pandas) (1.16.0)\n",
            "Requirement already satisfied: numpy in /usr/local/lib/python3.10/dist-packages (1.26.4)\n",
            "Requirement already satisfied: matplotlib in /usr/local/lib/python3.10/dist-packages (3.7.1)\n",
            "Requirement already satisfied: contourpy>=1.0.1 in /usr/local/lib/python3.10/dist-packages (from matplotlib) (1.3.0)\n",
            "Requirement already satisfied: cycler>=0.10 in /usr/local/lib/python3.10/dist-packages (from matplotlib) (0.12.1)\n",
            "Requirement already satisfied: fonttools>=4.22.0 in /usr/local/lib/python3.10/dist-packages (from matplotlib) (4.54.1)\n",
            "Requirement already satisfied: kiwisolver>=1.0.1 in /usr/local/lib/python3.10/dist-packages (from matplotlib) (1.4.7)\n",
            "Requirement already satisfied: numpy>=1.20 in /usr/local/lib/python3.10/dist-packages (from matplotlib) (1.26.4)\n",
            "Requirement already satisfied: packaging>=20.0 in /usr/local/lib/python3.10/dist-packages (from matplotlib) (24.1)\n",
            "Requirement already satisfied: pillow>=6.2.0 in /usr/local/lib/python3.10/dist-packages (from matplotlib) (10.4.0)\n",
            "Requirement already satisfied: pyparsing>=2.3.1 in /usr/local/lib/python3.10/dist-packages (from matplotlib) (3.1.4)\n",
            "Requirement already satisfied: python-dateutil>=2.7 in /usr/local/lib/python3.10/dist-packages (from matplotlib) (2.8.2)\n",
            "Requirement already satisfied: six>=1.5 in /usr/local/lib/python3.10/dist-packages (from python-dateutil>=2.7->matplotlib) (1.16.0)\n",
            "Requirement already satisfied: keras in /usr/local/lib/python3.10/dist-packages (3.4.1)\n",
            "Requirement already satisfied: absl-py in /usr/local/lib/python3.10/dist-packages (from keras) (1.4.0)\n",
            "Requirement already satisfied: numpy in /usr/local/lib/python3.10/dist-packages (from keras) (1.26.4)\n",
            "Requirement already satisfied: rich in /usr/local/lib/python3.10/dist-packages (from keras) (13.9.2)\n",
            "Requirement already satisfied: namex in /usr/local/lib/python3.10/dist-packages (from keras) (0.0.8)\n",
            "Requirement already satisfied: h5py in /usr/local/lib/python3.10/dist-packages (from keras) (3.11.0)\n",
            "Requirement already satisfied: optree in /usr/local/lib/python3.10/dist-packages (from keras) (0.13.0)\n",
            "Requirement already satisfied: ml-dtypes in /usr/local/lib/python3.10/dist-packages (from keras) (0.4.1)\n",
            "Requirement already satisfied: packaging in /usr/local/lib/python3.10/dist-packages (from keras) (24.1)\n",
            "Requirement already satisfied: typing-extensions>=4.5.0 in /usr/local/lib/python3.10/dist-packages (from optree->keras) (4.12.2)\n",
            "Requirement already satisfied: markdown-it-py>=2.2.0 in /usr/local/lib/python3.10/dist-packages (from rich->keras) (3.0.0)\n",
            "Requirement already satisfied: pygments<3.0.0,>=2.13.0 in /usr/local/lib/python3.10/dist-packages (from rich->keras) (2.18.0)\n",
            "Requirement already satisfied: mdurl~=0.1 in /usr/local/lib/python3.10/dist-packages (from markdown-it-py>=2.2.0->rich->keras) (0.1.2)\n",
            "Requirement already satisfied: tensorflow in /usr/local/lib/python3.10/dist-packages (2.17.0)\n",
            "Requirement already satisfied: absl-py>=1.0.0 in /usr/local/lib/python3.10/dist-packages (from tensorflow) (1.4.0)\n",
            "Requirement already satisfied: astunparse>=1.6.0 in /usr/local/lib/python3.10/dist-packages (from tensorflow) (1.6.3)\n",
            "Requirement already satisfied: flatbuffers>=24.3.25 in /usr/local/lib/python3.10/dist-packages (from tensorflow) (24.3.25)\n",
            "Requirement already satisfied: gast!=0.5.0,!=0.5.1,!=0.5.2,>=0.2.1 in /usr/local/lib/python3.10/dist-packages (from tensorflow) (0.6.0)\n",
            "Requirement already satisfied: google-pasta>=0.1.1 in /usr/local/lib/python3.10/dist-packages (from tensorflow) (0.2.0)\n",
            "Requirement already satisfied: h5py>=3.10.0 in /usr/local/lib/python3.10/dist-packages (from tensorflow) (3.11.0)\n",
            "Requirement already satisfied: libclang>=13.0.0 in /usr/local/lib/python3.10/dist-packages (from tensorflow) (18.1.1)\n",
            "Requirement already satisfied: ml-dtypes<0.5.0,>=0.3.1 in /usr/local/lib/python3.10/dist-packages (from tensorflow) (0.4.1)\n",
            "Requirement already satisfied: opt-einsum>=2.3.2 in /usr/local/lib/python3.10/dist-packages (from tensorflow) (3.4.0)\n",
            "Requirement already satisfied: packaging in /usr/local/lib/python3.10/dist-packages (from tensorflow) (24.1)\n",
            "Requirement already satisfied: protobuf!=4.21.0,!=4.21.1,!=4.21.2,!=4.21.3,!=4.21.4,!=4.21.5,<5.0.0dev,>=3.20.3 in /usr/local/lib/python3.10/dist-packages (from tensorflow) (3.20.3)\n",
            "Requirement already satisfied: requests<3,>=2.21.0 in /usr/local/lib/python3.10/dist-packages (from tensorflow) (2.32.3)\n",
            "Requirement already satisfied: setuptools in /usr/local/lib/python3.10/dist-packages (from tensorflow) (71.0.4)\n",
            "Requirement already satisfied: six>=1.12.0 in /usr/local/lib/python3.10/dist-packages (from tensorflow) (1.16.0)\n",
            "Requirement already satisfied: termcolor>=1.1.0 in /usr/local/lib/python3.10/dist-packages (from tensorflow) (2.5.0)\n",
            "Requirement already satisfied: typing-extensions>=3.6.6 in /usr/local/lib/python3.10/dist-packages (from tensorflow) (4.12.2)\n",
            "Requirement already satisfied: wrapt>=1.11.0 in /usr/local/lib/python3.10/dist-packages (from tensorflow) (1.16.0)\n",
            "Requirement already satisfied: grpcio<2.0,>=1.24.3 in /usr/local/lib/python3.10/dist-packages (from tensorflow) (1.64.1)\n",
            "Requirement already satisfied: tensorboard<2.18,>=2.17 in /usr/local/lib/python3.10/dist-packages (from tensorflow) (2.17.0)\n",
            "Requirement already satisfied: keras>=3.2.0 in /usr/local/lib/python3.10/dist-packages (from tensorflow) (3.4.1)\n",
            "Requirement already satisfied: tensorflow-io-gcs-filesystem>=0.23.1 in /usr/local/lib/python3.10/dist-packages (from tensorflow) (0.37.1)\n",
            "Requirement already satisfied: numpy<2.0.0,>=1.23.5 in /usr/local/lib/python3.10/dist-packages (from tensorflow) (1.26.4)\n",
            "Requirement already satisfied: wheel<1.0,>=0.23.0 in /usr/local/lib/python3.10/dist-packages (from astunparse>=1.6.0->tensorflow) (0.44.0)\n",
            "Requirement already satisfied: rich in /usr/local/lib/python3.10/dist-packages (from keras>=3.2.0->tensorflow) (13.9.2)\n",
            "Requirement already satisfied: namex in /usr/local/lib/python3.10/dist-packages (from keras>=3.2.0->tensorflow) (0.0.8)\n",
            "Requirement already satisfied: optree in /usr/local/lib/python3.10/dist-packages (from keras>=3.2.0->tensorflow) (0.13.0)\n",
            "Requirement already satisfied: charset-normalizer<4,>=2 in /usr/local/lib/python3.10/dist-packages (from requests<3,>=2.21.0->tensorflow) (3.4.0)\n",
            "Requirement already satisfied: idna<4,>=2.5 in /usr/local/lib/python3.10/dist-packages (from requests<3,>=2.21.0->tensorflow) (3.10)\n",
            "Requirement already satisfied: urllib3<3,>=1.21.1 in /usr/local/lib/python3.10/dist-packages (from requests<3,>=2.21.0->tensorflow) (2.2.3)\n",
            "Requirement already satisfied: certifi>=2017.4.17 in /usr/local/lib/python3.10/dist-packages (from requests<3,>=2.21.0->tensorflow) (2024.8.30)\n",
            "Requirement already satisfied: markdown>=2.6.8 in /usr/local/lib/python3.10/dist-packages (from tensorboard<2.18,>=2.17->tensorflow) (3.7)\n",
            "Requirement already satisfied: tensorboard-data-server<0.8.0,>=0.7.0 in /usr/local/lib/python3.10/dist-packages (from tensorboard<2.18,>=2.17->tensorflow) (0.7.2)\n",
            "Requirement already satisfied: werkzeug>=1.0.1 in /usr/local/lib/python3.10/dist-packages (from tensorboard<2.18,>=2.17->tensorflow) (3.0.4)\n",
            "Requirement already satisfied: MarkupSafe>=2.1.1 in /usr/local/lib/python3.10/dist-packages (from werkzeug>=1.0.1->tensorboard<2.18,>=2.17->tensorflow) (3.0.1)\n",
            "Requirement already satisfied: markdown-it-py>=2.2.0 in /usr/local/lib/python3.10/dist-packages (from rich->keras>=3.2.0->tensorflow) (3.0.0)\n",
            "Requirement already satisfied: pygments<3.0.0,>=2.13.0 in /usr/local/lib/python3.10/dist-packages (from rich->keras>=3.2.0->tensorflow) (2.18.0)\n",
            "Requirement already satisfied: mdurl~=0.1 in /usr/local/lib/python3.10/dist-packages (from markdown-it-py>=2.2.0->rich->keras>=3.2.0->tensorflow) (0.1.2)\n",
            "Requirement already satisfied: nltk in /usr/local/lib/python3.10/dist-packages (3.8.1)\n",
            "Requirement already satisfied: click in /usr/local/lib/python3.10/dist-packages (from nltk) (8.1.7)\n",
            "Requirement already satisfied: joblib in /usr/local/lib/python3.10/dist-packages (from nltk) (1.4.2)\n",
            "Requirement already satisfied: regex>=2021.8.3 in /usr/local/lib/python3.10/dist-packages (from nltk) (2024.9.11)\n",
            "Requirement already satisfied: tqdm in /usr/local/lib/python3.10/dist-packages (from nltk) (4.66.5)\n"
          ]
        }
      ]
    },
    {
      "cell_type": "code",
      "source": [
        "import pandas as pd\n",
        "import numpy as np\n",
        "import matplotlib.pyplot as plt\n",
        "import keras\n",
        "import tensorflow\n",
        "import nltk\n",
        "import os"
      ],
      "metadata": {
        "id": "dx9Ut8-SV1Ts"
      },
      "id": "dx9Ut8-SV1Ts",
      "execution_count": 2,
      "outputs": []
    },
    {
      "cell_type": "code",
      "source": [
        "! pip install opendatasets --upgrade --quiet\n",
        "import opendatasets as od\n",
        "dataset_url='https://www.kaggle.com/datasets/jruvika/fake-news-detection'\n",
        "od.download(dataset_url)\n",
        "\n",
        "data='./fake-news-detection'\n",
        "print(os.listdir(data))"
      ],
      "metadata": {
        "colab": {
          "base_uri": "https://localhost:8080/"
        },
        "id": "pqxKPdxfO1Vu",
        "outputId": "c1f6a109-0de9-47fa-9a9e-432fa41af8d6"
      },
      "id": "pqxKPdxfO1Vu",
      "execution_count": 3,
      "outputs": [
        {
          "output_type": "stream",
          "name": "stdout",
          "text": [
            "Dataset URL: https://www.kaggle.com/datasets/jruvika/fake-news-detection\n",
            "Downloading fake-news-detection.zip to ./fake-news-detection\n"
          ]
        },
        {
          "output_type": "stream",
          "name": "stderr",
          "text": [
            "100%|██████████| 4.89M/4.89M [00:00<00:00, 70.3MB/s]"
          ]
        },
        {
          "output_type": "stream",
          "name": "stdout",
          "text": [
            "\n"
          ]
        },
        {
          "output_type": "stream",
          "name": "stderr",
          "text": [
            "\n"
          ]
        },
        {
          "output_type": "stream",
          "name": "stdout",
          "text": [
            "['data.csv', 'data.h5']\n"
          ]
        }
      ]
    },
    {
      "cell_type": "markdown",
      "id": "9a01cef5",
      "metadata": {
        "id": "9a01cef5"
      },
      "source": [
        "# Data exploration and Preprocessing"
      ]
    },
    {
      "cell_type": "markdown",
      "source": [
        " ## The dataset was gathred from Kaggle : https://www.kaggle.com/datasets/jruvika/fake-news-detection ; it has 5mb and it has 3 Features : URLs, Body, Headline ."
      ],
      "metadata": {
        "id": "IY6nrF5TeCBy"
      },
      "id": "IY6nrF5TeCBy"
    },
    {
      "cell_type": "code",
      "execution_count": 5,
      "id": "810df5b3",
      "metadata": {
        "id": "810df5b3"
      },
      "outputs": [],
      "source": [
        "data=pd.read_csv('/content/fake-news-detection/data.csv')"
      ]
    },
    {
      "cell_type": "code",
      "execution_count": 6,
      "id": "1dc215e8",
      "metadata": {
        "colab": {
          "base_uri": "https://localhost:8080/",
          "height": 206
        },
        "id": "1dc215e8",
        "outputId": "003ea01b-0c96-42e6-981e-aee479e7aeb7"
      },
      "outputs": [
        {
          "output_type": "execute_result",
          "data": {
            "text/plain": [
              "                                                URLs  \\\n",
              "0  http://www.bbc.com/news/world-us-canada-414191...   \n",
              "1  https://www.reuters.com/article/us-filmfestiva...   \n",
              "2  https://www.nytimes.com/2017/10/09/us/politics...   \n",
              "3  https://www.reuters.com/article/us-mexico-oil-...   \n",
              "4  http://www.cnn.com/videos/cnnmoney/2017/10/08/...   \n",
              "\n",
              "                                            Headline  \\\n",
              "0         Four ways Bob Corker skewered Donald Trump   \n",
              "1  Linklater's war veteran comedy speaks to moder...   \n",
              "2  Trump’s Fight With Corker Jeopardizes His Legi...   \n",
              "3  Egypt's Cheiron wins tie-up with Pemex for Mex...   \n",
              "4        Jason Aldean opens 'SNL' with Vegas tribute   \n",
              "\n",
              "                                                Body  Label  \n",
              "0  Image copyright Getty Images\\nOn Sunday mornin...      1  \n",
              "1  LONDON (Reuters) - “Last Flag Flying”, a comed...      1  \n",
              "2  The feud broke into public view last week when...      1  \n",
              "3  MEXICO CITY (Reuters) - Egypt’s Cheiron Holdin...      1  \n",
              "4  Country singer Jason Aldean, who was performin...      1  "
            ],
            "text/html": [
              "\n",
              "  <div id=\"df-4dfec5aa-2819-4915-8860-96aedfc403f3\" class=\"colab-df-container\">\n",
              "    <div>\n",
              "<style scoped>\n",
              "    .dataframe tbody tr th:only-of-type {\n",
              "        vertical-align: middle;\n",
              "    }\n",
              "\n",
              "    .dataframe tbody tr th {\n",
              "        vertical-align: top;\n",
              "    }\n",
              "\n",
              "    .dataframe thead th {\n",
              "        text-align: right;\n",
              "    }\n",
              "</style>\n",
              "<table border=\"1\" class=\"dataframe\">\n",
              "  <thead>\n",
              "    <tr style=\"text-align: right;\">\n",
              "      <th></th>\n",
              "      <th>URLs</th>\n",
              "      <th>Headline</th>\n",
              "      <th>Body</th>\n",
              "      <th>Label</th>\n",
              "    </tr>\n",
              "  </thead>\n",
              "  <tbody>\n",
              "    <tr>\n",
              "      <th>0</th>\n",
              "      <td>http://www.bbc.com/news/world-us-canada-414191...</td>\n",
              "      <td>Four ways Bob Corker skewered Donald Trump</td>\n",
              "      <td>Image copyright Getty Images\\nOn Sunday mornin...</td>\n",
              "      <td>1</td>\n",
              "    </tr>\n",
              "    <tr>\n",
              "      <th>1</th>\n",
              "      <td>https://www.reuters.com/article/us-filmfestiva...</td>\n",
              "      <td>Linklater's war veteran comedy speaks to moder...</td>\n",
              "      <td>LONDON (Reuters) - “Last Flag Flying”, a comed...</td>\n",
              "      <td>1</td>\n",
              "    </tr>\n",
              "    <tr>\n",
              "      <th>2</th>\n",
              "      <td>https://www.nytimes.com/2017/10/09/us/politics...</td>\n",
              "      <td>Trump’s Fight With Corker Jeopardizes His Legi...</td>\n",
              "      <td>The feud broke into public view last week when...</td>\n",
              "      <td>1</td>\n",
              "    </tr>\n",
              "    <tr>\n",
              "      <th>3</th>\n",
              "      <td>https://www.reuters.com/article/us-mexico-oil-...</td>\n",
              "      <td>Egypt's Cheiron wins tie-up with Pemex for Mex...</td>\n",
              "      <td>MEXICO CITY (Reuters) - Egypt’s Cheiron Holdin...</td>\n",
              "      <td>1</td>\n",
              "    </tr>\n",
              "    <tr>\n",
              "      <th>4</th>\n",
              "      <td>http://www.cnn.com/videos/cnnmoney/2017/10/08/...</td>\n",
              "      <td>Jason Aldean opens 'SNL' with Vegas tribute</td>\n",
              "      <td>Country singer Jason Aldean, who was performin...</td>\n",
              "      <td>1</td>\n",
              "    </tr>\n",
              "  </tbody>\n",
              "</table>\n",
              "</div>\n",
              "    <div class=\"colab-df-buttons\">\n",
              "\n",
              "  <div class=\"colab-df-container\">\n",
              "    <button class=\"colab-df-convert\" onclick=\"convertToInteractive('df-4dfec5aa-2819-4915-8860-96aedfc403f3')\"\n",
              "            title=\"Convert this dataframe to an interactive table.\"\n",
              "            style=\"display:none;\">\n",
              "\n",
              "  <svg xmlns=\"http://www.w3.org/2000/svg\" height=\"24px\" viewBox=\"0 -960 960 960\">\n",
              "    <path d=\"M120-120v-720h720v720H120Zm60-500h600v-160H180v160Zm220 220h160v-160H400v160Zm0 220h160v-160H400v160ZM180-400h160v-160H180v160Zm440 0h160v-160H620v160ZM180-180h160v-160H180v160Zm440 0h160v-160H620v160Z\"/>\n",
              "  </svg>\n",
              "    </button>\n",
              "\n",
              "  <style>\n",
              "    .colab-df-container {\n",
              "      display:flex;\n",
              "      gap: 12px;\n",
              "    }\n",
              "\n",
              "    .colab-df-convert {\n",
              "      background-color: #E8F0FE;\n",
              "      border: none;\n",
              "      border-radius: 50%;\n",
              "      cursor: pointer;\n",
              "      display: none;\n",
              "      fill: #1967D2;\n",
              "      height: 32px;\n",
              "      padding: 0 0 0 0;\n",
              "      width: 32px;\n",
              "    }\n",
              "\n",
              "    .colab-df-convert:hover {\n",
              "      background-color: #E2EBFA;\n",
              "      box-shadow: 0px 1px 2px rgba(60, 64, 67, 0.3), 0px 1px 3px 1px rgba(60, 64, 67, 0.15);\n",
              "      fill: #174EA6;\n",
              "    }\n",
              "\n",
              "    .colab-df-buttons div {\n",
              "      margin-bottom: 4px;\n",
              "    }\n",
              "\n",
              "    [theme=dark] .colab-df-convert {\n",
              "      background-color: #3B4455;\n",
              "      fill: #D2E3FC;\n",
              "    }\n",
              "\n",
              "    [theme=dark] .colab-df-convert:hover {\n",
              "      background-color: #434B5C;\n",
              "      box-shadow: 0px 1px 3px 1px rgba(0, 0, 0, 0.15);\n",
              "      filter: drop-shadow(0px 1px 2px rgba(0, 0, 0, 0.3));\n",
              "      fill: #FFFFFF;\n",
              "    }\n",
              "  </style>\n",
              "\n",
              "    <script>\n",
              "      const buttonEl =\n",
              "        document.querySelector('#df-4dfec5aa-2819-4915-8860-96aedfc403f3 button.colab-df-convert');\n",
              "      buttonEl.style.display =\n",
              "        google.colab.kernel.accessAllowed ? 'block' : 'none';\n",
              "\n",
              "      async function convertToInteractive(key) {\n",
              "        const element = document.querySelector('#df-4dfec5aa-2819-4915-8860-96aedfc403f3');\n",
              "        const dataTable =\n",
              "          await google.colab.kernel.invokeFunction('convertToInteractive',\n",
              "                                                    [key], {});\n",
              "        if (!dataTable) return;\n",
              "\n",
              "        const docLinkHtml = 'Like what you see? Visit the ' +\n",
              "          '<a target=\"_blank\" href=https://colab.research.google.com/notebooks/data_table.ipynb>data table notebook</a>'\n",
              "          + ' to learn more about interactive tables.';\n",
              "        element.innerHTML = '';\n",
              "        dataTable['output_type'] = 'display_data';\n",
              "        await google.colab.output.renderOutput(dataTable, element);\n",
              "        const docLink = document.createElement('div');\n",
              "        docLink.innerHTML = docLinkHtml;\n",
              "        element.appendChild(docLink);\n",
              "      }\n",
              "    </script>\n",
              "  </div>\n",
              "\n",
              "\n",
              "<div id=\"df-c7adb109-1def-487e-82f8-6252632bf0fb\">\n",
              "  <button class=\"colab-df-quickchart\" onclick=\"quickchart('df-c7adb109-1def-487e-82f8-6252632bf0fb')\"\n",
              "            title=\"Suggest charts\"\n",
              "            style=\"display:none;\">\n",
              "\n",
              "<svg xmlns=\"http://www.w3.org/2000/svg\" height=\"24px\"viewBox=\"0 0 24 24\"\n",
              "     width=\"24px\">\n",
              "    <g>\n",
              "        <path d=\"M19 3H5c-1.1 0-2 .9-2 2v14c0 1.1.9 2 2 2h14c1.1 0 2-.9 2-2V5c0-1.1-.9-2-2-2zM9 17H7v-7h2v7zm4 0h-2V7h2v10zm4 0h-2v-4h2v4z\"/>\n",
              "    </g>\n",
              "</svg>\n",
              "  </button>\n",
              "\n",
              "<style>\n",
              "  .colab-df-quickchart {\n",
              "      --bg-color: #E8F0FE;\n",
              "      --fill-color: #1967D2;\n",
              "      --hover-bg-color: #E2EBFA;\n",
              "      --hover-fill-color: #174EA6;\n",
              "      --disabled-fill-color: #AAA;\n",
              "      --disabled-bg-color: #DDD;\n",
              "  }\n",
              "\n",
              "  [theme=dark] .colab-df-quickchart {\n",
              "      --bg-color: #3B4455;\n",
              "      --fill-color: #D2E3FC;\n",
              "      --hover-bg-color: #434B5C;\n",
              "      --hover-fill-color: #FFFFFF;\n",
              "      --disabled-bg-color: #3B4455;\n",
              "      --disabled-fill-color: #666;\n",
              "  }\n",
              "\n",
              "  .colab-df-quickchart {\n",
              "    background-color: var(--bg-color);\n",
              "    border: none;\n",
              "    border-radius: 50%;\n",
              "    cursor: pointer;\n",
              "    display: none;\n",
              "    fill: var(--fill-color);\n",
              "    height: 32px;\n",
              "    padding: 0;\n",
              "    width: 32px;\n",
              "  }\n",
              "\n",
              "  .colab-df-quickchart:hover {\n",
              "    background-color: var(--hover-bg-color);\n",
              "    box-shadow: 0 1px 2px rgba(60, 64, 67, 0.3), 0 1px 3px 1px rgba(60, 64, 67, 0.15);\n",
              "    fill: var(--button-hover-fill-color);\n",
              "  }\n",
              "\n",
              "  .colab-df-quickchart-complete:disabled,\n",
              "  .colab-df-quickchart-complete:disabled:hover {\n",
              "    background-color: var(--disabled-bg-color);\n",
              "    fill: var(--disabled-fill-color);\n",
              "    box-shadow: none;\n",
              "  }\n",
              "\n",
              "  .colab-df-spinner {\n",
              "    border: 2px solid var(--fill-color);\n",
              "    border-color: transparent;\n",
              "    border-bottom-color: var(--fill-color);\n",
              "    animation:\n",
              "      spin 1s steps(1) infinite;\n",
              "  }\n",
              "\n",
              "  @keyframes spin {\n",
              "    0% {\n",
              "      border-color: transparent;\n",
              "      border-bottom-color: var(--fill-color);\n",
              "      border-left-color: var(--fill-color);\n",
              "    }\n",
              "    20% {\n",
              "      border-color: transparent;\n",
              "      border-left-color: var(--fill-color);\n",
              "      border-top-color: var(--fill-color);\n",
              "    }\n",
              "    30% {\n",
              "      border-color: transparent;\n",
              "      border-left-color: var(--fill-color);\n",
              "      border-top-color: var(--fill-color);\n",
              "      border-right-color: var(--fill-color);\n",
              "    }\n",
              "    40% {\n",
              "      border-color: transparent;\n",
              "      border-right-color: var(--fill-color);\n",
              "      border-top-color: var(--fill-color);\n",
              "    }\n",
              "    60% {\n",
              "      border-color: transparent;\n",
              "      border-right-color: var(--fill-color);\n",
              "    }\n",
              "    80% {\n",
              "      border-color: transparent;\n",
              "      border-right-color: var(--fill-color);\n",
              "      border-bottom-color: var(--fill-color);\n",
              "    }\n",
              "    90% {\n",
              "      border-color: transparent;\n",
              "      border-bottom-color: var(--fill-color);\n",
              "    }\n",
              "  }\n",
              "</style>\n",
              "\n",
              "  <script>\n",
              "    async function quickchart(key) {\n",
              "      const quickchartButtonEl =\n",
              "        document.querySelector('#' + key + ' button');\n",
              "      quickchartButtonEl.disabled = true;  // To prevent multiple clicks.\n",
              "      quickchartButtonEl.classList.add('colab-df-spinner');\n",
              "      try {\n",
              "        const charts = await google.colab.kernel.invokeFunction(\n",
              "            'suggestCharts', [key], {});\n",
              "      } catch (error) {\n",
              "        console.error('Error during call to suggestCharts:', error);\n",
              "      }\n",
              "      quickchartButtonEl.classList.remove('colab-df-spinner');\n",
              "      quickchartButtonEl.classList.add('colab-df-quickchart-complete');\n",
              "    }\n",
              "    (() => {\n",
              "      let quickchartButtonEl =\n",
              "        document.querySelector('#df-c7adb109-1def-487e-82f8-6252632bf0fb button');\n",
              "      quickchartButtonEl.style.display =\n",
              "        google.colab.kernel.accessAllowed ? 'block' : 'none';\n",
              "    })();\n",
              "  </script>\n",
              "</div>\n",
              "\n",
              "    </div>\n",
              "  </div>\n"
            ],
            "application/vnd.google.colaboratory.intrinsic+json": {
              "type": "dataframe",
              "variable_name": "data",
              "summary": "{\n  \"name\": \"data\",\n  \"rows\": 4009,\n  \"fields\": [\n    {\n      \"column\": \"URLs\",\n      \"properties\": {\n        \"dtype\": \"string\",\n        \"num_unique_values\": 3352,\n        \"samples\": [\n          \"http://beforeitsnews.com/sports/2017/09/jetnation-tuesday-tidbits-jets-maye-have-something-with-safety-tandem-2701190.html\\n\\n\",\n          \"http://www.disclose.tv/news/this_marine_stole_a_truck_and_saved_dozens_of_vegas_shooting_victims_now_the_car_owner_sent_him_this_message/140445\",\n          \"http://beforeitsnews.com/entertainment/2017/09/ashley-j-announces-her-new-empowering-and-energetic-pop-single-unbreakable-releasing-10617-2670588.html\\r\\n\"\n        ],\n        \"semantic_type\": \"\",\n        \"description\": \"\"\n      }\n    },\n    {\n      \"column\": \"Headline\",\n      \"properties\": {\n        \"dtype\": \"string\",\n        \"num_unique_values\": 2831,\n        \"samples\": [\n          \"How the Guptas' brand turned toxic in South Africa\",\n          \"Pols And Celebs Now Blame Trump For Puerto Rico And Las Vegas\",\n          \"After 'bloody mess' jab, Macron eyes training, job insurance reform\"\n        ],\n        \"semantic_type\": \"\",\n        \"description\": \"\"\n      }\n    },\n    {\n      \"column\": \"Body\",\n      \"properties\": {\n        \"dtype\": \"string\",\n        \"num_unique_values\": 2863,\n        \"samples\": [\n          \"Ahead of Foster the People's show at the \\\"All Things Go\\\" festival in Washington, lead singer Mark Foster tells #GetPolitical how the Vegas shooting changed him.\",\n          \"This was a break from the usual \\u2014 for rock acts in general and this one in particular. It was \\u201cweird\\u201d and conceptual in all the ways Mr. Petty\\u2019s music was vividly normal. They were casting themselves as survivors of some pre-video age. I don\\u2019t think I actually heard \\u201cYou Got Lucky\\u201d because I had seen it. And it looked stoned.\\nAdvertisement Continue reading the main story\\nIn the week or so since his death last Monday, Mr. Petty has been memorialized as carrying some kind of classic-rock baton, which came as a surprise to me since all my first encounters with him happened on MTV. That\\u2019s a rock-critic distinction. And it makes sense for the purists to lay their claim. Mr. Petty has never sounded out of place in a block crammed with, say, \\u201cStairway to Heaven,\\u201d \\u201cHotel California\\u201d and \\u201cLegs.\\u201d But Mr. Petty belonged as much to MTV, alongside Duran Duran and Cyndi Lauper, as he did to the old-guard rigidity of whatever is meant by \\u201cclassic rock.\\u201d\\nIt\\u2019s true, there was a classicism to his approach to rock, whether he was on his own, recording with the Heartbreakers or with the Traveling Wilburys, a sort of rock-historical Avengers. But his elasticity and economy (a Tom Petty song rarely made it past the four-minute mark) and the sweet spot it deeply satisfied over and over, were hallmarks of pop.\\nMr. Petty\\u2019s nuttiest contribution to the video era was \\u201cDon\\u2019t Come Around Here No More,\\u201d from 1985. It riffs on the Mad Hatter\\u2019s tea party from \\u201cAlice in Wonderland\\u201d with Mr. Petty as the Hatter. The props (edible teacups, mushroom tuffets) and costumes were surreally proportioned and druggie. Mr. Petty briefly either shrinks inside his outfit or his clothes turn enormous. But what\\u2019s freaky about the clip is what a creep he pretends to be, leaping from one end of the enormous dining table to where Alice sits at the other and appearing to chase her around the checkerboard set.\\nEventually, she\\u2019s trapped in the teacup and her body turns into a cake that the band and the Hatter all find good enough to eat. So they hack into her. In the final shot, the camera pans from a screaming Alice to a close-up of Mr. Petty gobbling her up. He wears the same bemused expression the entire time and, courtesy of his sunglasses, never lets you see his eyes. He was opium-den Willy Wonka. It was a look he\\u2019d often return to.\\nNewsletter Sign Up Continue reading the main story Sign Up for the Louder Newsletter Every week, stay on top of the latest in pop and jazz with reviews, interviews, podcasts and more from The New York Times music critics. Please verify you're not a robot by clicking the box. Invalid email address. Please re-enter. You must select a newsletter to subscribe to. Sign Up You agree to receive occasional updates and special offers for The New York Times's products and services. Thank you for subscribing. An error has occurred. Please try again later. View all New York Times newsletters.\\nIf \\u201cDon\\u2019t Come Around Here\\u201d is your second or third Tom Petty music-video experience, it may have been formative. Michael Jackson was a werewolf-zombie. Madonna rolled around in gondolas. Prince did splits. Tom Petty ate people. I always found that funny given how little his face appeared to do. You\\u2019d watch these videos and wonder how such a pleasingly distinctive sound could come out of a mouth that never seemed to open.\\nMr. Petty\\u2019s approach to being on MTV was not to take it more seriously than he had to. His sense of frivolity came with a coating of stranger-danger. \\u201cI Won\\u2019t Back Down\\u201d kicks off with him, still outfitted like the Mad Hatter, lifting the lid of a gift box. The camera peers inside, revealing Mr. Petty and a band playing the song on a stark, black set. Before the guitars start to cry and chug, there\\u2019s a natural studio silence that always terrified me. Who knows why? But some of it is the dark-magician he\\u2019d styled himself as.\\nThe hat and the shades seemed to keep him in disguise. It took a long time to remember that when his career in music videos started \\u2014 with \\u201cRefugee,\\u201d to pick one hypnotically shabby-looking performance \\u2014 he looked like the average girl\\u2019s prom date: cuter than you thought. By the time of \\u201cInto the Great Wide Open,\\u201d from 1991, Mr. Petty wore another ridiculous hat and wire-rimmed glasses. This time the Mad Hatter was an omniscient narrator of the song\\u2019s music-biz blues. It\\u2019s an imaginative, fitfully humorous literalizing of the song. Johnny Depp plays Eddie, a clich\\u00e9 rock star, and Faye Dunaway has a ball portraying his back-stabbed manager. (Mr. Petty himself takes on about four different parts.) The music-video veteran Julian Temple directed it, and he worked with a poignant tinge of bloat. Accordingly to Mr. Petty, in Peter Bogdanovich\\u2019s exhaustingly thorough documentary, \\u201cRunnin\\u2019 Down a Dream,\\u201d Mr. Temple originally shot a 17-minute version.\\nThe videos got at a kind of truth about Mr. Petty. Lots of his songs featured power contests between himself and unspecified forces, like record labels. Commands like \\u201cdon\\u2019t,\\u201d \\u201cwon\\u2019t,\\u201d \\u201cstop\\u201d and \\u201cquit\\u201d recur. Maybe some of the clips were a fantasy of a straightforward control he struggled for in his music. Of course, as a listener, you often heard struggle\\u2019s opposite. You felt the joy of the music\\u2019s thrum and jangle. The songs took three-chord structure and made little origami. In videos, he never seemed impressed.\\nAdvertisement Continue reading the main story\\nThat was the other thing about them. Watching them was an exercise in cognitive dissonance. For the dramatization of the ecstasy a listener feels hearing a Tom Petty song, you had to go to the movies. You had to see Tom Cruise, in Cameron Crowe\\u2019s \\u201cJerry Maguire,\\u201d searching a car radio for a song that matched his money-loving mood, settling on \\u201cFree Fallin.\\u2019\\u201d It\\u2019s one of the most casually human things Mr. Cruise has done in a movie. He practically hits the roof of his car by the time the chorus comes around.\\nJerry, of course, is hearing the bright side of a song whose sense of loneliness never occurs to Mr. Cruise. But the movie gets the irony that, really, Jerry is, Wile E. Coyote, out of road to run.\\nThen there\\u2019s Brooke Smith in Jonathan Demme\\u2019s \\u201cThe Silence of the Lambs,\\u201d rocking out to \\u201cAmerican Girl.\\u201d There\\u2019s only one way to experience this song, and Smith\\u2019s is it: pounding on the steering wheel. Mr. Petty really is one of those artists who makes you feel like you could drive a car forever. Smith\\u2019s character is about to be beaten unconscious, trapped in a van and made to live at the bottom of a dry well. But for a brief moment, she\\u2019s happy, feeling the opposite of what Mr. Petty\\u2019s song is actually about: letdowns.\\nThat, of course, was his cleverness as a writer. He wrote major-key bummers. A listener didn\\u2019t know what was hitting him until he knew. Obviously, Mr. Petty knew. The young me was never ready for those old Petty videos. To a kid, that Wile E. Coyote feeling describes a cartoon. For everybody else, it\\u2019s just life.\",\n          \"European officials are increasingly trying to counter that narrative.\\nOn Wednesday, Margrethe Vestager, the European Union\\u2019s competition commissioner, ordered Luxembourg to collect around 250 million euros, or about $293 million, in unpaid taxes from Amazon. The ruling was tied to an agreement between the country and the company that the European Commission, the bloc\\u2019s executive arm, said dated to 2003.\\nThe order resembles a similar move the commission made last year, when it directed Ireland to reclaim around $15.2 billion from Apple.\\nIreland fears that such a decision could make it a less attractive place for multinational companies. In a sign of the disquiet in Dublin about that order, the Irish government failed to meet a January deadline to collect the money. It has appealed the ruling.\\nThat earned Ireland a forceful rebuke from Ms. Vestager.\\nA year later, \\u201cIreland has not recovered any money, not even in part,\\u201d she said, warning the country to accelerate its efforts to avoid \\u201cmore conflictual waters,\\u201d a reference to the prospects for a lengthy court battle.\\nAlthough litigation to force Ireland to recoup the taxes could drag on for years, the commission has successfully sued countries in the past and punished them with large fines for failing to recover money from companies that received illegal state aid.\\nAt the time of the ruling, Europe\\u2019s competition watchdogs said that Apple\\u2019s arrangements with Dublin were illegal and had ensured the iPhone maker paid virtually nothing on its European business in some years. Brussels argued that the deals allowed Apple to funnel profit from two Irish subsidiaries to an office in which it had \\u201cno employees, no premises, no real activities.\\u201d\\nThe Irish Department of Finance said that it \\u201chas never accepted the commission\\u2019s analysis\\u201d in the Apple case and that it was taken aback by Ms. Vestager\\u2019s decision to take the country to court. The department said it had \\u201cmade significant progress on this complex issue\\u201d and accused the European authorities of taking a \\u201cwholly unnecessary step.\\u201d\\nAdvertisement Continue reading the main story\\nApple did not immediately comment on the latest move, but has criticized the ruling in the past. The original decision has also drawn the ire of the United States Treasury Department.\\nNewsletter Sign Up Continue reading the main story Please verify you're not a robot by clicking the box. Invalid email address. Please re-enter. You must select a newsletter to subscribe to. Sign Up You agree to receive occasional updates and special offers for The New York Times's products and services. Thank you for subscribing. An error has occurred. Please try again later. View all New York Times newsletters.\\nIn the case of Amazon, the commission said Wednesday that Luxembourg had reduced its tax bill for more than eight years, from 2006 to 2014, and had conferred on the company a selective advantage. The arrangement essentially capped the amount of tax that the retailer paid, and relied on a method known as transfer pricing.\\nTypically, transfer pricing has been used by companies to assign revenues and profits to different business units depending on their location, role in the overall company and assets. But that system is harder to police with technology companies because many of their biggest assets, like intellectual property, are intangible. The European Commission said that Amazon had abused this system by sending most of its European revenue to a Luxembourg subsidiary that was not liable to pay corporate tax, helping the company cut its overall bill.\\nMs. Vestager said the arrangement had \\u201cno valid economic justification\\u201d and that the company had been able to \\u201cavoid taxation on almost three quarters of the profits it made from all Amazon sales in the E.U.\\u201d\\nAmazon and Luxembourg have denied the charges.\\n\\u201cWe believe that Amazon did not receive any special treatment from Luxembourg,\\u201d the company said in a statement on Wednesday, adding that it \\u201cpaid tax in full accordance with both Luxembourg and international tax law.\\u201d\\nAmazon said it would study the commission\\u2019s ruling and was considering whether to appeal.\\nIn a statement, Luxembourg\\u2019s finance ministry also contested Ms. Vestager\\u2019s ruling. \\u201cAs Amazon has been taxed in accordance with the tax rules applicable at the relevant time, Luxembourg considers that the company has not been granted incompatible state aid,\\u201d it said.\\nIt is not illegal in the European Union for member states to attempt to lure businesses by lowering corporate tax rates. But, as with Amazon\\u2019s agreement with Luxembourg, offering special deals to select companies that are not made available to rivals can amount to \\u201cillegal state aid.\\u201d\\nThe investigations are among several in which commission officials have looked into the affairs of Silicon Valley companies. Regulators in Brussels are challenging Google and Qualcomm over alleged antitrust violations, and officials in various countries have investigated Facebook over its handling of customers\\u2019 data.\\nMs. Vestager has made taxes a priority of her term as Europe\\u2019s competition commissioner. In that time, she has penalized Starbucks in the Netherlands and Anheuser-Busch InBev in Belgium. But Luxembourg has been a particular target: In 2015, she told the country to claw back about \\u20ac30 million from a Fiat Chrysler unit, while a case considering Luxembourg\\u2019s treatment of McDonald\\u2019s is also continuing.\\nAdvertisement Continue reading the main story\\n\\u201cI don\\u2019t think that we\\u2019re done,\\u201d Ms. Vestager said on Wednesday, adding that new laws were also necessary. \\u201cThe main part of the solution is of course that we have legislation that gives you a transparent tax landscape and enables national tax authorities to do their job.\\u201d\\nA broader overhaul may be afoot. The European Commission published proposals last month under which internet companies would be taxed in the countries where they generated revenue. Such a shift would mean the companies could not move their profits to jurisdictions with lower taxes.\\nA push in that direction could, however, prove complicated and carries several risks, said Clemens Fuest, the director of the Ifo Institute for Economic Research, a prominent think tank in Germany. In particular, European governments still might devise a host of new incentives to lure investment, while legislative changes at the European level could prompt retaliation by major trading partners.\\n\\u201cThere are real dangers if Brussels keeps acting unilaterally,\\u201d Mr. Fuest said.\\nThe European Union stepped up efforts to curb tax avoidance by companies and by individuals after the financial crisis, which forced many of the bloc\\u2019s member states to cut public services and raise tax rates. But opponents of the austerity programs argued that big corporations had not faced the same pressures, partly because they have long been able to shift their profits to low-tax countries.\"\n        ],\n        \"semantic_type\": \"\",\n        \"description\": \"\"\n      }\n    },\n    {\n      \"column\": \"Label\",\n      \"properties\": {\n        \"dtype\": \"number\",\n        \"std\": 0,\n        \"min\": 0,\n        \"max\": 1,\n        \"num_unique_values\": 2,\n        \"samples\": [\n          0,\n          1\n        ],\n        \"semantic_type\": \"\",\n        \"description\": \"\"\n      }\n    }\n  ]\n}"
            }
          },
          "metadata": {},
          "execution_count": 6
        }
      ],
      "source": [
        "data.head()"
      ]
    },
    {
      "cell_type": "code",
      "execution_count": null,
      "id": "eecf0b34",
      "metadata": {
        "id": "eecf0b34",
        "outputId": "e1b8d330-aeab-4e1f-b75e-9ee26bf3ebd3",
        "colab": {
          "base_uri": "https://localhost:8080/"
        }
      },
      "outputs": [
        {
          "output_type": "stream",
          "name": "stdout",
          "text": [
            "<class 'pandas.core.frame.DataFrame'>\n",
            "RangeIndex: 4009 entries, 0 to 4008\n",
            "Data columns (total 4 columns):\n",
            " #   Column    Non-Null Count  Dtype \n",
            "---  ------    --------------  ----- \n",
            " 0   URLs      4009 non-null   object\n",
            " 1   Headline  4009 non-null   object\n",
            " 2   Body      3988 non-null   object\n",
            " 3   Label     4009 non-null   int64 \n",
            "dtypes: int64(1), object(3)\n",
            "memory usage: 125.4+ KB\n"
          ]
        }
      ],
      "source": [
        "data.info()"
      ]
    },
    {
      "cell_type": "code",
      "execution_count": null,
      "id": "9fc5894d",
      "metadata": {
        "id": "9fc5894d",
        "outputId": "e44781da-3958-45d3-8232-7e8720add25e",
        "colab": {
          "base_uri": "https://localhost:8080/",
          "height": 300
        }
      },
      "outputs": [
        {
          "output_type": "execute_result",
          "data": {
            "text/plain": [
              "             Label\n",
              "count  4009.000000\n",
              "mean      0.466949\n",
              "std       0.498969\n",
              "min       0.000000\n",
              "25%       0.000000\n",
              "50%       0.000000\n",
              "75%       1.000000\n",
              "max       1.000000"
            ],
            "text/html": [
              "\n",
              "  <div id=\"df-bb05bd80-8d4a-48a3-8aac-e1e65257f9cf\" class=\"colab-df-container\">\n",
              "    <div>\n",
              "<style scoped>\n",
              "    .dataframe tbody tr th:only-of-type {\n",
              "        vertical-align: middle;\n",
              "    }\n",
              "\n",
              "    .dataframe tbody tr th {\n",
              "        vertical-align: top;\n",
              "    }\n",
              "\n",
              "    .dataframe thead th {\n",
              "        text-align: right;\n",
              "    }\n",
              "</style>\n",
              "<table border=\"1\" class=\"dataframe\">\n",
              "  <thead>\n",
              "    <tr style=\"text-align: right;\">\n",
              "      <th></th>\n",
              "      <th>Label</th>\n",
              "    </tr>\n",
              "  </thead>\n",
              "  <tbody>\n",
              "    <tr>\n",
              "      <th>count</th>\n",
              "      <td>4009.000000</td>\n",
              "    </tr>\n",
              "    <tr>\n",
              "      <th>mean</th>\n",
              "      <td>0.466949</td>\n",
              "    </tr>\n",
              "    <tr>\n",
              "      <th>std</th>\n",
              "      <td>0.498969</td>\n",
              "    </tr>\n",
              "    <tr>\n",
              "      <th>min</th>\n",
              "      <td>0.000000</td>\n",
              "    </tr>\n",
              "    <tr>\n",
              "      <th>25%</th>\n",
              "      <td>0.000000</td>\n",
              "    </tr>\n",
              "    <tr>\n",
              "      <th>50%</th>\n",
              "      <td>0.000000</td>\n",
              "    </tr>\n",
              "    <tr>\n",
              "      <th>75%</th>\n",
              "      <td>1.000000</td>\n",
              "    </tr>\n",
              "    <tr>\n",
              "      <th>max</th>\n",
              "      <td>1.000000</td>\n",
              "    </tr>\n",
              "  </tbody>\n",
              "</table>\n",
              "</div>\n",
              "    <div class=\"colab-df-buttons\">\n",
              "\n",
              "  <div class=\"colab-df-container\">\n",
              "    <button class=\"colab-df-convert\" onclick=\"convertToInteractive('df-bb05bd80-8d4a-48a3-8aac-e1e65257f9cf')\"\n",
              "            title=\"Convert this dataframe to an interactive table.\"\n",
              "            style=\"display:none;\">\n",
              "\n",
              "  <svg xmlns=\"http://www.w3.org/2000/svg\" height=\"24px\" viewBox=\"0 -960 960 960\">\n",
              "    <path d=\"M120-120v-720h720v720H120Zm60-500h600v-160H180v160Zm220 220h160v-160H400v160Zm0 220h160v-160H400v160ZM180-400h160v-160H180v160Zm440 0h160v-160H620v160ZM180-180h160v-160H180v160Zm440 0h160v-160H620v160Z\"/>\n",
              "  </svg>\n",
              "    </button>\n",
              "\n",
              "  <style>\n",
              "    .colab-df-container {\n",
              "      display:flex;\n",
              "      gap: 12px;\n",
              "    }\n",
              "\n",
              "    .colab-df-convert {\n",
              "      background-color: #E8F0FE;\n",
              "      border: none;\n",
              "      border-radius: 50%;\n",
              "      cursor: pointer;\n",
              "      display: none;\n",
              "      fill: #1967D2;\n",
              "      height: 32px;\n",
              "      padding: 0 0 0 0;\n",
              "      width: 32px;\n",
              "    }\n",
              "\n",
              "    .colab-df-convert:hover {\n",
              "      background-color: #E2EBFA;\n",
              "      box-shadow: 0px 1px 2px rgba(60, 64, 67, 0.3), 0px 1px 3px 1px rgba(60, 64, 67, 0.15);\n",
              "      fill: #174EA6;\n",
              "    }\n",
              "\n",
              "    .colab-df-buttons div {\n",
              "      margin-bottom: 4px;\n",
              "    }\n",
              "\n",
              "    [theme=dark] .colab-df-convert {\n",
              "      background-color: #3B4455;\n",
              "      fill: #D2E3FC;\n",
              "    }\n",
              "\n",
              "    [theme=dark] .colab-df-convert:hover {\n",
              "      background-color: #434B5C;\n",
              "      box-shadow: 0px 1px 3px 1px rgba(0, 0, 0, 0.15);\n",
              "      filter: drop-shadow(0px 1px 2px rgba(0, 0, 0, 0.3));\n",
              "      fill: #FFFFFF;\n",
              "    }\n",
              "  </style>\n",
              "\n",
              "    <script>\n",
              "      const buttonEl =\n",
              "        document.querySelector('#df-bb05bd80-8d4a-48a3-8aac-e1e65257f9cf button.colab-df-convert');\n",
              "      buttonEl.style.display =\n",
              "        google.colab.kernel.accessAllowed ? 'block' : 'none';\n",
              "\n",
              "      async function convertToInteractive(key) {\n",
              "        const element = document.querySelector('#df-bb05bd80-8d4a-48a3-8aac-e1e65257f9cf');\n",
              "        const dataTable =\n",
              "          await google.colab.kernel.invokeFunction('convertToInteractive',\n",
              "                                                    [key], {});\n",
              "        if (!dataTable) return;\n",
              "\n",
              "        const docLinkHtml = 'Like what you see? Visit the ' +\n",
              "          '<a target=\"_blank\" href=https://colab.research.google.com/notebooks/data_table.ipynb>data table notebook</a>'\n",
              "          + ' to learn more about interactive tables.';\n",
              "        element.innerHTML = '';\n",
              "        dataTable['output_type'] = 'display_data';\n",
              "        await google.colab.output.renderOutput(dataTable, element);\n",
              "        const docLink = document.createElement('div');\n",
              "        docLink.innerHTML = docLinkHtml;\n",
              "        element.appendChild(docLink);\n",
              "      }\n",
              "    </script>\n",
              "  </div>\n",
              "\n",
              "\n",
              "<div id=\"df-42878ac4-f718-48c4-86e9-c2e17164e0ae\">\n",
              "  <button class=\"colab-df-quickchart\" onclick=\"quickchart('df-42878ac4-f718-48c4-86e9-c2e17164e0ae')\"\n",
              "            title=\"Suggest charts\"\n",
              "            style=\"display:none;\">\n",
              "\n",
              "<svg xmlns=\"http://www.w3.org/2000/svg\" height=\"24px\"viewBox=\"0 0 24 24\"\n",
              "     width=\"24px\">\n",
              "    <g>\n",
              "        <path d=\"M19 3H5c-1.1 0-2 .9-2 2v14c0 1.1.9 2 2 2h14c1.1 0 2-.9 2-2V5c0-1.1-.9-2-2-2zM9 17H7v-7h2v7zm4 0h-2V7h2v10zm4 0h-2v-4h2v4z\"/>\n",
              "    </g>\n",
              "</svg>\n",
              "  </button>\n",
              "\n",
              "<style>\n",
              "  .colab-df-quickchart {\n",
              "      --bg-color: #E8F0FE;\n",
              "      --fill-color: #1967D2;\n",
              "      --hover-bg-color: #E2EBFA;\n",
              "      --hover-fill-color: #174EA6;\n",
              "      --disabled-fill-color: #AAA;\n",
              "      --disabled-bg-color: #DDD;\n",
              "  }\n",
              "\n",
              "  [theme=dark] .colab-df-quickchart {\n",
              "      --bg-color: #3B4455;\n",
              "      --fill-color: #D2E3FC;\n",
              "      --hover-bg-color: #434B5C;\n",
              "      --hover-fill-color: #FFFFFF;\n",
              "      --disabled-bg-color: #3B4455;\n",
              "      --disabled-fill-color: #666;\n",
              "  }\n",
              "\n",
              "  .colab-df-quickchart {\n",
              "    background-color: var(--bg-color);\n",
              "    border: none;\n",
              "    border-radius: 50%;\n",
              "    cursor: pointer;\n",
              "    display: none;\n",
              "    fill: var(--fill-color);\n",
              "    height: 32px;\n",
              "    padding: 0;\n",
              "    width: 32px;\n",
              "  }\n",
              "\n",
              "  .colab-df-quickchart:hover {\n",
              "    background-color: var(--hover-bg-color);\n",
              "    box-shadow: 0 1px 2px rgba(60, 64, 67, 0.3), 0 1px 3px 1px rgba(60, 64, 67, 0.15);\n",
              "    fill: var(--button-hover-fill-color);\n",
              "  }\n",
              "\n",
              "  .colab-df-quickchart-complete:disabled,\n",
              "  .colab-df-quickchart-complete:disabled:hover {\n",
              "    background-color: var(--disabled-bg-color);\n",
              "    fill: var(--disabled-fill-color);\n",
              "    box-shadow: none;\n",
              "  }\n",
              "\n",
              "  .colab-df-spinner {\n",
              "    border: 2px solid var(--fill-color);\n",
              "    border-color: transparent;\n",
              "    border-bottom-color: var(--fill-color);\n",
              "    animation:\n",
              "      spin 1s steps(1) infinite;\n",
              "  }\n",
              "\n",
              "  @keyframes spin {\n",
              "    0% {\n",
              "      border-color: transparent;\n",
              "      border-bottom-color: var(--fill-color);\n",
              "      border-left-color: var(--fill-color);\n",
              "    }\n",
              "    20% {\n",
              "      border-color: transparent;\n",
              "      border-left-color: var(--fill-color);\n",
              "      border-top-color: var(--fill-color);\n",
              "    }\n",
              "    30% {\n",
              "      border-color: transparent;\n",
              "      border-left-color: var(--fill-color);\n",
              "      border-top-color: var(--fill-color);\n",
              "      border-right-color: var(--fill-color);\n",
              "    }\n",
              "    40% {\n",
              "      border-color: transparent;\n",
              "      border-right-color: var(--fill-color);\n",
              "      border-top-color: var(--fill-color);\n",
              "    }\n",
              "    60% {\n",
              "      border-color: transparent;\n",
              "      border-right-color: var(--fill-color);\n",
              "    }\n",
              "    80% {\n",
              "      border-color: transparent;\n",
              "      border-right-color: var(--fill-color);\n",
              "      border-bottom-color: var(--fill-color);\n",
              "    }\n",
              "    90% {\n",
              "      border-color: transparent;\n",
              "      border-bottom-color: var(--fill-color);\n",
              "    }\n",
              "  }\n",
              "</style>\n",
              "\n",
              "  <script>\n",
              "    async function quickchart(key) {\n",
              "      const quickchartButtonEl =\n",
              "        document.querySelector('#' + key + ' button');\n",
              "      quickchartButtonEl.disabled = true;  // To prevent multiple clicks.\n",
              "      quickchartButtonEl.classList.add('colab-df-spinner');\n",
              "      try {\n",
              "        const charts = await google.colab.kernel.invokeFunction(\n",
              "            'suggestCharts', [key], {});\n",
              "      } catch (error) {\n",
              "        console.error('Error during call to suggestCharts:', error);\n",
              "      }\n",
              "      quickchartButtonEl.classList.remove('colab-df-spinner');\n",
              "      quickchartButtonEl.classList.add('colab-df-quickchart-complete');\n",
              "    }\n",
              "    (() => {\n",
              "      let quickchartButtonEl =\n",
              "        document.querySelector('#df-42878ac4-f718-48c4-86e9-c2e17164e0ae button');\n",
              "      quickchartButtonEl.style.display =\n",
              "        google.colab.kernel.accessAllowed ? 'block' : 'none';\n",
              "    })();\n",
              "  </script>\n",
              "</div>\n",
              "\n",
              "    </div>\n",
              "  </div>\n"
            ],
            "application/vnd.google.colaboratory.intrinsic+json": {
              "type": "dataframe",
              "summary": "{\n  \"name\": \"data\",\n  \"rows\": 8,\n  \"fields\": [\n    {\n      \"column\": \"Label\",\n      \"properties\": {\n        \"dtype\": \"number\",\n        \"std\": 1417.2458024055768,\n        \"min\": 0.0,\n        \"max\": 4009.0,\n        \"num_unique_values\": 5,\n        \"samples\": [\n          0.4669493639311549,\n          1.0,\n          0.4989686945730265\n        ],\n        \"semantic_type\": \"\",\n        \"description\": \"\"\n      }\n    }\n  ]\n}"
            }
          },
          "metadata": {},
          "execution_count": 12
        }
      ],
      "source": [
        "data.describe()"
      ]
    },
    {
      "cell_type": "code",
      "execution_count": null,
      "id": "797bfa56",
      "metadata": {
        "colab": {
          "base_uri": "https://localhost:8080/"
        },
        "id": "797bfa56",
        "outputId": "36a3c26a-ff67-4dc2-92bd-b2af3ee73086"
      },
      "outputs": [
        {
          "output_type": "execute_result",
          "data": {
            "text/plain": [
              "URLs         0\n",
              "Headline     0\n",
              "Body        21\n",
              "Label        0\n",
              "dtype: int64"
            ]
          },
          "metadata": {},
          "execution_count": 5
        }
      ],
      "source": [
        "data.isna().sum()"
      ]
    },
    {
      "cell_type": "code",
      "execution_count": null,
      "id": "2ead6d25",
      "metadata": {
        "id": "2ead6d25"
      },
      "outputs": [],
      "source": [
        "data=data.dropna()"
      ]
    },
    {
      "cell_type": "code",
      "execution_count": null,
      "id": "50b98790",
      "metadata": {
        "colab": {
          "base_uri": "https://localhost:8080/",
          "height": 210
        },
        "id": "50b98790",
        "outputId": "e811830f-5f02-488a-dd44-db1c6a32060b"
      },
      "outputs": [
        {
          "output_type": "execute_result",
          "data": {
            "text/plain": [
              "URLs        0\n",
              "Headline    0\n",
              "Body        0\n",
              "Label       0\n",
              "dtype: int64"
            ],
            "text/html": [
              "<div>\n",
              "<style scoped>\n",
              "    .dataframe tbody tr th:only-of-type {\n",
              "        vertical-align: middle;\n",
              "    }\n",
              "\n",
              "    .dataframe tbody tr th {\n",
              "        vertical-align: top;\n",
              "    }\n",
              "\n",
              "    .dataframe thead th {\n",
              "        text-align: right;\n",
              "    }\n",
              "</style>\n",
              "<table border=\"1\" class=\"dataframe\">\n",
              "  <thead>\n",
              "    <tr style=\"text-align: right;\">\n",
              "      <th></th>\n",
              "      <th>0</th>\n",
              "    </tr>\n",
              "  </thead>\n",
              "  <tbody>\n",
              "    <tr>\n",
              "      <th>URLs</th>\n",
              "      <td>0</td>\n",
              "    </tr>\n",
              "    <tr>\n",
              "      <th>Headline</th>\n",
              "      <td>0</td>\n",
              "    </tr>\n",
              "    <tr>\n",
              "      <th>Body</th>\n",
              "      <td>0</td>\n",
              "    </tr>\n",
              "    <tr>\n",
              "      <th>Label</th>\n",
              "      <td>0</td>\n",
              "    </tr>\n",
              "  </tbody>\n",
              "</table>\n",
              "</div><br><label><b>dtype:</b> int64</label>"
            ]
          },
          "metadata": {},
          "execution_count": 14
        }
      ],
      "source": [
        "data.isna().sum()"
      ]
    },
    {
      "cell_type": "code",
      "execution_count": null,
      "id": "5c25f3d7",
      "metadata": {
        "id": "5c25f3d7",
        "outputId": "99b2713c-0f1b-45b1-a33e-f736e1e45221",
        "colab": {
          "base_uri": "https://localhost:8080/",
          "height": 329
        }
      },
      "outputs": [
        {
          "output_type": "display_data",
          "data": {
            "text/plain": [
              "<Figure size 1500x700 with 1 Axes>"
            ],
            "image/png": "[encoded data removed]"
          },
          "metadata": {}
        }
      ],
      "source": [
        "plt.figure(figsize=(15,7))\n",
        "data.groupby('Label').count()['Body'].plot.bar(title=\"Number of news per category\")\n",
        "plt.xlabel('class')\n",
        "plt.ylabel('freaaquency')\n",
        "plt.show()"
      ]
    },
    {
      "cell_type": "code",
      "execution_count": null,
      "id": "c79c8582",
      "metadata": {
        "id": "c79c8582",
        "outputId": "e22098af-b547-4350-ca35-4dcae8a69742",
        "colab": {
          "base_uri": "https://localhost:8080/",
          "height": 178
        }
      },
      "outputs": [
        {
          "output_type": "execute_result",
          "data": {
            "text/plain": [
              "Label\n",
              "0    2120\n",
              "1    1868\n",
              "Name: Body, dtype: int64"
            ],
            "text/html": [
              "<div>\n",
              "<style scoped>\n",
              "    .dataframe tbody tr th:only-of-type {\n",
              "        vertical-align: middle;\n",
              "    }\n",
              "\n",
              "    .dataframe tbody tr th {\n",
              "        vertical-align: top;\n",
              "    }\n",
              "\n",
              "    .dataframe thead th {\n",
              "        text-align: right;\n",
              "    }\n",
              "</style>\n",
              "<table border=\"1\" class=\"dataframe\">\n",
              "  <thead>\n",
              "    <tr style=\"text-align: right;\">\n",
              "      <th></th>\n",
              "      <th>Body</th>\n",
              "    </tr>\n",
              "    <tr>\n",
              "      <th>Label</th>\n",
              "      <th></th>\n",
              "    </tr>\n",
              "  </thead>\n",
              "  <tbody>\n",
              "    <tr>\n",
              "      <th>0</th>\n",
              "      <td>2120</td>\n",
              "    </tr>\n",
              "    <tr>\n",
              "      <th>1</th>\n",
              "      <td>1868</td>\n",
              "    </tr>\n",
              "  </tbody>\n",
              "</table>\n",
              "</div><br><label><b>dtype:</b> int64</label>"
            ]
          },
          "metadata": {},
          "execution_count": 16
        }
      ],
      "source": [
        "data.groupby('Label').count()['Body']"
      ]
    },
    {
      "cell_type": "markdown",
      "id": "c90925c3",
      "metadata": {
        "id": "c90925c3"
      },
      "source": [
        "## balanced dataset"
      ]
    },
    {
      "cell_type": "code",
      "execution_count": null,
      "id": "610aaa8f",
      "metadata": {
        "id": "610aaa8f"
      },
      "outputs": [],
      "source": [
        "class0 = data[data['Label'] == 0]\n",
        "class1 = data[data['Label'] == 1]\n",
        "\n",
        "class_0_sample = class0.head(1868)\n",
        "class_1_sample = class1.head(1868)\n",
        "\n",
        "data = pd.concat([class_0_sample, class_1_sample])"
      ]
    },
    {
      "cell_type": "code",
      "execution_count": null,
      "id": "9caa74dd",
      "metadata": {
        "colab": {
          "base_uri": "https://localhost:8080/"
        },
        "id": "9caa74dd",
        "outputId": "331628c0-702f-498a-bf06-93c676ec4c4c"
      },
      "outputs": [
        {
          "output_type": "execute_result",
          "data": {
            "text/plain": [
              "(3736, 4)"
            ]
          },
          "metadata": {},
          "execution_count": 18
        }
      ],
      "source": [
        "data.shape"
      ]
    },
    {
      "cell_type": "code",
      "execution_count": null,
      "id": "b51efe72",
      "metadata": {
        "colab": {
          "base_uri": "https://localhost:8080/",
          "height": 660
        },
        "id": "b51efe72",
        "outputId": "729bd0ba-6ddf-49dc-98bc-7ce0cd4b1ae7"
      },
      "outputs": [
        {
          "output_type": "execute_result",
          "data": {
            "text/plain": [
              "                                                 URLs  \\\n",
              "5   http://beforeitsnews.com/sports/2017/09/jetnat...   \n",
              "10  https://www.activistpost.com/2017/09/u-s-presi...   \n",
              "11  http://beforeitsnews.com/sports/2017/10/2017-f...   \n",
              "12  http://beforeitsnews.com/sports/2017/09/just-s...   \n",
              "14  http://beforeitsnews.com/sports/2017/10/107-ch...   \n",
              "\n",
              "                                             Headline  \\\n",
              "5                    JetNation FanDuel League; Week 4   \n",
              "10  U.S. President Donald Trump Quietly Signs Law ...   \n",
              "11  2017 Fantasy Football Team Defense Rankings - ...   \n",
              "12           Just Shut Up & Play Some Damn Baseball!!   \n",
              "14  10/7: Chuck Axed; HBD Brickyard, Adam, Moonlig...   \n",
              "\n",
              "                                                 Body  Label  \n",
              "5   JetNation FanDuel League; Week 4\\n% of readers...      0  \n",
              "10  By Aaron Kesel\\nAs former White House chief of...      0  \n",
              "11  2017 Fantasy Football Team Defense Rankings – ...      0  \n",
              "12  Just Shut Up & Play Some Damn Baseball!!\\n(Bef...      0  \n",
              "14  A Potato Battery Can Light up a Room for Over ...      0  "
            ],
            "text/html": [
              "\n",
              "  <div id=\"df-0a0f35f9-855c-4f6e-89de-3827ce1b35b3\" class=\"colab-df-container\">\n",
              "    <div>\n",
              "<style scoped>\n",
              "    .dataframe tbody tr th:only-of-type {\n",
              "        vertical-align: middle;\n",
              "    }\n",
              "\n",
              "    .dataframe tbody tr th {\n",
              "        vertical-align: top;\n",
              "    }\n",
              "\n",
              "    .dataframe thead th {\n",
              "        text-align: right;\n",
              "    }\n",
              "</style>\n",
              "<table border=\"1\" class=\"dataframe\">\n",
              "  <thead>\n",
              "    <tr style=\"text-align: right;\">\n",
              "      <th></th>\n",
              "      <th>URLs</th>\n",
              "      <th>Headline</th>\n",
              "      <th>Body</th>\n",
              "      <th>Label</th>\n",
              "    </tr>\n",
              "  </thead>\n",
              "  <tbody>\n",
              "    <tr>\n",
              "      <th>5</th>\n",
              "      <td>http://beforeitsnews.com/sports/2017/09/jetnat...</td>\n",
              "      <td>JetNation FanDuel League; Week 4</td>\n",
              "      <td>JetNation FanDuel League; Week 4\\n% of readers...</td>\n",
              "      <td>0</td>\n",
              "    </tr>\n",
              "    <tr>\n",
              "      <th>10</th>\n",
              "      <td>https://www.activistpost.com/2017/09/u-s-presi...</td>\n",
              "      <td>U.S. President Donald Trump Quietly Signs Law ...</td>\n",
              "      <td>By Aaron Kesel\\nAs former White House chief of...</td>\n",
              "      <td>0</td>\n",
              "    </tr>\n",
              "    <tr>\n",
              "      <th>11</th>\n",
              "      <td>http://beforeitsnews.com/sports/2017/10/2017-f...</td>\n",
              "      <td>2017 Fantasy Football Team Defense Rankings - ...</td>\n",
              "      <td>2017 Fantasy Football Team Defense Rankings – ...</td>\n",
              "      <td>0</td>\n",
              "    </tr>\n",
              "    <tr>\n",
              "      <th>12</th>\n",
              "      <td>http://beforeitsnews.com/sports/2017/09/just-s...</td>\n",
              "      <td>Just Shut Up &amp; Play Some Damn Baseball!!</td>\n",
              "      <td>Just Shut Up &amp; Play Some Damn Baseball!!\\n(Bef...</td>\n",
              "      <td>0</td>\n",
              "    </tr>\n",
              "    <tr>\n",
              "      <th>14</th>\n",
              "      <td>http://beforeitsnews.com/sports/2017/10/107-ch...</td>\n",
              "      <td>10/7: Chuck Axed; HBD Brickyard, Adam, Moonlig...</td>\n",
              "      <td>A Potato Battery Can Light up a Room for Over ...</td>\n",
              "      <td>0</td>\n",
              "    </tr>\n",
              "  </tbody>\n",
              "</table>\n",
              "</div>\n",
              "    <div class=\"colab-df-buttons\">\n",
              "\n",
              "  <div class=\"colab-df-container\">\n",
              "    <button class=\"colab-df-convert\" onclick=\"convertToInteractive('df-0a0f35f9-855c-4f6e-89de-3827ce1b35b3')\"\n",
              "            title=\"Convert this dataframe to an interactive table.\"\n",
              "            style=\"display:none;\">\n",
              "\n",
              "  <svg xmlns=\"http://www.w3.org/2000/svg\" height=\"24px\" viewBox=\"0 -960 960 960\">\n",
              "    <path d=\"M120-120v-720h720v720H120Zm60-500h600v-160H180v160Zm220 220h160v-160H400v160Zm0 220h160v-160H400v160ZM180-400h160v-160H180v160Zm440 0h160v-160H620v160ZM180-180h160v-160H180v160Zm440 0h160v-160H620v160Z\"/>\n",
              "  </svg>\n",
              "    </button>\n",
              "\n",
              "  <style>\n",
              "    .colab-df-container {\n",
              "      display:flex;\n",
              "      gap: 12px;\n",
              "    }\n",
              "\n",
              "    .colab-df-convert {\n",
              "      background-color: #E8F0FE;\n",
              "      border: none;\n",
              "      border-radius: 50%;\n",
              "      cursor: pointer;\n",
              "      display: none;\n",
              "      fill: #1967D2;\n",
              "      height: 32px;\n",
              "      padding: 0 0 0 0;\n",
              "      width: 32px;\n",
              "    }\n",
              "\n",
              "    .colab-df-convert:hover {\n",
              "      background-color: #E2EBFA;\n",
              "      box-shadow: 0px 1px 2px rgba(60, 64, 67, 0.3), 0px 1px 3px 1px rgba(60, 64, 67, 0.15);\n",
              "      fill: #174EA6;\n",
              "    }\n",
              "\n",
              "    .colab-df-buttons div {\n",
              "      margin-bottom: 4px;\n",
              "    }\n",
              "\n",
              "    [theme=dark] .colab-df-convert {\n",
              "      background-color: #3B4455;\n",
              "      fill: #D2E3FC;\n",
              "    }\n",
              "\n",
              "    [theme=dark] .colab-df-convert:hover {\n",
              "      background-color: #434B5C;\n",
              "      box-shadow: 0px 1px 3px 1px rgba(0, 0, 0, 0.15);\n",
              "      filter: drop-shadow(0px 1px 2px rgba(0, 0, 0, 0.3));\n",
              "      fill: #FFFFFF;\n",
              "    }\n",
              "  </style>\n",
              "\n",
              "    <script>\n",
              "      const buttonEl =\n",
              "        document.querySelector('#df-0a0f35f9-855c-4f6e-89de-3827ce1b35b3 button.colab-df-convert');\n",
              "      buttonEl.style.display =\n",
              "        google.colab.kernel.accessAllowed ? 'block' : 'none';\n",
              "\n",
              "      async function convertToInteractive(key) {\n",
              "        const element = document.querySelector('#df-0a0f35f9-855c-4f6e-89de-3827ce1b35b3');\n",
              "        const dataTable =\n",
              "          await google.colab.kernel.invokeFunction('convertToInteractive',\n",
              "                                                    [key], {});\n",
              "        if (!dataTable) return;\n",
              "\n",
              "        const docLinkHtml = 'Like what you see? Visit the ' +\n",
              "          '<a target=\"_blank\" href=https://colab.research.google.com/notebooks/data_table.ipynb>data table notebook</a>'\n",
              "          + ' to learn more about interactive tables.';\n",
              "        element.innerHTML = '';\n",
              "        dataTable['output_type'] = 'display_data';\n",
              "        await google.colab.output.renderOutput(dataTable, element);\n",
              "        const docLink = document.createElement('div');\n",
              "        docLink.innerHTML = docLinkHtml;\n",
              "        element.appendChild(docLink);\n",
              "      }\n",
              "    </script>\n",
              "  </div>\n",
              "\n",
              "\n",
              "<div id=\"df-43f35b72-fe8e-4b02-9d2f-80fcfafb6b12\">\n",
              "  <button class=\"colab-df-quickchart\" onclick=\"quickchart('df-43f35b72-fe8e-4b02-9d2f-80fcfafb6b12')\"\n",
              "            title=\"Suggest charts\"\n",
              "            style=\"display:none;\">\n",
              "\n",
              "<svg xmlns=\"http://www.w3.org/2000/svg\" height=\"24px\"viewBox=\"0 0 24 24\"\n",
              "     width=\"24px\">\n",
              "    <g>\n",
              "        <path d=\"M19 3H5c-1.1 0-2 .9-2 2v14c0 1.1.9 2 2 2h14c1.1 0 2-.9 2-2V5c0-1.1-.9-2-2-2zM9 17H7v-7h2v7zm4 0h-2V7h2v10zm4 0h-2v-4h2v4z\"/>\n",
              "    </g>\n",
              "</svg>\n",
              "  </button>\n",
              "\n",
              "<style>\n",
              "  .colab-df-quickchart {\n",
              "      --bg-color: #E8F0FE;\n",
              "      --fill-color: #1967D2;\n",
              "      --hover-bg-color: #E2EBFA;\n",
              "      --hover-fill-color: #174EA6;\n",
              "      --disabled-fill-color: #AAA;\n",
              "      --disabled-bg-color: #DDD;\n",
              "  }\n",
              "\n",
              "  [theme=dark] .colab-df-quickchart {\n",
              "      --bg-color: #3B4455;\n",
              "      --fill-color: #D2E3FC;\n",
              "      --hover-bg-color: #434B5C;\n",
              "      --hover-fill-color: #FFFFFF;\n",
              "      --disabled-bg-color: #3B4455;\n",
              "      --disabled-fill-color: #666;\n",
              "  }\n",
              "\n",
              "  .colab-df-quickchart {\n",
              "    background-color: var(--bg-color);\n",
              "    border: none;\n",
              "    border-radius: 50%;\n",
              "    cursor: pointer;\n",
              "    display: none;\n",
              "    fill: var(--fill-color);\n",
              "    height: 32px;\n",
              "    padding: 0;\n",
              "    width: 32px;\n",
              "  }\n",
              "\n",
              "  .colab-df-quickchart:hover {\n",
              "    background-color: var(--hover-bg-color);\n",
              "    box-shadow: 0 1px 2px rgba(60, 64, 67, 0.3), 0 1px 3px 1px rgba(60, 64, 67, 0.15);\n",
              "    fill: var(--button-hover-fill-color);\n",
              "  }\n",
              "\n",
              "  .colab-df-quickchart-complete:disabled,\n",
              "  .colab-df-quickchart-complete:disabled:hover {\n",
              "    background-color: var(--disabled-bg-color);\n",
              "    fill: var(--disabled-fill-color);\n",
              "    box-shadow: none;\n",
              "  }\n",
              "\n",
              "  .colab-df-spinner {\n",
              "    border: 2px solid var(--fill-color);\n",
              "    border-color: transparent;\n",
              "    border-bottom-color: var(--fill-color);\n",
              "    animation:\n",
              "      spin 1s steps(1) infinite;\n",
              "  }\n",
              "\n",
              "  @keyframes spin {\n",
              "    0% {\n",
              "      border-color: transparent;\n",
              "      border-bottom-color: var(--fill-color);\n",
              "      border-left-color: var(--fill-color);\n",
              "    }\n",
              "    20% {\n",
              "      border-color: transparent;\n",
              "      border-left-color: var(--fill-color);\n",
              "      border-top-color: var(--fill-color);\n",
              "    }\n",
              "    30% {\n",
              "      border-color: transparent;\n",
              "      border-left-color: var(--fill-color);\n",
              "      border-top-color: var(--fill-color);\n",
              "      border-right-color: var(--fill-color);\n",
              "    }\n",
              "    40% {\n",
              "      border-color: transparent;\n",
              "      border-right-color: var(--fill-color);\n",
              "      border-top-color: var(--fill-color);\n",
              "    }\n",
              "    60% {\n",
              "      border-color: transparent;\n",
              "      border-right-color: var(--fill-color);\n",
              "    }\n",
              "    80% {\n",
              "      border-color: transparent;\n",
              "      border-right-color: var(--fill-color);\n",
              "      border-bottom-color: var(--fill-color);\n",
              "    }\n",
              "    90% {\n",
              "      border-color: transparent;\n",
              "      border-bottom-color: var(--fill-color);\n",
              "    }\n",
              "  }\n",
              "</style>\n",
              "\n",
              "  <script>\n",
              "    async function quickchart(key) {\n",
              "      const quickchartButtonEl =\n",
              "        document.querySelector('#' + key + ' button');\n",
              "      quickchartButtonEl.disabled = true;  // To prevent multiple clicks.\n",
              "      quickchartButtonEl.classList.add('colab-df-spinner');\n",
              "      try {\n",
              "        const charts = await google.colab.kernel.invokeFunction(\n",
              "            'suggestCharts', [key], {});\n",
              "      } catch (error) {\n",
              "        console.error('Error during call to suggestCharts:', error);\n",
              "      }\n",
              "      quickchartButtonEl.classList.remove('colab-df-spinner');\n",
              "      quickchartButtonEl.classList.add('colab-df-quickchart-complete');\n",
              "    }\n",
              "    (() => {\n",
              "      let quickchartButtonEl =\n",
              "        document.querySelector('#df-43f35b72-fe8e-4b02-9d2f-80fcfafb6b12 button');\n",
              "      quickchartButtonEl.style.display =\n",
              "        google.colab.kernel.accessAllowed ? 'block' : 'none';\n",
              "    })();\n",
              "  </script>\n",
              "</div>\n",
              "\n",
              "    </div>\n",
              "  </div>\n"
            ],
            "application/vnd.google.colaboratory.intrinsic+json": {
              "type": "dataframe",
              "variable_name": "data",
              "summary": "{\n  \"name\": \"data\",\n  \"rows\": 3736,\n  \"fields\": [\n    {\n      \"column\": \"URLs\",\n      \"properties\": {\n        \"dtype\": \"string\",\n        \"num_unique_values\": 3164,\n        \"samples\": [\n          \"https://www.reuters.com/article/us-m-t-bnk-us-wilmingtontrust-crime/u-s-opens-rare-criminal-trial-versus-bank-stemming-from-2008-crisis-idUSKBN1CF1B1\\r\\n\",\n          \"http://beforeitsnews.com/u-s-politics/2017/09/democrats-and-media-try-to-turn-puerto-rico-into-trumps-katrina-2536938.html\\r\\n\",\n          \"https://www.activistpost.com/2017/09/scott-horton-talks-foreign-policy-vin-armani.html\\r\\n\"\n        ],\n        \"semantic_type\": \"\",\n        \"description\": \"\"\n      }\n    },\n    {\n      \"column\": \"Headline\",\n      \"properties\": {\n        \"dtype\": \"string\",\n        \"num_unique_values\": 2726,\n        \"samples\": [\n          \"Germany\\u2019s Angela Merkel Agrees to Limits on Accepting Refugees\",\n          \"Titans Fail to Call Kaepernick Two Weeks After ENTIRE Team Protested for Him\",\n          \"Brandon Saad is the spark the Chicago Blackhawks need\"\n        ],\n        \"semantic_type\": \"\",\n        \"description\": \"\"\n      }\n    },\n    {\n      \"column\": \"Body\",\n      \"properties\": {\n        \"dtype\": \"string\",\n        \"num_unique_values\": 2751,\n        \"samples\": [\n          \"SAN FRANCISCO (Reuters) - When data center operator Switch Inc goes public on Friday it will be the latest tech firm using special shares to limit the rights of minority investors, making it ineligible for inclusion in the S&P 500 under new rules meant to deter such practices.\\nThe Las Vegas company, run by enigmatic founder and Chief Executive Officer Rob Roy, plans to sell 31.3 million shares in an initial public offer late on Thursday for between $14 and $16 a piece, which would raise nearly $500 million and make it the largest technology listing this year after Snap Inc .\\nUnderwriters closed their order book late on Wednesday and the deal was oversubscribed, according to a source close to the IPO.\\nRoy, who describes himself as an \\u201cinventrepreneur\\u201d and \\u201ctech futurist,\\u201d will have 68 percent of voting power following the IPO, thanks to a special share class providing 10 votes per share.\\nThat will keep Switch out of the S&P 500 and other related indexes under new rules instituted by S&P Dow Jones in July after Snap sold shares without any voting rights in its $3.4 billion IPO earlier this year.\\nRule changes enacted last month for FTSE Russell indexes, also in reaction to Snap, require new constituents of its indexes to have at least 5 percent of their voting rights in the hands of public shareholders.\\nThe shares being sold in Switch\\u2019s IPO will include 4.9 percent of the company\\u2019s voting rights, or 5.6 percent if underwriters exercise an option to buy additional shares.\\nIn its IPO filing and a profile of Roy on the company website, Switch gives no details about what he did before founding the company in 2000 or his academic qualifications. The profile describes him as \\u201ca recognized expert in advanced end-to-end solutions for mission-critical facilities.\\u201d\\nA company spokesman declined to provide additional information about Roy, and he does not appear in a 38-minute video marketing the IPO.\\nThe IPO could value Switch, which operates three data centers in Michigan and Nevada, at almost $4 billion.\\nSnap co-founder Evan Spiegel was well known to Wall Street ahead of the Snapchat-owner\\u2019s February share offer, with many investors essentially betting on his talent. With Roy less known, investors may be taking a greater risk on a company in which they will have little say.\\n\\u201cInvestors do look at voting control as well as the price you pay. If you put so much stock in the CEO, normally he\\u2019s going to part of the sales pitch for the company,\\u201d said Ken Bertsch, Executive Director of the Council of Institutional Investors, which represents top U.S. pension funds.\\nAs many of 15 percent of U.S. IPOs in recent years have used dual share classes meant to give insiders outsized voting rights, according to the Council of Institutional Investors.\\nInclusion in a stock index can be an important milestone for young companies, bringing their shares into many passive funds and others that closely follow indexes like the S&P 500, a guide for trillions of dollars of capital worldwide.\\nOther companies excluded from major indexes under their new rules include video-streaming company Roku Inc , whose IPO last week kept 97 percent of voting power with insiders. Software seller Mulesoft Inc\\u2019s IPO in February included a share class with 10 votes per share, as did Blue Apron Holdings Inc in its June debut.\\nSuggesting that the tide may be turning toward sharing power with minority investors, privately-held ride-hailing company Uber on Tuesday said it would abandon a dual share class system that favored insiders including former Chief Executive Travis Kalanick.\\nResponding to a shareholder lawsuit, Facebook Inc in September gave up plans for a new class of stock that was meant to be a way for Mark Zuckerberg to retain control over the company he founded while fulfilling a pledge to give away his wealth.\\nReporting by Noel Randewich, additional reporting Stephen Nellis and Dan Levine in San Francisco, and Ross Kerber in Boston; Editing by Tom Brown\",\n          \"Trump Offers Dems a Deal on Healthcare, Schumer Says Obamacare \\u2018Off the Table\\u2019\\n(Before It's News)\\nCDN \\u2013 http://www.conservativedailynews.com\\nBy Rich Mitchell -\\nPresident Donald Trump called Senate Minority Leader Chuck Schumer Friday to see if Democrats would be willing to work out a deal to replace Obama\\u2019s failing healthcare law. Schumer (D-NY) told him that doing so is \\u201coff the table.\\u201d Americans are suffering under the oppressive premium increases and terrible healthcare plans Obamacare has thrust upon them. Families have had to switch to doctors they don\\u2019t want and pay premiums they can\\u2019t afford just to get deductibles so high they end up paying out-of-pocket for just about everything \\u2013 basically its expensive insurance that doesn\\u2019t work. The House of Representatives passed a replacement bill earlier this year but the Senate has been unable to get anything done on health care. Therefore, President Trump offered Democrats a chance to fix their awful health care plan. Mr. Trump said he asked Schumer if Democrats \\u201cwant to do a great health care bill,\\u201d because Obamacare is \\u201cbadly broken.\\u201d I called Chuck Schumer yesterday to see if the Dems want to do a great HealthCare Bill. ObamaCare is badly broken, big premiums. Who knows! \\u2014 Donald J. Trump (@realDonaldTrump) October 7, 2017 But Democrats aren\\u2019t open to cooperating on health care, something Schumer said he \\u2026\\nTrump Offers Dems a Deal on Healthcare, Schumer Says Obamacare \\u2018Off the Table\\u2019 is original content from Conservative Daily News \\u2013 Conservative Daily News \\u2013 Where true Americans go for news, current events and commentary they can trust.\\nCDN \\u2013 http://www.conservativedailynews.com\\nSource: https://www.conservativedailynews.com/2017/10/trump-offers-dems-deal-healthcare-schumer-says-obamacare-off-table/\",\n          \"\\u201cI think all that strife, it kind of helped me and Margo both break down the barrier of caring what people thought about what we were doing,,\\u201d Mr. Ivey said.\\nThe couple had twins, then lost one to a rare heart ailment in 2010. Ms. Price dealt with the loss, along with feelings of professional failure, by self-medicating with alcohol. Over the years, she and Mr. Ivey hocked a house\\u2019s worth of prized gear and personal possessions to buy food, cover touring expenses and record \\u201cMidwest Farmer\\u2019s Daughter\\u201d at Sun Studio in Memphis.\\n\\u201cIt kind of felt like there was the symbolism of it: We\\u2019re willing to put up the car, the wedding ring,\\u201d she said. \\u201cWe would rather have this album exist out here, even if nothing would have happened to it. Maybe 20, 30 years down the road, or after I\\u2019m dead, somebody would find it and it would become a cult thing like Nick Drake, you know?\\u201d\\nPhoto\\nThings could have gone that way. Several indie imprints and at least one major country label passed on her music. She was hesitant to approach Third Man again, but eventually scheduled a meeting and was asked to cut a direct-to-acetate record on the spot. \\u201cI didn\\u2019t find out until months later that Jack was listening through the wall,\\u201d she said. \\u201cI guess they wanted to see that I could sing and play and that the album wasn\\u2019t all Auto-Tuned or something.\\u201d\\nNewsletter Sign Up Continue reading the main story Sign Up for the Louder Newsletter Every week, stay on top of the latest in pop and jazz with reviews, interviews, podcasts and more from The New York Times music critics. Please verify you're not a robot by clicking the box. Invalid email address. Please re-enter. You must select a newsletter to subscribe to. Sign Up You agree to receive occasional updates and special offers for The New York Times's products and services. Thank you for subscribing. An error has occurred. Please try again later. View all New York Times newsletters.\\nThe involvement of Third Man turned heads, and buzz morphed into bankable popularity and institutional recognition. She was booked on \\u201cSaturday Night Live,\\u201d then on a Chris Stapleton tour; won Emerging Artist of the Year at the Americana Awards; saw her prairie hometown Aledo, Ill., erect a sign declaring itself \\u201cHome of Country Music Stars Suzy Bogguss and Margo Price\\u201d; and lent the dress she wore on \\u201cS.N.L.,\\u201d along with an old guitar and strap, to an exhibition at the Country Music Hall of Fame and Museum.\\n\\u201cThat was surreal,\\u201d she said of watching the curators treat her clothes like artifacts. \\u201cI was like, \\u2018So you guys want to put this in a shiny glass case, and it\\u2019s just laying on my dresser collecting dust?\\u2019\\u201d\\nThe success of her debut allowed Ms. Price a comparatively leisurely recording process at the newly refurbished Sam Phillips Recording for its follow-up. She varies her singing approach, here projecting a note with the blazing, bell-like clarity of Neko Case, there summoning her voice\\u2019s sweeter, more lilting qualities. \\u201cIf the groove wasn\\u2019t sitting exactly the way we wanted or we couldn\\u2019t get the vibe right,\\u201d she recalled, \\u201cit was like, \\u2018Well, there\\u2019s no stress. Let\\u2019s go eat some ribs and then come back and play it again.\\u2019\\u201d\\nAdvertisement Continue reading the main story\\nMr. Ivey played guitar and bass on the album and wrote seven of the songs with Ms. Price and one alone, but he stepped away from full-time touring when a finger injury sidelined him last year. Now he typically stays home with their son, Judah, a role she called \\u201cevery bit as important as mine,\\u201d although outsiders haven\\u2019t always agreed \\u2014 giving her more fuel for songs.\\nWriting \\u201cWild Women,\\u201d \\u201cI was at a point where I was so tired of being asked those same questions that I didn\\u2019t think were fair,\\u201d she said. \\u201cLike, \\u2018I bet you feel a lot of guilt leaving your kid at home.\\u2019 Would you ask a man that? No, you would not.\\u201d\\nIn \\u201cPay Gap,\\u201d Ms. Price reckons with the income disparities that women and minorities still face. In \\u201cHeart of America\\u201d and the title track she shifts from detailing the loss of her family\\u2019s farm to telling the stories of others who have been victims of the system. She said she tried to get the exact story of what happened from relatives, \\u201cBut it\\u2019s so complicated and the farming industry has so many layers.\\u201d\\nMs. Price has surrounded herself with a team that supports her speaking her mind. \\u201cNone of us are trying to edit her or to temper anything that she has to say,\\u201d said Ian Montone, the manager she shares with Mr. White. \\u201cIt\\u2019s her music. Those are her songs. When it comes to her writing, [we\\u2019re] really not trying to edit or say, \\u2018Hey, look, mainstream country radio won\\u2019t play this song if you talk about this. You might want to be conscious of that.\\u2019 No way.\\u201d\\nThe barriers are sonic too, said Jim Asker, the country charts manager for Billboard. \\u201cIf you listen to country radio, that\\u2019s just not where it\\u2019s at right now,\\u201d he said of Ms. Price\\u2019s sound. \\u201cIf you ask programmers who are aware of her, they might tell you, \\u2018Oh, she\\u2019s an Americana artist.\\u2019\\u201d He added that hit country singles are the results of \\u201ca lot of setup at radio,\\u201d which requires considerable promotional muscle.\\nAfter briefly experiencing the gauntlet of glad-handing that is a country radio tour, Ms. Price had concluded, \\u201cThis isn\\u2019t working.\\u201d But \\u201cMidwest Farmer\\u2019s Daughter\\u201d made her the first solo female act to debut in the Top 10 of the Billboard country albums chart without ever having landed a single on the Hot Country Songs chart.\\nMs. Price has found it far more comfortable currying favor with a more nonconforming power broker: Willie Nelson. He\\u2019s invited her to open shows and to play both his annual Fourth of July picnic and Farm Aid, the long-running benefit concert for family farmers he co-founded. He\\u2019s also her jazzily wayward duet partner and guest guitarist on \\u201cLearning to Lose,\\u201d and her most immediate model for building a variegated body of work on a country foundation.\\nPhoto\\n\\u201cShe\\u2019s an amazing talent,\\u201d Mr. Nelson said in an interview, adding that he listened to Ms. Price\\u2019s show before his own set several nights in a row, \\u201cand she was just nailing everything, knocking it out. The fact that she wanted me to do a duet with her is a great compliment.\\u201d\\nRegardless of where the new album lands her, Ms. Price isn\\u2019t inclined to take her groundedness for granted. She\\u2019s been doing her best to stay plugged into the bohemian East Nashville scene where she\\u2019s long found kindred spirits among musicians who thrive on refracting the city\\u2019s music history through the recalcitrance of indie rock and idealism of folk. One night, she sang three songs at the Grand Ole Opry, then jumped in her Ford F-150 and sped over to a tiny rock club to participate in a Neil Young tribute with friends.\\nAdvertisement Continue reading the main story\\nIn August, she made a vague announcement on Instagram that she was going to play a show somewhere on the city\\u2019s east side, and most locals knew to find her at American Legion Post 82. Couples waltzed to a band of old-timers that opened the night, but the dance floor was too packed to move by the time Ms. Price went on. She closed her set by climbing down from the stage and singing \\u201cHurtin\\u2019 (On the Bottle)\\u201d from the middle of the crowd. The move was one part rock star bravado and three parts sweaty solidarity.\"\n        ],\n        \"semantic_type\": \"\",\n        \"description\": \"\"\n      }\n    },\n    {\n      \"column\": \"Label\",\n      \"properties\": {\n        \"dtype\": \"number\",\n        \"std\": 0,\n        \"min\": 0,\n        \"max\": 1,\n        \"num_unique_values\": 2,\n        \"samples\": [\n          1,\n          0\n        ],\n        \"semantic_type\": \"\",\n        \"description\": \"\"\n      }\n    }\n  ]\n}"
            }
          },
          "metadata": {},
          "execution_count": 19
        }
      ],
      "source": [
        "data.head()"
      ]
    },
    {
      "cell_type": "code",
      "execution_count": null,
      "id": "62a3eaf2",
      "metadata": {
        "colab": {
          "base_uri": "https://localhost:8080/",
          "height": 570
        },
        "id": "62a3eaf2",
        "outputId": "7172c772-71dd-4fe0-b9a8-2492de7c40e2"
      },
      "outputs": [
        {
          "output_type": "display_data",
          "data": {
            "text/plain": [
              "<Figure size 1500x700 with 1 Axes>"
            ],
            "image/png": "[encoded data removed]"
          },
          "metadata": {}
        }
      ],
      "source": [
        "plt.figure(figsize=(15,7))\n",
        "data.groupby('Label').count()['Body'].plot.bar(title=\"Number of news per category\")\n",
        "plt.xlabel('class')\n",
        "plt.ylabel('freaaquency')\n",
        "plt.show()"
      ]
    },
    {
      "cell_type": "code",
      "execution_count": null,
      "id": "c9d630be",
      "metadata": {
        "id": "c9d630be"
      },
      "outputs": [],
      "source": [
        "import re\n",
        "from nltk.tokenize import RegexpTokenizer"
      ]
    },
    {
      "cell_type": "raw",
      "id": "d71c4142",
      "metadata": {
        "id": "d71c4142"
      },
      "source": [
        "### Concatenate both Body and Headline together"
      ]
    },
    {
      "cell_type": "code",
      "execution_count": null,
      "id": "397fe32e",
      "metadata": {
        "id": "397fe32e"
      },
      "outputs": [],
      "source": [
        "data['text'] = data['Headline'] + \" \" + data['Body']\n",
        "data = data.drop(columns = ['Headline', 'Body'])"
      ]
    },
    {
      "cell_type": "code",
      "execution_count": null,
      "id": "e80246b0",
      "metadata": {
        "colab": {
          "base_uri": "https://localhost:8080/",
          "height": 206
        },
        "id": "e80246b0",
        "outputId": "cebfe374-3d3d-4c83-a649-5e4eecdde77d"
      },
      "outputs": [
        {
          "output_type": "execute_result",
          "data": {
            "text/plain": [
              "                                                 URLs  Label  \\\n",
              "5   http://beforeitsnews.com/sports/2017/09/jetnat...      0   \n",
              "10  https://www.activistpost.com/2017/09/u-s-presi...      0   \n",
              "11  http://beforeitsnews.com/sports/2017/10/2017-f...      0   \n",
              "12  http://beforeitsnews.com/sports/2017/09/just-s...      0   \n",
              "14  http://beforeitsnews.com/sports/2017/10/107-ch...      0   \n",
              "\n",
              "                                                 text  \n",
              "5   JetNation FanDuel League; Week 4 JetNation Fan...  \n",
              "10  U.S. President Donald Trump Quietly Signs Law ...  \n",
              "11  2017 Fantasy Football Team Defense Rankings - ...  \n",
              "12  Just Shut Up & Play Some Damn Baseball!! Just ...  \n",
              "14  10/7: Chuck Axed; HBD Brickyard, Adam, Moonlig...  "
            ],
            "text/html": [
              "\n",
              "  <div id=\"df-c7a3a329-f637-4108-b22b-e2d5c10b675f\" class=\"colab-df-container\">\n",
              "    <div>\n",
              "<style scoped>\n",
              "    .dataframe tbody tr th:only-of-type {\n",
              "        vertical-align: middle;\n",
              "    }\n",
              "\n",
              "    .dataframe tbody tr th {\n",
              "        vertical-align: top;\n",
              "    }\n",
              "\n",
              "    .dataframe thead th {\n",
              "        text-align: right;\n",
              "    }\n",
              "</style>\n",
              "<table border=\"1\" class=\"dataframe\">\n",
              "  <thead>\n",
              "    <tr style=\"text-align: right;\">\n",
              "      <th></th>\n",
              "      <th>URLs</th>\n",
              "      <th>Label</th>\n",
              "      <th>text</th>\n",
              "    </tr>\n",
              "  </thead>\n",
              "  <tbody>\n",
              "    <tr>\n",
              "      <th>5</th>\n",
              "      <td>http://beforeitsnews.com/sports/2017/09/jetnat...</td>\n",
              "      <td>0</td>\n",
              "      <td>JetNation FanDuel League; Week 4 JetNation Fan...</td>\n",
              "    </tr>\n",
              "    <tr>\n",
              "      <th>10</th>\n",
              "      <td>https://www.activistpost.com/2017/09/u-s-presi...</td>\n",
              "      <td>0</td>\n",
              "      <td>U.S. President Donald Trump Quietly Signs Law ...</td>\n",
              "    </tr>\n",
              "    <tr>\n",
              "      <th>11</th>\n",
              "      <td>http://beforeitsnews.com/sports/2017/10/2017-f...</td>\n",
              "      <td>0</td>\n",
              "      <td>2017 Fantasy Football Team Defense Rankings - ...</td>\n",
              "    </tr>\n",
              "    <tr>\n",
              "      <th>12</th>\n",
              "      <td>http://beforeitsnews.com/sports/2017/09/just-s...</td>\n",
              "      <td>0</td>\n",
              "      <td>Just Shut Up &amp; Play Some Damn Baseball!! Just ...</td>\n",
              "    </tr>\n",
              "    <tr>\n",
              "      <th>14</th>\n",
              "      <td>http://beforeitsnews.com/sports/2017/10/107-ch...</td>\n",
              "      <td>0</td>\n",
              "      <td>10/7: Chuck Axed; HBD Brickyard, Adam, Moonlig...</td>\n",
              "    </tr>\n",
              "  </tbody>\n",
              "</table>\n",
              "</div>\n",
              "    <div class=\"colab-df-buttons\">\n",
              "\n",
              "  <div class=\"colab-df-container\">\n",
              "    <button class=\"colab-df-convert\" onclick=\"convertToInteractive('df-c7a3a329-f637-4108-b22b-e2d5c10b675f')\"\n",
              "            title=\"Convert this dataframe to an interactive table.\"\n",
              "            style=\"display:none;\">\n",
              "\n",
              "  <svg xmlns=\"http://www.w3.org/2000/svg\" height=\"24px\" viewBox=\"0 -960 960 960\">\n",
              "    <path d=\"M120-120v-720h720v720H120Zm60-500h600v-160H180v160Zm220 220h160v-160H400v160Zm0 220h160v-160H400v160ZM180-400h160v-160H180v160Zm440 0h160v-160H620v160ZM180-180h160v-160H180v160Zm440 0h160v-160H620v160Z\"/>\n",
              "  </svg>\n",
              "    </button>\n",
              "\n",
              "  <style>\n",
              "    .colab-df-container {\n",
              "      display:flex;\n",
              "      gap: 12px;\n",
              "    }\n",
              "\n",
              "    .colab-df-convert {\n",
              "      background-color: #E8F0FE;\n",
              "      border: none;\n",
              "      border-radius: 50%;\n",
              "      cursor: pointer;\n",
              "      display: none;\n",
              "      fill: #1967D2;\n",
              "      height: 32px;\n",
              "      padding: 0 0 0 0;\n",
              "      width: 32px;\n",
              "    }\n",
              "\n",
              "    .colab-df-convert:hover {\n",
              "      background-color: #E2EBFA;\n",
              "      box-shadow: 0px 1px 2px rgba(60, 64, 67, 0.3), 0px 1px 3px 1px rgba(60, 64, 67, 0.15);\n",
              "      fill: #174EA6;\n",
              "    }\n",
              "\n",
              "    .colab-df-buttons div {\n",
              "      margin-bottom: 4px;\n",
              "    }\n",
              "\n",
              "    [theme=dark] .colab-df-convert {\n",
              "      background-color: #3B4455;\n",
              "      fill: #D2E3FC;\n",
              "    }\n",
              "\n",
              "    [theme=dark] .colab-df-convert:hover {\n",
              "      background-color: #434B5C;\n",
              "      box-shadow: 0px 1px 3px 1px rgba(0, 0, 0, 0.15);\n",
              "      filter: drop-shadow(0px 1px 2px rgba(0, 0, 0, 0.3));\n",
              "      fill: #FFFFFF;\n",
              "    }\n",
              "  </style>\n",
              "\n",
              "    <script>\n",
              "      const buttonEl =\n",
              "        document.querySelector('#df-c7a3a329-f637-4108-b22b-e2d5c10b675f button.colab-df-convert');\n",
              "      buttonEl.style.display =\n",
              "        google.colab.kernel.accessAllowed ? 'block' : 'none';\n",
              "\n",
              "      async function convertToInteractive(key) {\n",
              "        const element = document.querySelector('#df-c7a3a329-f637-4108-b22b-e2d5c10b675f');\n",
              "        const dataTable =\n",
              "          await google.colab.kernel.invokeFunction('convertToInteractive',\n",
              "                                                    [key], {});\n",
              "        if (!dataTable) return;\n",
              "\n",
              "        const docLinkHtml = 'Like what you see? Visit the ' +\n",
              "          '<a target=\"_blank\" href=https://colab.research.google.com/notebooks/data_table.ipynb>data table notebook</a>'\n",
              "          + ' to learn more about interactive tables.';\n",
              "        element.innerHTML = '';\n",
              "        dataTable['output_type'] = 'display_data';\n",
              "        await google.colab.output.renderOutput(dataTable, element);\n",
              "        const docLink = document.createElement('div');\n",
              "        docLink.innerHTML = docLinkHtml;\n",
              "        element.appendChild(docLink);\n",
              "      }\n",
              "    </script>\n",
              "  </div>\n",
              "\n",
              "\n",
              "<div id=\"df-b3404c86-d194-4115-913c-3b62e97f85d3\">\n",
              "  <button class=\"colab-df-quickchart\" onclick=\"quickchart('df-b3404c86-d194-4115-913c-3b62e97f85d3')\"\n",
              "            title=\"Suggest charts\"\n",
              "            style=\"display:none;\">\n",
              "\n",
              "<svg xmlns=\"http://www.w3.org/2000/svg\" height=\"24px\"viewBox=\"0 0 24 24\"\n",
              "     width=\"24px\">\n",
              "    <g>\n",
              "        <path d=\"M19 3H5c-1.1 0-2 .9-2 2v14c0 1.1.9 2 2 2h14c1.1 0 2-.9 2-2V5c0-1.1-.9-2-2-2zM9 17H7v-7h2v7zm4 0h-2V7h2v10zm4 0h-2v-4h2v4z\"/>\n",
              "    </g>\n",
              "</svg>\n",
              "  </button>\n",
              "\n",
              "<style>\n",
              "  .colab-df-quickchart {\n",
              "      --bg-color: #E8F0FE;\n",
              "      --fill-color: #1967D2;\n",
              "      --hover-bg-color: #E2EBFA;\n",
              "      --hover-fill-color: #174EA6;\n",
              "      --disabled-fill-color: #AAA;\n",
              "      --disabled-bg-color: #DDD;\n",
              "  }\n",
              "\n",
              "  [theme=dark] .colab-df-quickchart {\n",
              "      --bg-color: #3B4455;\n",
              "      --fill-color: #D2E3FC;\n",
              "      --hover-bg-color: #434B5C;\n",
              "      --hover-fill-color: #FFFFFF;\n",
              "      --disabled-bg-color: #3B4455;\n",
              "      --disabled-fill-color: #666;\n",
              "  }\n",
              "\n",
              "  .colab-df-quickchart {\n",
              "    background-color: var(--bg-color);\n",
              "    border: none;\n",
              "    border-radius: 50%;\n",
              "    cursor: pointer;\n",
              "    display: none;\n",
              "    fill: var(--fill-color);\n",
              "    height: 32px;\n",
              "    padding: 0;\n",
              "    width: 32px;\n",
              "  }\n",
              "\n",
              "  .colab-df-quickchart:hover {\n",
              "    background-color: var(--hover-bg-color);\n",
              "    box-shadow: 0 1px 2px rgba(60, 64, 67, 0.3), 0 1px 3px 1px rgba(60, 64, 67, 0.15);\n",
              "    fill: var(--button-hover-fill-color);\n",
              "  }\n",
              "\n",
              "  .colab-df-quickchart-complete:disabled,\n",
              "  .colab-df-quickchart-complete:disabled:hover {\n",
              "    background-color: var(--disabled-bg-color);\n",
              "    fill: var(--disabled-fill-color);\n",
              "    box-shadow: none;\n",
              "  }\n",
              "\n",
              "  .colab-df-spinner {\n",
              "    border: 2px solid var(--fill-color);\n",
              "    border-color: transparent;\n",
              "    border-bottom-color: var(--fill-color);\n",
              "    animation:\n",
              "      spin 1s steps(1) infinite;\n",
              "  }\n",
              "\n",
              "  @keyframes spin {\n",
              "    0% {\n",
              "      border-color: transparent;\n",
              "      border-bottom-color: var(--fill-color);\n",
              "      border-left-color: var(--fill-color);\n",
              "    }\n",
              "    20% {\n",
              "      border-color: transparent;\n",
              "      border-left-color: var(--fill-color);\n",
              "      border-top-color: var(--fill-color);\n",
              "    }\n",
              "    30% {\n",
              "      border-color: transparent;\n",
              "      border-left-color: var(--fill-color);\n",
              "      border-top-color: var(--fill-color);\n",
              "      border-right-color: var(--fill-color);\n",
              "    }\n",
              "    40% {\n",
              "      border-color: transparent;\n",
              "      border-right-color: var(--fill-color);\n",
              "      border-top-color: var(--fill-color);\n",
              "    }\n",
              "    60% {\n",
              "      border-color: transparent;\n",
              "      border-right-color: var(--fill-color);\n",
              "    }\n",
              "    80% {\n",
              "      border-color: transparent;\n",
              "      border-right-color: var(--fill-color);\n",
              "      border-bottom-color: var(--fill-color);\n",
              "    }\n",
              "    90% {\n",
              "      border-color: transparent;\n",
              "      border-bottom-color: var(--fill-color);\n",
              "    }\n",
              "  }\n",
              "</style>\n",
              "\n",
              "  <script>\n",
              "    async function quickchart(key) {\n",
              "      const quickchartButtonEl =\n",
              "        document.querySelector('#' + key + ' button');\n",
              "      quickchartButtonEl.disabled = true;  // To prevent multiple clicks.\n",
              "      quickchartButtonEl.classList.add('colab-df-spinner');\n",
              "      try {\n",
              "        const charts = await google.colab.kernel.invokeFunction(\n",
              "            'suggestCharts', [key], {});\n",
              "      } catch (error) {\n",
              "        console.error('Error during call to suggestCharts:', error);\n",
              "      }\n",
              "      quickchartButtonEl.classList.remove('colab-df-spinner');\n",
              "      quickchartButtonEl.classList.add('colab-df-quickchart-complete');\n",
              "    }\n",
              "    (() => {\n",
              "      let quickchartButtonEl =\n",
              "        document.querySelector('#df-b3404c86-d194-4115-913c-3b62e97f85d3 button');\n",
              "      quickchartButtonEl.style.display =\n",
              "        google.colab.kernel.accessAllowed ? 'block' : 'none';\n",
              "    })();\n",
              "  </script>\n",
              "</div>\n",
              "\n",
              "    </div>\n",
              "  </div>\n"
            ],
            "application/vnd.google.colaboratory.intrinsic+json": {
              "type": "dataframe",
              "variable_name": "data",
              "summary": "{\n  \"name\": \"data\",\n  \"rows\": 3736,\n  \"fields\": [\n    {\n      \"column\": \"URLs\",\n      \"properties\": {\n        \"dtype\": \"string\",\n        \"num_unique_values\": 3164,\n        \"samples\": [\n          \"https://www.reuters.com/article/us-m-t-bnk-us-wilmingtontrust-crime/u-s-opens-rare-criminal-trial-versus-bank-stemming-from-2008-crisis-idUSKBN1CF1B1\\r\\n\",\n          \"http://beforeitsnews.com/u-s-politics/2017/09/democrats-and-media-try-to-turn-puerto-rico-into-trumps-katrina-2536938.html\\r\\n\",\n          \"https://www.activistpost.com/2017/09/scott-horton-talks-foreign-policy-vin-armani.html\\r\\n\"\n        ],\n        \"semantic_type\": \"\",\n        \"description\": \"\"\n      }\n    },\n    {\n      \"column\": \"Label\",\n      \"properties\": {\n        \"dtype\": \"number\",\n        \"std\": 0,\n        \"min\": 0,\n        \"max\": 1,\n        \"num_unique_values\": 2,\n        \"samples\": [\n          1,\n          0\n        ],\n        \"semantic_type\": \"\",\n        \"description\": \"\"\n      }\n    },\n    {\n      \"column\": \"text\",\n      \"properties\": {\n        \"dtype\": \"string\",\n        \"num_unique_values\": 3334,\n        \"samples\": [\n          \"Brazil court freezes ex-leader Rousseff's assets over 2006 refinery deal Former Brazilian president Dilma Rousseff attends the \\\"Neoliberalism, inequality, democracy under attack\\\" conference in Lisbon, Portugal March 15, 2017. REUTERS/Rafael Marchante\\nBRASILIA (Reuters) - Brazil\\u2019s federal audit court on Wednesday ordered a freeze of former President Dilma Rousseff\\u2019s assets as well as those of Jos\\u00e9 S\\u00e9rgio Gabrielli, ex-head of state-run oil company Petrobras, over a $580 million loss in the 2006 purchase of a Texas refinery.\\nThe order also covered former Finance Minister Antonio Palocci and three members of the board of directors of Petroleo Brasileiro SA, as Petrobras is formally known, who approved the controversial purchase.\\nThe court, known as the TCU, said it detected \\u201cirregularities\\u201d in the purchase of the refinery in Pasadena, Texas, a move that it considered made no business sense.\\nRousseff said in a statement that there was no evidence any crime was committed by Petrobras board members who approved the deal.\\nPetrobras paid $360 million for half of Pasadena Refining in 2006, more than eight times what its previous owner, Astra Oil, a unit of Belgian-controlled Astra Transcor Energy, paid for the 112,000-barrel-a-day refinery a year earlier.\\nBy 2012, Petrobras had sunk $1.18 billion into it including the cost of buying out Astra\\u2019s remaining half after a legal dispute between both firms.\\nRousseff, who was impeached last year for breaking budget rules, was chief of staff for President Luiz Inacio Lula da Silva at the time of the refinery purchase and chaired the Petrobras board of directors. She succeeded Lula in 2011.\\nFederal prosecutors investigating overpriced Petrobras contracts in the country\\u2019s largest ever corruption scandal centered on the oil company said in 2015 that they uncovered evidence that $15 million in bribes were paid as part of the initial purchase of 50 percent of the refinery. They said Petrobras overpaid for the facility and alleged it was in terrible condition.\\nRousseff said the purchase was decided based on incorrect financial and legal information provided by a director who has since been convicted of corruption. She added that the TCU has in previous rulings exempted board members of responsibility for the losses incurred.\\nThe TCU said the freeze would last one year and cover assets that could guarantee the return to public coffers of the losses run up by Petrobras in buying the refinery.\\nIt was not clear how the $580 million could be recovered.\\nRousseff\\u2019s assets declared before her 2014 re-election included three apartments, two land lots and a house in the southern city of Porto Alegre, plus cash and savings, totaling 1.75 million reais ($551,754).\",\n          \"Turkey to retry opposition lawmaker jailed on espionage charges: NTV ANKARA (Reuters) - Turkey will retry a lawmaker from the main opposition party after a court annulled his 25-year prison sentence but he will remain in custody, broadcaster NTV and opposition lawmakers said on Monday.\\nEnis Berberoglu became a symbol for more than 50,000 people detained in the wake of a failed coup in July 2016.\\nThe chairman of his secular Republican People\\u2019s Party (CHP) started a 425 km (265 mile) protest march from the capital Ankara to Istanbul when he was convicted and sentenced in June for military espionage.\\nThe court had said Berberoglu gave an opposition newspaper a video purporting to show Turkey\\u2019s intelligence agency trucking weapons into Syria.\\nMonday\\u2019s decision to cancel the sentence came from the regional court of appeals, broadcaster NTV said.\\nBerberoglu was the first CHP lawmaker to be jailed in a crackdown by President Tayyip Erdogan\\u2019s government that has raised concerns among Turkey\\u2019s Western allies and rights groups.\\nMore than 150,000 people, including teachers, academics and lawyers, have also been suspended from their jobs. Around 150 media outlets have also been shut and some 160 journalists jailed, the Turkish Journalists Association says.\\nA prosecutor has called for jail sentences of up to 15 years on terrorism charges for rights activists including the local head of Amnesty International, Amnesty said on Sunday.\\nCritics say Turkey is sliding toward greater authoritarianism. The government says such measures are necessary, given the vast security threats it is facing.\\nReporting by Tuvan Gumrukcu; Editing by Matthew Mpoke Bigg\"\n        ],\n        \"semantic_type\": \"\",\n        \"description\": \"\"\n      }\n    }\n  ]\n}"
            }
          },
          "metadata": {},
          "execution_count": 14
        }
      ],
      "source": [
        "data.head()"
      ]
    },
    {
      "cell_type": "code",
      "execution_count": null,
      "id": "5a038c06",
      "metadata": {
        "colab": {
          "base_uri": "https://localhost:8080/",
          "height": 423
        },
        "id": "5a038c06",
        "outputId": "5a631a23-ae4e-4f86-ccec-25fce1a795ca"
      },
      "outputs": [
        {
          "output_type": "execute_result",
          "data": {
            "text/plain": [
              "      Label                                               text\n",
              "5         0  JetNation FanDuel League; Week 4 JetNation Fan...\n",
              "10        0  U.S. President Donald Trump Quietly Signs Law ...\n",
              "11        0  2017 Fantasy Football Team Defense Rankings - ...\n",
              "12        0  Just Shut Up & Play Some Damn Baseball!! Just ...\n",
              "14        0  10/7: Chuck Axed; HBD Brickyard, Adam, Moonlig...\n",
              "...     ...                                                ...\n",
              "3995      1  Harvey Weinstein scandal: What next for Hollyw...\n",
              "3999      1  Red Sox fire manager Farrell after five season...\n",
              "4001      1  Hervé Leroux, Creator of the Hervé Léger Banda...\n",
              "4002      1  The price tag for Pence's trip to Indianapolis...\n",
              "4007      1  China to accept overseas trial data in bid to ...\n",
              "\n",
              "[3736 rows x 2 columns]"
            ],
            "text/html": [
              "\n",
              "  <div id=\"df-98cbe6d3-7cce-43d8-b1bc-fcc6e6b541f5\" class=\"colab-df-container\">\n",
              "    <div>\n",
              "<style scoped>\n",
              "    .dataframe tbody tr th:only-of-type {\n",
              "        vertical-align: middle;\n",
              "    }\n",
              "\n",
              "    .dataframe tbody tr th {\n",
              "        vertical-align: top;\n",
              "    }\n",
              "\n",
              "    .dataframe thead th {\n",
              "        text-align: right;\n",
              "    }\n",
              "</style>\n",
              "<table border=\"1\" class=\"dataframe\">\n",
              "  <thead>\n",
              "    <tr style=\"text-align: right;\">\n",
              "      <th></th>\n",
              "      <th>Label</th>\n",
              "      <th>text</th>\n",
              "    </tr>\n",
              "  </thead>\n",
              "  <tbody>\n",
              "    <tr>\n",
              "      <th>5</th>\n",
              "      <td>0</td>\n",
              "      <td>JetNation FanDuel League; Week 4 JetNation Fan...</td>\n",
              "    </tr>\n",
              "    <tr>\n",
              "      <th>10</th>\n",
              "      <td>0</td>\n",
              "      <td>U.S. President Donald Trump Quietly Signs Law ...</td>\n",
              "    </tr>\n",
              "    <tr>\n",
              "      <th>11</th>\n",
              "      <td>0</td>\n",
              "      <td>2017 Fantasy Football Team Defense Rankings - ...</td>\n",
              "    </tr>\n",
              "    <tr>\n",
              "      <th>12</th>\n",
              "      <td>0</td>\n",
              "      <td>Just Shut Up &amp; Play Some Damn Baseball!! Just ...</td>\n",
              "    </tr>\n",
              "    <tr>\n",
              "      <th>14</th>\n",
              "      <td>0</td>\n",
              "      <td>10/7: Chuck Axed; HBD Brickyard, Adam, Moonlig...</td>\n",
              "    </tr>\n",
              "    <tr>\n",
              "      <th>...</th>\n",
              "      <td>...</td>\n",
              "      <td>...</td>\n",
              "    </tr>\n",
              "    <tr>\n",
              "      <th>3995</th>\n",
              "      <td>1</td>\n",
              "      <td>Harvey Weinstein scandal: What next for Hollyw...</td>\n",
              "    </tr>\n",
              "    <tr>\n",
              "      <th>3999</th>\n",
              "      <td>1</td>\n",
              "      <td>Red Sox fire manager Farrell after five season...</td>\n",
              "    </tr>\n",
              "    <tr>\n",
              "      <th>4001</th>\n",
              "      <td>1</td>\n",
              "      <td>Hervé Leroux, Creator of the Hervé Léger Banda...</td>\n",
              "    </tr>\n",
              "    <tr>\n",
              "      <th>4002</th>\n",
              "      <td>1</td>\n",
              "      <td>The price tag for Pence's trip to Indianapolis...</td>\n",
              "    </tr>\n",
              "    <tr>\n",
              "      <th>4007</th>\n",
              "      <td>1</td>\n",
              "      <td>China to accept overseas trial data in bid to ...</td>\n",
              "    </tr>\n",
              "  </tbody>\n",
              "</table>\n",
              "<p>3736 rows × 2 columns</p>\n",
              "</div>\n",
              "    <div class=\"colab-df-buttons\">\n",
              "\n",
              "  <div class=\"colab-df-container\">\n",
              "    <button class=\"colab-df-convert\" onclick=\"convertToInteractive('df-98cbe6d3-7cce-43d8-b1bc-fcc6e6b541f5')\"\n",
              "            title=\"Convert this dataframe to an interactive table.\"\n",
              "            style=\"display:none;\">\n",
              "\n",
              "  <svg xmlns=\"http://www.w3.org/2000/svg\" height=\"24px\" viewBox=\"0 -960 960 960\">\n",
              "    <path d=\"M120-120v-720h720v720H120Zm60-500h600v-160H180v160Zm220 220h160v-160H400v160Zm0 220h160v-160H400v160ZM180-400h160v-160H180v160Zm440 0h160v-160H620v160ZM180-180h160v-160H180v160Zm440 0h160v-160H620v160Z\"/>\n",
              "  </svg>\n",
              "    </button>\n",
              "\n",
              "  <style>\n",
              "    .colab-df-container {\n",
              "      display:flex;\n",
              "      gap: 12px;\n",
              "    }\n",
              "\n",
              "    .colab-df-convert {\n",
              "      background-color: #E8F0FE;\n",
              "      border: none;\n",
              "      border-radius: 50%;\n",
              "      cursor: pointer;\n",
              "      display: none;\n",
              "      fill: #1967D2;\n",
              "      height: 32px;\n",
              "      padding: 0 0 0 0;\n",
              "      width: 32px;\n",
              "    }\n",
              "\n",
              "    .colab-df-convert:hover {\n",
              "      background-color: #E2EBFA;\n",
              "      box-shadow: 0px 1px 2px rgba(60, 64, 67, 0.3), 0px 1px 3px 1px rgba(60, 64, 67, 0.15);\n",
              "      fill: #174EA6;\n",
              "    }\n",
              "\n",
              "    .colab-df-buttons div {\n",
              "      margin-bottom: 4px;\n",
              "    }\n",
              "\n",
              "    [theme=dark] .colab-df-convert {\n",
              "      background-color: #3B4455;\n",
              "      fill: #D2E3FC;\n",
              "    }\n",
              "\n",
              "    [theme=dark] .colab-df-convert:hover {\n",
              "      background-color: #434B5C;\n",
              "      box-shadow: 0px 1px 3px 1px rgba(0, 0, 0, 0.15);\n",
              "      filter: drop-shadow(0px 1px 2px rgba(0, 0, 0, 0.3));\n",
              "      fill: #FFFFFF;\n",
              "    }\n",
              "  </style>\n",
              "\n",
              "    <script>\n",
              "      const buttonEl =\n",
              "        document.querySelector('#df-98cbe6d3-7cce-43d8-b1bc-fcc6e6b541f5 button.colab-df-convert');\n",
              "      buttonEl.style.display =\n",
              "        google.colab.kernel.accessAllowed ? 'block' : 'none';\n",
              "\n",
              "      async function convertToInteractive(key) {\n",
              "        const element = document.querySelector('#df-98cbe6d3-7cce-43d8-b1bc-fcc6e6b541f5');\n",
              "        const dataTable =\n",
              "          await google.colab.kernel.invokeFunction('convertToInteractive',\n",
              "                                                    [key], {});\n",
              "        if (!dataTable) return;\n",
              "\n",
              "        const docLinkHtml = 'Like what you see? Visit the ' +\n",
              "          '<a target=\"_blank\" href=https://colab.research.google.com/notebooks/data_table.ipynb>data table notebook</a>'\n",
              "          + ' to learn more about interactive tables.';\n",
              "        element.innerHTML = '';\n",
              "        dataTable['output_type'] = 'display_data';\n",
              "        await google.colab.output.renderOutput(dataTable, element);\n",
              "        const docLink = document.createElement('div');\n",
              "        docLink.innerHTML = docLinkHtml;\n",
              "        element.appendChild(docLink);\n",
              "      }\n",
              "    </script>\n",
              "  </div>\n",
              "\n",
              "\n",
              "<div id=\"df-dfc3bbdd-a4ef-4924-b4cb-8f2dadb0405c\">\n",
              "  <button class=\"colab-df-quickchart\" onclick=\"quickchart('df-dfc3bbdd-a4ef-4924-b4cb-8f2dadb0405c')\"\n",
              "            title=\"Suggest charts\"\n",
              "            style=\"display:none;\">\n",
              "\n",
              "<svg xmlns=\"http://www.w3.org/2000/svg\" height=\"24px\"viewBox=\"0 0 24 24\"\n",
              "     width=\"24px\">\n",
              "    <g>\n",
              "        <path d=\"M19 3H5c-1.1 0-2 .9-2 2v14c0 1.1.9 2 2 2h14c1.1 0 2-.9 2-2V5c0-1.1-.9-2-2-2zM9 17H7v-7h2v7zm4 0h-2V7h2v10zm4 0h-2v-4h2v4z\"/>\n",
              "    </g>\n",
              "</svg>\n",
              "  </button>\n",
              "\n",
              "<style>\n",
              "  .colab-df-quickchart {\n",
              "      --bg-color: #E8F0FE;\n",
              "      --fill-color: #1967D2;\n",
              "      --hover-bg-color: #E2EBFA;\n",
              "      --hover-fill-color: #174EA6;\n",
              "      --disabled-fill-color: #AAA;\n",
              "      --disabled-bg-color: #DDD;\n",
              "  }\n",
              "\n",
              "  [theme=dark] .colab-df-quickchart {\n",
              "      --bg-color: #3B4455;\n",
              "      --fill-color: #D2E3FC;\n",
              "      --hover-bg-color: #434B5C;\n",
              "      --hover-fill-color: #FFFFFF;\n",
              "      --disabled-bg-color: #3B4455;\n",
              "      --disabled-fill-color: #666;\n",
              "  }\n",
              "\n",
              "  .colab-df-quickchart {\n",
              "    background-color: var(--bg-color);\n",
              "    border: none;\n",
              "    border-radius: 50%;\n",
              "    cursor: pointer;\n",
              "    display: none;\n",
              "    fill: var(--fill-color);\n",
              "    height: 32px;\n",
              "    padding: 0;\n",
              "    width: 32px;\n",
              "  }\n",
              "\n",
              "  .colab-df-quickchart:hover {\n",
              "    background-color: var(--hover-bg-color);\n",
              "    box-shadow: 0 1px 2px rgba(60, 64, 67, 0.3), 0 1px 3px 1px rgba(60, 64, 67, 0.15);\n",
              "    fill: var(--button-hover-fill-color);\n",
              "  }\n",
              "\n",
              "  .colab-df-quickchart-complete:disabled,\n",
              "  .colab-df-quickchart-complete:disabled:hover {\n",
              "    background-color: var(--disabled-bg-color);\n",
              "    fill: var(--disabled-fill-color);\n",
              "    box-shadow: none;\n",
              "  }\n",
              "\n",
              "  .colab-df-spinner {\n",
              "    border: 2px solid var(--fill-color);\n",
              "    border-color: transparent;\n",
              "    border-bottom-color: var(--fill-color);\n",
              "    animation:\n",
              "      spin 1s steps(1) infinite;\n",
              "  }\n",
              "\n",
              "  @keyframes spin {\n",
              "    0% {\n",
              "      border-color: transparent;\n",
              "      border-bottom-color: var(--fill-color);\n",
              "      border-left-color: var(--fill-color);\n",
              "    }\n",
              "    20% {\n",
              "      border-color: transparent;\n",
              "      border-left-color: var(--fill-color);\n",
              "      border-top-color: var(--fill-color);\n",
              "    }\n",
              "    30% {\n",
              "      border-color: transparent;\n",
              "      border-left-color: var(--fill-color);\n",
              "      border-top-color: var(--fill-color);\n",
              "      border-right-color: var(--fill-color);\n",
              "    }\n",
              "    40% {\n",
              "      border-color: transparent;\n",
              "      border-right-color: var(--fill-color);\n",
              "      border-top-color: var(--fill-color);\n",
              "    }\n",
              "    60% {\n",
              "      border-color: transparent;\n",
              "      border-right-color: var(--fill-color);\n",
              "    }\n",
              "    80% {\n",
              "      border-color: transparent;\n",
              "      border-right-color: var(--fill-color);\n",
              "      border-bottom-color: var(--fill-color);\n",
              "    }\n",
              "    90% {\n",
              "      border-color: transparent;\n",
              "      border-bottom-color: var(--fill-color);\n",
              "    }\n",
              "  }\n",
              "</style>\n",
              "\n",
              "  <script>\n",
              "    async function quickchart(key) {\n",
              "      const quickchartButtonEl =\n",
              "        document.querySelector('#' + key + ' button');\n",
              "      quickchartButtonEl.disabled = true;  // To prevent multiple clicks.\n",
              "      quickchartButtonEl.classList.add('colab-df-spinner');\n",
              "      try {\n",
              "        const charts = await google.colab.kernel.invokeFunction(\n",
              "            'suggestCharts', [key], {});\n",
              "      } catch (error) {\n",
              "        console.error('Error during call to suggestCharts:', error);\n",
              "      }\n",
              "      quickchartButtonEl.classList.remove('colab-df-spinner');\n",
              "      quickchartButtonEl.classList.add('colab-df-quickchart-complete');\n",
              "    }\n",
              "    (() => {\n",
              "      let quickchartButtonEl =\n",
              "        document.querySelector('#df-dfc3bbdd-a4ef-4924-b4cb-8f2dadb0405c button');\n",
              "      quickchartButtonEl.style.display =\n",
              "        google.colab.kernel.accessAllowed ? 'block' : 'none';\n",
              "    })();\n",
              "  </script>\n",
              "</div>\n",
              "\n",
              "    </div>\n",
              "  </div>\n"
            ],
            "application/vnd.google.colaboratory.intrinsic+json": {
              "type": "dataframe",
              "summary": "{\n  \"name\": \"data\",\n  \"rows\": 3736,\n  \"fields\": [\n    {\n      \"column\": \"Label\",\n      \"properties\": {\n        \"dtype\": \"number\",\n        \"std\": 0,\n        \"min\": 0,\n        \"max\": 1,\n        \"num_unique_values\": 2,\n        \"samples\": [\n          1,\n          0\n        ],\n        \"semantic_type\": \"\",\n        \"description\": \"\"\n      }\n    },\n    {\n      \"column\": \"text\",\n      \"properties\": {\n        \"dtype\": \"string\",\n        \"num_unique_values\": 3334,\n        \"samples\": [\n          \"Brazil court freezes ex-leader Rousseff's assets over 2006 refinery deal Former Brazilian president Dilma Rousseff attends the \\\"Neoliberalism, inequality, democracy under attack\\\" conference in Lisbon, Portugal March 15, 2017. REUTERS/Rafael Marchante\\nBRASILIA (Reuters) - Brazil\\u2019s federal audit court on Wednesday ordered a freeze of former President Dilma Rousseff\\u2019s assets as well as those of Jos\\u00e9 S\\u00e9rgio Gabrielli, ex-head of state-run oil company Petrobras, over a $580 million loss in the 2006 purchase of a Texas refinery.\\nThe order also covered former Finance Minister Antonio Palocci and three members of the board of directors of Petroleo Brasileiro SA, as Petrobras is formally known, who approved the controversial purchase.\\nThe court, known as the TCU, said it detected \\u201cirregularities\\u201d in the purchase of the refinery in Pasadena, Texas, a move that it considered made no business sense.\\nRousseff said in a statement that there was no evidence any crime was committed by Petrobras board members who approved the deal.\\nPetrobras paid $360 million for half of Pasadena Refining in 2006, more than eight times what its previous owner, Astra Oil, a unit of Belgian-controlled Astra Transcor Energy, paid for the 112,000-barrel-a-day refinery a year earlier.\\nBy 2012, Petrobras had sunk $1.18 billion into it including the cost of buying out Astra\\u2019s remaining half after a legal dispute between both firms.\\nRousseff, who was impeached last year for breaking budget rules, was chief of staff for President Luiz Inacio Lula da Silva at the time of the refinery purchase and chaired the Petrobras board of directors. She succeeded Lula in 2011.\\nFederal prosecutors investigating overpriced Petrobras contracts in the country\\u2019s largest ever corruption scandal centered on the oil company said in 2015 that they uncovered evidence that $15 million in bribes were paid as part of the initial purchase of 50 percent of the refinery. They said Petrobras overpaid for the facility and alleged it was in terrible condition.\\nRousseff said the purchase was decided based on incorrect financial and legal information provided by a director who has since been convicted of corruption. She added that the TCU has in previous rulings exempted board members of responsibility for the losses incurred.\\nThe TCU said the freeze would last one year and cover assets that could guarantee the return to public coffers of the losses run up by Petrobras in buying the refinery.\\nIt was not clear how the $580 million could be recovered.\\nRousseff\\u2019s assets declared before her 2014 re-election included three apartments, two land lots and a house in the southern city of Porto Alegre, plus cash and savings, totaling 1.75 million reais ($551,754).\",\n          \"Turkey to retry opposition lawmaker jailed on espionage charges: NTV ANKARA (Reuters) - Turkey will retry a lawmaker from the main opposition party after a court annulled his 25-year prison sentence but he will remain in custody, broadcaster NTV and opposition lawmakers said on Monday.\\nEnis Berberoglu became a symbol for more than 50,000 people detained in the wake of a failed coup in July 2016.\\nThe chairman of his secular Republican People\\u2019s Party (CHP) started a 425 km (265 mile) protest march from the capital Ankara to Istanbul when he was convicted and sentenced in June for military espionage.\\nThe court had said Berberoglu gave an opposition newspaper a video purporting to show Turkey\\u2019s intelligence agency trucking weapons into Syria.\\nMonday\\u2019s decision to cancel the sentence came from the regional court of appeals, broadcaster NTV said.\\nBerberoglu was the first CHP lawmaker to be jailed in a crackdown by President Tayyip Erdogan\\u2019s government that has raised concerns among Turkey\\u2019s Western allies and rights groups.\\nMore than 150,000 people, including teachers, academics and lawyers, have also been suspended from their jobs. Around 150 media outlets have also been shut and some 160 journalists jailed, the Turkish Journalists Association says.\\nA prosecutor has called for jail sentences of up to 15 years on terrorism charges for rights activists including the local head of Amnesty International, Amnesty said on Sunday.\\nCritics say Turkey is sliding toward greater authoritarianism. The government says such measures are necessary, given the vast security threats it is facing.\\nReporting by Tuvan Gumrukcu; Editing by Matthew Mpoke Bigg\"\n        ],\n        \"semantic_type\": \"\",\n        \"description\": \"\"\n      }\n    }\n  ]\n}"
            }
          },
          "metadata": {},
          "execution_count": 15
        }
      ],
      "source": [
        "data.drop('URLs', axis=1)"
      ]
    },
    {
      "cell_type": "code",
      "execution_count": null,
      "id": "c9b90d0c",
      "metadata": {
        "colab": {
          "base_uri": "https://localhost:8080/"
        },
        "id": "c9b90d0c",
        "outputId": "55818a88-e608-4486-b971-f92a215d2c8f"
      },
      "outputs": [
        {
          "output_type": "execute_result",
          "data": {
            "text/plain": [
              "URLs     0\n",
              "Label    0\n",
              "text     0\n",
              "dtype: int64"
            ]
          },
          "metadata": {},
          "execution_count": 16
        }
      ],
      "source": [
        "data.isna().sum()"
      ]
    },
    {
      "cell_type": "code",
      "execution_count": null,
      "id": "1e454d51",
      "metadata": {
        "colab": {
          "base_uri": "https://localhost:8080/",
          "height": 206
        },
        "id": "1e454d51",
        "outputId": "b9666765-a674-4a98-f37f-576da2ed99bd"
      },
      "outputs": [
        {
          "output_type": "execute_result",
          "data": {
            "text/plain": [
              "                                                 URLs  Label  \\\n",
              "5   http://beforeitsnews.com/sports/2017/09/jetnat...      0   \n",
              "10  https://www.activistpost.com/2017/09/u-s-presi...      0   \n",
              "11  http://beforeitsnews.com/sports/2017/10/2017-f...      0   \n",
              "12  http://beforeitsnews.com/sports/2017/09/just-s...      0   \n",
              "14  http://beforeitsnews.com/sports/2017/10/107-ch...      0   \n",
              "\n",
              "                                                 text  \n",
              "5   JetNation FanDuel League; Week 4 JetNation Fan...  \n",
              "10  U.S. President Donald Trump Quietly Signs Law ...  \n",
              "11  2017 Fantasy Football Team Defense Rankings - ...  \n",
              "12  Just Shut Up & Play Some Damn Baseball!! Just ...  \n",
              "14  10/7: Chuck Axed; HBD Brickyard, Adam, Moonlig...  "
            ],
            "text/html": [
              "\n",
              "  <div id=\"df-cada4a2d-6bd9-470c-b04c-34205b0f7182\" class=\"colab-df-container\">\n",
              "    <div>\n",
              "<style scoped>\n",
              "    .dataframe tbody tr th:only-of-type {\n",
              "        vertical-align: middle;\n",
              "    }\n",
              "\n",
              "    .dataframe tbody tr th {\n",
              "        vertical-align: top;\n",
              "    }\n",
              "\n",
              "    .dataframe thead th {\n",
              "        text-align: right;\n",
              "    }\n",
              "</style>\n",
              "<table border=\"1\" class=\"dataframe\">\n",
              "  <thead>\n",
              "    <tr style=\"text-align: right;\">\n",
              "      <th></th>\n",
              "      <th>URLs</th>\n",
              "      <th>Label</th>\n",
              "      <th>text</th>\n",
              "    </tr>\n",
              "  </thead>\n",
              "  <tbody>\n",
              "    <tr>\n",
              "      <th>5</th>\n",
              "      <td>http://beforeitsnews.com/sports/2017/09/jetnat...</td>\n",
              "      <td>0</td>\n",
              "      <td>JetNation FanDuel League; Week 4 JetNation Fan...</td>\n",
              "    </tr>\n",
              "    <tr>\n",
              "      <th>10</th>\n",
              "      <td>https://www.activistpost.com/2017/09/u-s-presi...</td>\n",
              "      <td>0</td>\n",
              "      <td>U.S. President Donald Trump Quietly Signs Law ...</td>\n",
              "    </tr>\n",
              "    <tr>\n",
              "      <th>11</th>\n",
              "      <td>http://beforeitsnews.com/sports/2017/10/2017-f...</td>\n",
              "      <td>0</td>\n",
              "      <td>2017 Fantasy Football Team Defense Rankings - ...</td>\n",
              "    </tr>\n",
              "    <tr>\n",
              "      <th>12</th>\n",
              "      <td>http://beforeitsnews.com/sports/2017/09/just-s...</td>\n",
              "      <td>0</td>\n",
              "      <td>Just Shut Up &amp; Play Some Damn Baseball!! Just ...</td>\n",
              "    </tr>\n",
              "    <tr>\n",
              "      <th>14</th>\n",
              "      <td>http://beforeitsnews.com/sports/2017/10/107-ch...</td>\n",
              "      <td>0</td>\n",
              "      <td>10/7: Chuck Axed; HBD Brickyard, Adam, Moonlig...</td>\n",
              "    </tr>\n",
              "  </tbody>\n",
              "</table>\n",
              "</div>\n",
              "    <div class=\"colab-df-buttons\">\n",
              "\n",
              "  <div class=\"colab-df-container\">\n",
              "    <button class=\"colab-df-convert\" onclick=\"convertToInteractive('df-cada4a2d-6bd9-470c-b04c-34205b0f7182')\"\n",
              "            title=\"Convert this dataframe to an interactive table.\"\n",
              "            style=\"display:none;\">\n",
              "\n",
              "  <svg xmlns=\"http://www.w3.org/2000/svg\" height=\"24px\" viewBox=\"0 -960 960 960\">\n",
              "    <path d=\"M120-120v-720h720v720H120Zm60-500h600v-160H180v160Zm220 220h160v-160H400v160Zm0 220h160v-160H400v160ZM180-400h160v-160H180v160Zm440 0h160v-160H620v160ZM180-180h160v-160H180v160Zm440 0h160v-160H620v160Z\"/>\n",
              "  </svg>\n",
              "    </button>\n",
              "\n",
              "  <style>\n",
              "    .colab-df-container {\n",
              "      display:flex;\n",
              "      gap: 12px;\n",
              "    }\n",
              "\n",
              "    .colab-df-convert {\n",
              "      background-color: #E8F0FE;\n",
              "      border: none;\n",
              "      border-radius: 50%;\n",
              "      cursor: pointer;\n",
              "      display: none;\n",
              "      fill: #1967D2;\n",
              "      height: 32px;\n",
              "      padding: 0 0 0 0;\n",
              "      width: 32px;\n",
              "    }\n",
              "\n",
              "    .colab-df-convert:hover {\n",
              "      background-color: #E2EBFA;\n",
              "      box-shadow: 0px 1px 2px rgba(60, 64, 67, 0.3), 0px 1px 3px 1px rgba(60, 64, 67, 0.15);\n",
              "      fill: #174EA6;\n",
              "    }\n",
              "\n",
              "    .colab-df-buttons div {\n",
              "      margin-bottom: 4px;\n",
              "    }\n",
              "\n",
              "    [theme=dark] .colab-df-convert {\n",
              "      background-color: #3B4455;\n",
              "      fill: #D2E3FC;\n",
              "    }\n",
              "\n",
              "    [theme=dark] .colab-df-convert:hover {\n",
              "      background-color: #434B5C;\n",
              "      box-shadow: 0px 1px 3px 1px rgba(0, 0, 0, 0.15);\n",
              "      filter: drop-shadow(0px 1px 2px rgba(0, 0, 0, 0.3));\n",
              "      fill: #FFFFFF;\n",
              "    }\n",
              "  </style>\n",
              "\n",
              "    <script>\n",
              "      const buttonEl =\n",
              "        document.querySelector('#df-cada4a2d-6bd9-470c-b04c-34205b0f7182 button.colab-df-convert');\n",
              "      buttonEl.style.display =\n",
              "        google.colab.kernel.accessAllowed ? 'block' : 'none';\n",
              "\n",
              "      async function convertToInteractive(key) {\n",
              "        const element = document.querySelector('#df-cada4a2d-6bd9-470c-b04c-34205b0f7182');\n",
              "        const dataTable =\n",
              "          await google.colab.kernel.invokeFunction('convertToInteractive',\n",
              "                                                    [key], {});\n",
              "        if (!dataTable) return;\n",
              "\n",
              "        const docLinkHtml = 'Like what you see? Visit the ' +\n",
              "          '<a target=\"_blank\" href=https://colab.research.google.com/notebooks/data_table.ipynb>data table notebook</a>'\n",
              "          + ' to learn more about interactive tables.';\n",
              "        element.innerHTML = '';\n",
              "        dataTable['output_type'] = 'display_data';\n",
              "        await google.colab.output.renderOutput(dataTable, element);\n",
              "        const docLink = document.createElement('div');\n",
              "        docLink.innerHTML = docLinkHtml;\n",
              "        element.appendChild(docLink);\n",
              "      }\n",
              "    </script>\n",
              "  </div>\n",
              "\n",
              "\n",
              "<div id=\"df-5a6109f2-e357-455f-9223-6a7e122c286f\">\n",
              "  <button class=\"colab-df-quickchart\" onclick=\"quickchart('df-5a6109f2-e357-455f-9223-6a7e122c286f')\"\n",
              "            title=\"Suggest charts\"\n",
              "            style=\"display:none;\">\n",
              "\n",
              "<svg xmlns=\"http://www.w3.org/2000/svg\" height=\"24px\"viewBox=\"0 0 24 24\"\n",
              "     width=\"24px\">\n",
              "    <g>\n",
              "        <path d=\"M19 3H5c-1.1 0-2 .9-2 2v14c0 1.1.9 2 2 2h14c1.1 0 2-.9 2-2V5c0-1.1-.9-2-2-2zM9 17H7v-7h2v7zm4 0h-2V7h2v10zm4 0h-2v-4h2v4z\"/>\n",
              "    </g>\n",
              "</svg>\n",
              "  </button>\n",
              "\n",
              "<style>\n",
              "  .colab-df-quickchart {\n",
              "      --bg-color: #E8F0FE;\n",
              "      --fill-color: #1967D2;\n",
              "      --hover-bg-color: #E2EBFA;\n",
              "      --hover-fill-color: #174EA6;\n",
              "      --disabled-fill-color: #AAA;\n",
              "      --disabled-bg-color: #DDD;\n",
              "  }\n",
              "\n",
              "  [theme=dark] .colab-df-quickchart {\n",
              "      --bg-color: #3B4455;\n",
              "      --fill-color: #D2E3FC;\n",
              "      --hover-bg-color: #434B5C;\n",
              "      --hover-fill-color: #FFFFFF;\n",
              "      --disabled-bg-color: #3B4455;\n",
              "      --disabled-fill-color: #666;\n",
              "  }\n",
              "\n",
              "  .colab-df-quickchart {\n",
              "    background-color: var(--bg-color);\n",
              "    border: none;\n",
              "    border-radius: 50%;\n",
              "    cursor: pointer;\n",
              "    display: none;\n",
              "    fill: var(--fill-color);\n",
              "    height: 32px;\n",
              "    padding: 0;\n",
              "    width: 32px;\n",
              "  }\n",
              "\n",
              "  .colab-df-quickchart:hover {\n",
              "    background-color: var(--hover-bg-color);\n",
              "    box-shadow: 0 1px 2px rgba(60, 64, 67, 0.3), 0 1px 3px 1px rgba(60, 64, 67, 0.15);\n",
              "    fill: var(--button-hover-fill-color);\n",
              "  }\n",
              "\n",
              "  .colab-df-quickchart-complete:disabled,\n",
              "  .colab-df-quickchart-complete:disabled:hover {\n",
              "    background-color: var(--disabled-bg-color);\n",
              "    fill: var(--disabled-fill-color);\n",
              "    box-shadow: none;\n",
              "  }\n",
              "\n",
              "  .colab-df-spinner {\n",
              "    border: 2px solid var(--fill-color);\n",
              "    border-color: transparent;\n",
              "    border-bottom-color: var(--fill-color);\n",
              "    animation:\n",
              "      spin 1s steps(1) infinite;\n",
              "  }\n",
              "\n",
              "  @keyframes spin {\n",
              "    0% {\n",
              "      border-color: transparent;\n",
              "      border-bottom-color: var(--fill-color);\n",
              "      border-left-color: var(--fill-color);\n",
              "    }\n",
              "    20% {\n",
              "      border-color: transparent;\n",
              "      border-left-color: var(--fill-color);\n",
              "      border-top-color: var(--fill-color);\n",
              "    }\n",
              "    30% {\n",
              "      border-color: transparent;\n",
              "      border-left-color: var(--fill-color);\n",
              "      border-top-color: var(--fill-color);\n",
              "      border-right-color: var(--fill-color);\n",
              "    }\n",
              "    40% {\n",
              "      border-color: transparent;\n",
              "      border-right-color: var(--fill-color);\n",
              "      border-top-color: var(--fill-color);\n",
              "    }\n",
              "    60% {\n",
              "      border-color: transparent;\n",
              "      border-right-color: var(--fill-color);\n",
              "    }\n",
              "    80% {\n",
              "      border-color: transparent;\n",
              "      border-right-color: var(--fill-color);\n",
              "      border-bottom-color: var(--fill-color);\n",
              "    }\n",
              "    90% {\n",
              "      border-color: transparent;\n",
              "      border-bottom-color: var(--fill-color);\n",
              "    }\n",
              "  }\n",
              "</style>\n",
              "\n",
              "  <script>\n",
              "    async function quickchart(key) {\n",
              "      const quickchartButtonEl =\n",
              "        document.querySelector('#' + key + ' button');\n",
              "      quickchartButtonEl.disabled = true;  // To prevent multiple clicks.\n",
              "      quickchartButtonEl.classList.add('colab-df-spinner');\n",
              "      try {\n",
              "        const charts = await google.colab.kernel.invokeFunction(\n",
              "            'suggestCharts', [key], {});\n",
              "      } catch (error) {\n",
              "        console.error('Error during call to suggestCharts:', error);\n",
              "      }\n",
              "      quickchartButtonEl.classList.remove('colab-df-spinner');\n",
              "      quickchartButtonEl.classList.add('colab-df-quickchart-complete');\n",
              "    }\n",
              "    (() => {\n",
              "      let quickchartButtonEl =\n",
              "        document.querySelector('#df-5a6109f2-e357-455f-9223-6a7e122c286f button');\n",
              "      quickchartButtonEl.style.display =\n",
              "        google.colab.kernel.accessAllowed ? 'block' : 'none';\n",
              "    })();\n",
              "  </script>\n",
              "</div>\n",
              "\n",
              "    </div>\n",
              "  </div>\n"
            ],
            "application/vnd.google.colaboratory.intrinsic+json": {
              "type": "dataframe",
              "variable_name": "data",
              "summary": "{\n  \"name\": \"data\",\n  \"rows\": 3736,\n  \"fields\": [\n    {\n      \"column\": \"URLs\",\n      \"properties\": {\n        \"dtype\": \"string\",\n        \"num_unique_values\": 3164,\n        \"samples\": [\n          \"https://www.reuters.com/article/us-m-t-bnk-us-wilmingtontrust-crime/u-s-opens-rare-criminal-trial-versus-bank-stemming-from-2008-crisis-idUSKBN1CF1B1\\r\\n\",\n          \"http://beforeitsnews.com/u-s-politics/2017/09/democrats-and-media-try-to-turn-puerto-rico-into-trumps-katrina-2536938.html\\r\\n\",\n          \"https://www.activistpost.com/2017/09/scott-horton-talks-foreign-policy-vin-armani.html\\r\\n\"\n        ],\n        \"semantic_type\": \"\",\n        \"description\": \"\"\n      }\n    },\n    {\n      \"column\": \"Label\",\n      \"properties\": {\n        \"dtype\": \"number\",\n        \"std\": 0,\n        \"min\": 0,\n        \"max\": 1,\n        \"num_unique_values\": 2,\n        \"samples\": [\n          1,\n          0\n        ],\n        \"semantic_type\": \"\",\n        \"description\": \"\"\n      }\n    },\n    {\n      \"column\": \"text\",\n      \"properties\": {\n        \"dtype\": \"string\",\n        \"num_unique_values\": 3334,\n        \"samples\": [\n          \"Brazil court freezes ex-leader Rousseff's assets over 2006 refinery deal Former Brazilian president Dilma Rousseff attends the \\\"Neoliberalism, inequality, democracy under attack\\\" conference in Lisbon, Portugal March 15, 2017. REUTERS/Rafael Marchante\\nBRASILIA (Reuters) - Brazil\\u2019s federal audit court on Wednesday ordered a freeze of former President Dilma Rousseff\\u2019s assets as well as those of Jos\\u00e9 S\\u00e9rgio Gabrielli, ex-head of state-run oil company Petrobras, over a $580 million loss in the 2006 purchase of a Texas refinery.\\nThe order also covered former Finance Minister Antonio Palocci and three members of the board of directors of Petroleo Brasileiro SA, as Petrobras is formally known, who approved the controversial purchase.\\nThe court, known as the TCU, said it detected \\u201cirregularities\\u201d in the purchase of the refinery in Pasadena, Texas, a move that it considered made no business sense.\\nRousseff said in a statement that there was no evidence any crime was committed by Petrobras board members who approved the deal.\\nPetrobras paid $360 million for half of Pasadena Refining in 2006, more than eight times what its previous owner, Astra Oil, a unit of Belgian-controlled Astra Transcor Energy, paid for the 112,000-barrel-a-day refinery a year earlier.\\nBy 2012, Petrobras had sunk $1.18 billion into it including the cost of buying out Astra\\u2019s remaining half after a legal dispute between both firms.\\nRousseff, who was impeached last year for breaking budget rules, was chief of staff for President Luiz Inacio Lula da Silva at the time of the refinery purchase and chaired the Petrobras board of directors. She succeeded Lula in 2011.\\nFederal prosecutors investigating overpriced Petrobras contracts in the country\\u2019s largest ever corruption scandal centered on the oil company said in 2015 that they uncovered evidence that $15 million in bribes were paid as part of the initial purchase of 50 percent of the refinery. They said Petrobras overpaid for the facility and alleged it was in terrible condition.\\nRousseff said the purchase was decided based on incorrect financial and legal information provided by a director who has since been convicted of corruption. She added that the TCU has in previous rulings exempted board members of responsibility for the losses incurred.\\nThe TCU said the freeze would last one year and cover assets that could guarantee the return to public coffers of the losses run up by Petrobras in buying the refinery.\\nIt was not clear how the $580 million could be recovered.\\nRousseff\\u2019s assets declared before her 2014 re-election included three apartments, two land lots and a house in the southern city of Porto Alegre, plus cash and savings, totaling 1.75 million reais ($551,754).\",\n          \"Turkey to retry opposition lawmaker jailed on espionage charges: NTV ANKARA (Reuters) - Turkey will retry a lawmaker from the main opposition party after a court annulled his 25-year prison sentence but he will remain in custody, broadcaster NTV and opposition lawmakers said on Monday.\\nEnis Berberoglu became a symbol for more than 50,000 people detained in the wake of a failed coup in July 2016.\\nThe chairman of his secular Republican People\\u2019s Party (CHP) started a 425 km (265 mile) protest march from the capital Ankara to Istanbul when he was convicted and sentenced in June for military espionage.\\nThe court had said Berberoglu gave an opposition newspaper a video purporting to show Turkey\\u2019s intelligence agency trucking weapons into Syria.\\nMonday\\u2019s decision to cancel the sentence came from the regional court of appeals, broadcaster NTV said.\\nBerberoglu was the first CHP lawmaker to be jailed in a crackdown by President Tayyip Erdogan\\u2019s government that has raised concerns among Turkey\\u2019s Western allies and rights groups.\\nMore than 150,000 people, including teachers, academics and lawyers, have also been suspended from their jobs. Around 150 media outlets have also been shut and some 160 journalists jailed, the Turkish Journalists Association says.\\nA prosecutor has called for jail sentences of up to 15 years on terrorism charges for rights activists including the local head of Amnesty International, Amnesty said on Sunday.\\nCritics say Turkey is sliding toward greater authoritarianism. The government says such measures are necessary, given the vast security threats it is facing.\\nReporting by Tuvan Gumrukcu; Editing by Matthew Mpoke Bigg\"\n        ],\n        \"semantic_type\": \"\",\n        \"description\": \"\"\n      }\n    }\n  ]\n}"
            }
          },
          "metadata": {},
          "execution_count": 17
        }
      ],
      "source": [
        "data.head()"
      ]
    },
    {
      "cell_type": "code",
      "execution_count": null,
      "id": "6e4b52f6",
      "metadata": {
        "id": "6e4b52f6"
      },
      "outputs": [],
      "source": [
        "data = data.loc[~data['text'].isna()]"
      ]
    },
    {
      "cell_type": "code",
      "execution_count": null,
      "id": "db20ed04",
      "metadata": {
        "colab": {
          "base_uri": "https://localhost:8080/",
          "height": 206
        },
        "id": "db20ed04",
        "outputId": "8b61a304-4139-48b4-9e69-955b54d84852"
      },
      "outputs": [
        {
          "output_type": "execute_result",
          "data": {
            "text/plain": [
              "                                                 URLs  Label  \\\n",
              "5   http://beforeitsnews.com/sports/2017/09/jetnat...      0   \n",
              "10  https://www.activistpost.com/2017/09/u-s-presi...      0   \n",
              "11  http://beforeitsnews.com/sports/2017/10/2017-f...      0   \n",
              "12  http://beforeitsnews.com/sports/2017/09/just-s...      0   \n",
              "14  http://beforeitsnews.com/sports/2017/10/107-ch...      0   \n",
              "\n",
              "                                                 text  \n",
              "5   JetNation FanDuel League; Week 4 JetNation Fan...  \n",
              "10  U.S. President Donald Trump Quietly Signs Law ...  \n",
              "11  2017 Fantasy Football Team Defense Rankings - ...  \n",
              "12  Just Shut Up & Play Some Damn Baseball!! Just ...  \n",
              "14  10/7: Chuck Axed; HBD Brickyard, Adam, Moonlig...  "
            ],
            "text/html": [
              "\n",
              "  <div id=\"df-91e641e4-9198-46d7-a7cf-85996e98102c\" class=\"colab-df-container\">\n",
              "    <div>\n",
              "<style scoped>\n",
              "    .dataframe tbody tr th:only-of-type {\n",
              "        vertical-align: middle;\n",
              "    }\n",
              "\n",
              "    .dataframe tbody tr th {\n",
              "        vertical-align: top;\n",
              "    }\n",
              "\n",
              "    .dataframe thead th {\n",
              "        text-align: right;\n",
              "    }\n",
              "</style>\n",
              "<table border=\"1\" class=\"dataframe\">\n",
              "  <thead>\n",
              "    <tr style=\"text-align: right;\">\n",
              "      <th></th>\n",
              "      <th>URLs</th>\n",
              "      <th>Label</th>\n",
              "      <th>text</th>\n",
              "    </tr>\n",
              "  </thead>\n",
              "  <tbody>\n",
              "    <tr>\n",
              "      <th>5</th>\n",
              "      <td>http://beforeitsnews.com/sports/2017/09/jetnat...</td>\n",
              "      <td>0</td>\n",
              "      <td>JetNation FanDuel League; Week 4 JetNation Fan...</td>\n",
              "    </tr>\n",
              "    <tr>\n",
              "      <th>10</th>\n",
              "      <td>https://www.activistpost.com/2017/09/u-s-presi...</td>\n",
              "      <td>0</td>\n",
              "      <td>U.S. President Donald Trump Quietly Signs Law ...</td>\n",
              "    </tr>\n",
              "    <tr>\n",
              "      <th>11</th>\n",
              "      <td>http://beforeitsnews.com/sports/2017/10/2017-f...</td>\n",
              "      <td>0</td>\n",
              "      <td>2017 Fantasy Football Team Defense Rankings - ...</td>\n",
              "    </tr>\n",
              "    <tr>\n",
              "      <th>12</th>\n",
              "      <td>http://beforeitsnews.com/sports/2017/09/just-s...</td>\n",
              "      <td>0</td>\n",
              "      <td>Just Shut Up &amp; Play Some Damn Baseball!! Just ...</td>\n",
              "    </tr>\n",
              "    <tr>\n",
              "      <th>14</th>\n",
              "      <td>http://beforeitsnews.com/sports/2017/10/107-ch...</td>\n",
              "      <td>0</td>\n",
              "      <td>10/7: Chuck Axed; HBD Brickyard, Adam, Moonlig...</td>\n",
              "    </tr>\n",
              "  </tbody>\n",
              "</table>\n",
              "</div>\n",
              "    <div class=\"colab-df-buttons\">\n",
              "\n",
              "  <div class=\"colab-df-container\">\n",
              "    <button class=\"colab-df-convert\" onclick=\"convertToInteractive('df-91e641e4-9198-46d7-a7cf-85996e98102c')\"\n",
              "            title=\"Convert this dataframe to an interactive table.\"\n",
              "            style=\"display:none;\">\n",
              "\n",
              "  <svg xmlns=\"http://www.w3.org/2000/svg\" height=\"24px\" viewBox=\"0 -960 960 960\">\n",
              "    <path d=\"M120-120v-720h720v720H120Zm60-500h600v-160H180v160Zm220 220h160v-160H400v160Zm0 220h160v-160H400v160ZM180-400h160v-160H180v160Zm440 0h160v-160H620v160ZM180-180h160v-160H180v160Zm440 0h160v-160H620v160Z\"/>\n",
              "  </svg>\n",
              "    </button>\n",
              "\n",
              "  <style>\n",
              "    .colab-df-container {\n",
              "      display:flex;\n",
              "      gap: 12px;\n",
              "    }\n",
              "\n",
              "    .colab-df-convert {\n",
              "      background-color: #E8F0FE;\n",
              "      border: none;\n",
              "      border-radius: 50%;\n",
              "      cursor: pointer;\n",
              "      display: none;\n",
              "      fill: #1967D2;\n",
              "      height: 32px;\n",
              "      padding: 0 0 0 0;\n",
              "      width: 32px;\n",
              "    }\n",
              "\n",
              "    .colab-df-convert:hover {\n",
              "      background-color: #E2EBFA;\n",
              "      box-shadow: 0px 1px 2px rgba(60, 64, 67, 0.3), 0px 1px 3px 1px rgba(60, 64, 67, 0.15);\n",
              "      fill: #174EA6;\n",
              "    }\n",
              "\n",
              "    .colab-df-buttons div {\n",
              "      margin-bottom: 4px;\n",
              "    }\n",
              "\n",
              "    [theme=dark] .colab-df-convert {\n",
              "      background-color: #3B4455;\n",
              "      fill: #D2E3FC;\n",
              "    }\n",
              "\n",
              "    [theme=dark] .colab-df-convert:hover {\n",
              "      background-color: #434B5C;\n",
              "      box-shadow: 0px 1px 3px 1px rgba(0, 0, 0, 0.15);\n",
              "      filter: drop-shadow(0px 1px 2px rgba(0, 0, 0, 0.3));\n",
              "      fill: #FFFFFF;\n",
              "    }\n",
              "  </style>\n",
              "\n",
              "    <script>\n",
              "      const buttonEl =\n",
              "        document.querySelector('#df-91e641e4-9198-46d7-a7cf-85996e98102c button.colab-df-convert');\n",
              "      buttonEl.style.display =\n",
              "        google.colab.kernel.accessAllowed ? 'block' : 'none';\n",
              "\n",
              "      async function convertToInteractive(key) {\n",
              "        const element = document.querySelector('#df-91e641e4-9198-46d7-a7cf-85996e98102c');\n",
              "        const dataTable =\n",
              "          await google.colab.kernel.invokeFunction('convertToInteractive',\n",
              "                                                    [key], {});\n",
              "        if (!dataTable) return;\n",
              "\n",
              "        const docLinkHtml = 'Like what you see? Visit the ' +\n",
              "          '<a target=\"_blank\" href=https://colab.research.google.com/notebooks/data_table.ipynb>data table notebook</a>'\n",
              "          + ' to learn more about interactive tables.';\n",
              "        element.innerHTML = '';\n",
              "        dataTable['output_type'] = 'display_data';\n",
              "        await google.colab.output.renderOutput(dataTable, element);\n",
              "        const docLink = document.createElement('div');\n",
              "        docLink.innerHTML = docLinkHtml;\n",
              "        element.appendChild(docLink);\n",
              "      }\n",
              "    </script>\n",
              "  </div>\n",
              "\n",
              "\n",
              "<div id=\"df-cd36413e-298f-46f6-9c6d-dad3eb8b6cc7\">\n",
              "  <button class=\"colab-df-quickchart\" onclick=\"quickchart('df-cd36413e-298f-46f6-9c6d-dad3eb8b6cc7')\"\n",
              "            title=\"Suggest charts\"\n",
              "            style=\"display:none;\">\n",
              "\n",
              "<svg xmlns=\"http://www.w3.org/2000/svg\" height=\"24px\"viewBox=\"0 0 24 24\"\n",
              "     width=\"24px\">\n",
              "    <g>\n",
              "        <path d=\"M19 3H5c-1.1 0-2 .9-2 2v14c0 1.1.9 2 2 2h14c1.1 0 2-.9 2-2V5c0-1.1-.9-2-2-2zM9 17H7v-7h2v7zm4 0h-2V7h2v10zm4 0h-2v-4h2v4z\"/>\n",
              "    </g>\n",
              "</svg>\n",
              "  </button>\n",
              "\n",
              "<style>\n",
              "  .colab-df-quickchart {\n",
              "      --bg-color: #E8F0FE;\n",
              "      --fill-color: #1967D2;\n",
              "      --hover-bg-color: #E2EBFA;\n",
              "      --hover-fill-color: #174EA6;\n",
              "      --disabled-fill-color: #AAA;\n",
              "      --disabled-bg-color: #DDD;\n",
              "  }\n",
              "\n",
              "  [theme=dark] .colab-df-quickchart {\n",
              "      --bg-color: #3B4455;\n",
              "      --fill-color: #D2E3FC;\n",
              "      --hover-bg-color: #434B5C;\n",
              "      --hover-fill-color: #FFFFFF;\n",
              "      --disabled-bg-color: #3B4455;\n",
              "      --disabled-fill-color: #666;\n",
              "  }\n",
              "\n",
              "  .colab-df-quickchart {\n",
              "    background-color: var(--bg-color);\n",
              "    border: none;\n",
              "    border-radius: 50%;\n",
              "    cursor: pointer;\n",
              "    display: none;\n",
              "    fill: var(--fill-color);\n",
              "    height: 32px;\n",
              "    padding: 0;\n",
              "    width: 32px;\n",
              "  }\n",
              "\n",
              "  .colab-df-quickchart:hover {\n",
              "    background-color: var(--hover-bg-color);\n",
              "    box-shadow: 0 1px 2px rgba(60, 64, 67, 0.3), 0 1px 3px 1px rgba(60, 64, 67, 0.15);\n",
              "    fill: var(--button-hover-fill-color);\n",
              "  }\n",
              "\n",
              "  .colab-df-quickchart-complete:disabled,\n",
              "  .colab-df-quickchart-complete:disabled:hover {\n",
              "    background-color: var(--disabled-bg-color);\n",
              "    fill: var(--disabled-fill-color);\n",
              "    box-shadow: none;\n",
              "  }\n",
              "\n",
              "  .colab-df-spinner {\n",
              "    border: 2px solid var(--fill-color);\n",
              "    border-color: transparent;\n",
              "    border-bottom-color: var(--fill-color);\n",
              "    animation:\n",
              "      spin 1s steps(1) infinite;\n",
              "  }\n",
              "\n",
              "  @keyframes spin {\n",
              "    0% {\n",
              "      border-color: transparent;\n",
              "      border-bottom-color: var(--fill-color);\n",
              "      border-left-color: var(--fill-color);\n",
              "    }\n",
              "    20% {\n",
              "      border-color: transparent;\n",
              "      border-left-color: var(--fill-color);\n",
              "      border-top-color: var(--fill-color);\n",
              "    }\n",
              "    30% {\n",
              "      border-color: transparent;\n",
              "      border-left-color: var(--fill-color);\n",
              "      border-top-color: var(--fill-color);\n",
              "      border-right-color: var(--fill-color);\n",
              "    }\n",
              "    40% {\n",
              "      border-color: transparent;\n",
              "      border-right-color: var(--fill-color);\n",
              "      border-top-color: var(--fill-color);\n",
              "    }\n",
              "    60% {\n",
              "      border-color: transparent;\n",
              "      border-right-color: var(--fill-color);\n",
              "    }\n",
              "    80% {\n",
              "      border-color: transparent;\n",
              "      border-right-color: var(--fill-color);\n",
              "      border-bottom-color: var(--fill-color);\n",
              "    }\n",
              "    90% {\n",
              "      border-color: transparent;\n",
              "      border-bottom-color: var(--fill-color);\n",
              "    }\n",
              "  }\n",
              "</style>\n",
              "\n",
              "  <script>\n",
              "    async function quickchart(key) {\n",
              "      const quickchartButtonEl =\n",
              "        document.querySelector('#' + key + ' button');\n",
              "      quickchartButtonEl.disabled = true;  // To prevent multiple clicks.\n",
              "      quickchartButtonEl.classList.add('colab-df-spinner');\n",
              "      try {\n",
              "        const charts = await google.colab.kernel.invokeFunction(\n",
              "            'suggestCharts', [key], {});\n",
              "      } catch (error) {\n",
              "        console.error('Error during call to suggestCharts:', error);\n",
              "      }\n",
              "      quickchartButtonEl.classList.remove('colab-df-spinner');\n",
              "      quickchartButtonEl.classList.add('colab-df-quickchart-complete');\n",
              "    }\n",
              "    (() => {\n",
              "      let quickchartButtonEl =\n",
              "        document.querySelector('#df-cd36413e-298f-46f6-9c6d-dad3eb8b6cc7 button');\n",
              "      quickchartButtonEl.style.display =\n",
              "        google.colab.kernel.accessAllowed ? 'block' : 'none';\n",
              "    })();\n",
              "  </script>\n",
              "</div>\n",
              "\n",
              "    </div>\n",
              "  </div>\n"
            ],
            "application/vnd.google.colaboratory.intrinsic+json": {
              "type": "dataframe",
              "variable_name": "data",
              "summary": "{\n  \"name\": \"data\",\n  \"rows\": 3736,\n  \"fields\": [\n    {\n      \"column\": \"URLs\",\n      \"properties\": {\n        \"dtype\": \"string\",\n        \"num_unique_values\": 3164,\n        \"samples\": [\n          \"https://www.reuters.com/article/us-m-t-bnk-us-wilmingtontrust-crime/u-s-opens-rare-criminal-trial-versus-bank-stemming-from-2008-crisis-idUSKBN1CF1B1\\r\\n\",\n          \"http://beforeitsnews.com/u-s-politics/2017/09/democrats-and-media-try-to-turn-puerto-rico-into-trumps-katrina-2536938.html\\r\\n\",\n          \"https://www.activistpost.com/2017/09/scott-horton-talks-foreign-policy-vin-armani.html\\r\\n\"\n        ],\n        \"semantic_type\": \"\",\n        \"description\": \"\"\n      }\n    },\n    {\n      \"column\": \"Label\",\n      \"properties\": {\n        \"dtype\": \"number\",\n        \"std\": 0,\n        \"min\": 0,\n        \"max\": 1,\n        \"num_unique_values\": 2,\n        \"samples\": [\n          1,\n          0\n        ],\n        \"semantic_type\": \"\",\n        \"description\": \"\"\n      }\n    },\n    {\n      \"column\": \"text\",\n      \"properties\": {\n        \"dtype\": \"string\",\n        \"num_unique_values\": 3334,\n        \"samples\": [\n          \"Brazil court freezes ex-leader Rousseff's assets over 2006 refinery deal Former Brazilian president Dilma Rousseff attends the \\\"Neoliberalism, inequality, democracy under attack\\\" conference in Lisbon, Portugal March 15, 2017. REUTERS/Rafael Marchante\\nBRASILIA (Reuters) - Brazil\\u2019s federal audit court on Wednesday ordered a freeze of former President Dilma Rousseff\\u2019s assets as well as those of Jos\\u00e9 S\\u00e9rgio Gabrielli, ex-head of state-run oil company Petrobras, over a $580 million loss in the 2006 purchase of a Texas refinery.\\nThe order also covered former Finance Minister Antonio Palocci and three members of the board of directors of Petroleo Brasileiro SA, as Petrobras is formally known, who approved the controversial purchase.\\nThe court, known as the TCU, said it detected \\u201cirregularities\\u201d in the purchase of the refinery in Pasadena, Texas, a move that it considered made no business sense.\\nRousseff said in a statement that there was no evidence any crime was committed by Petrobras board members who approved the deal.\\nPetrobras paid $360 million for half of Pasadena Refining in 2006, more than eight times what its previous owner, Astra Oil, a unit of Belgian-controlled Astra Transcor Energy, paid for the 112,000-barrel-a-day refinery a year earlier.\\nBy 2012, Petrobras had sunk $1.18 billion into it including the cost of buying out Astra\\u2019s remaining half after a legal dispute between both firms.\\nRousseff, who was impeached last year for breaking budget rules, was chief of staff for President Luiz Inacio Lula da Silva at the time of the refinery purchase and chaired the Petrobras board of directors. She succeeded Lula in 2011.\\nFederal prosecutors investigating overpriced Petrobras contracts in the country\\u2019s largest ever corruption scandal centered on the oil company said in 2015 that they uncovered evidence that $15 million in bribes were paid as part of the initial purchase of 50 percent of the refinery. They said Petrobras overpaid for the facility and alleged it was in terrible condition.\\nRousseff said the purchase was decided based on incorrect financial and legal information provided by a director who has since been convicted of corruption. She added that the TCU has in previous rulings exempted board members of responsibility for the losses incurred.\\nThe TCU said the freeze would last one year and cover assets that could guarantee the return to public coffers of the losses run up by Petrobras in buying the refinery.\\nIt was not clear how the $580 million could be recovered.\\nRousseff\\u2019s assets declared before her 2014 re-election included three apartments, two land lots and a house in the southern city of Porto Alegre, plus cash and savings, totaling 1.75 million reais ($551,754).\",\n          \"Turkey to retry opposition lawmaker jailed on espionage charges: NTV ANKARA (Reuters) - Turkey will retry a lawmaker from the main opposition party after a court annulled his 25-year prison sentence but he will remain in custody, broadcaster NTV and opposition lawmakers said on Monday.\\nEnis Berberoglu became a symbol for more than 50,000 people detained in the wake of a failed coup in July 2016.\\nThe chairman of his secular Republican People\\u2019s Party (CHP) started a 425 km (265 mile) protest march from the capital Ankara to Istanbul when he was convicted and sentenced in June for military espionage.\\nThe court had said Berberoglu gave an opposition newspaper a video purporting to show Turkey\\u2019s intelligence agency trucking weapons into Syria.\\nMonday\\u2019s decision to cancel the sentence came from the regional court of appeals, broadcaster NTV said.\\nBerberoglu was the first CHP lawmaker to be jailed in a crackdown by President Tayyip Erdogan\\u2019s government that has raised concerns among Turkey\\u2019s Western allies and rights groups.\\nMore than 150,000 people, including teachers, academics and lawyers, have also been suspended from their jobs. Around 150 media outlets have also been shut and some 160 journalists jailed, the Turkish Journalists Association says.\\nA prosecutor has called for jail sentences of up to 15 years on terrorism charges for rights activists including the local head of Amnesty International, Amnesty said on Sunday.\\nCritics say Turkey is sliding toward greater authoritarianism. The government says such measures are necessary, given the vast security threats it is facing.\\nReporting by Tuvan Gumrukcu; Editing by Matthew Mpoke Bigg\"\n        ],\n        \"semantic_type\": \"\",\n        \"description\": \"\"\n      }\n    }\n  ]\n}"
            }
          },
          "metadata": {},
          "execution_count": 19
        }
      ],
      "source": [
        "data.head()"
      ]
    },
    {
      "cell_type": "markdown",
      "id": "070fb88b",
      "metadata": {
        "id": "070fb88b"
      },
      "source": [
        "## Data Cleaning"
      ]
    },
    {
      "cell_type": "code",
      "execution_count": null,
      "id": "c735e34a",
      "metadata": {
        "id": "c735e34a"
      },
      "outputs": [],
      "source": [
        "from nltk.corpus import stopwords"
      ]
    },
    {
      "cell_type": "code",
      "source": [
        "nltk.download('stopwords')"
      ],
      "metadata": {
        "colab": {
          "base_uri": "https://localhost:8080/"
        },
        "id": "jOB6KsrYNiut",
        "outputId": "52c8c1d5-d929-40c1-db50-a0157a27aea7"
      },
      "id": "jOB6KsrYNiut",
      "execution_count": null,
      "outputs": [
        {
          "output_type": "stream",
          "name": "stderr",
          "text": [
            "[nltk_data] Downloading package stopwords to /root/nltk_data...\n",
            "[nltk_data]   Unzipping corpora/stopwords.zip.\n"
          ]
        },
        {
          "output_type": "execute_result",
          "data": {
            "text/plain": [
              "True"
            ]
          },
          "metadata": {},
          "execution_count": 23
        }
      ]
    },
    {
      "cell_type": "code",
      "execution_count": null,
      "id": "d3c2678d",
      "metadata": {
        "colab": {
          "base_uri": "https://localhost:8080/"
        },
        "id": "d3c2678d",
        "outputId": "6c2c7dfa-1388-4110-9c4d-f85cf9a39120"
      },
      "outputs": [
        {
          "output_type": "stream",
          "name": "stdout",
          "text": [
            "Number of stopwords: 226\n"
          ]
        }
      ],
      "source": [
        "stop_words = set(stopwords.words('english'))\n",
        "to_remove = ['•', '!', '\"', '#', '”', '“', '$', '%', '&', \"'\", '–', '(', ')', '*', '+', ',', '-', '.', '/', ':', ';', '<', '=', '>', '?', '@', '[', '\\\\', ']', '^', '_', '`', '{', '|', '}', '~', '0', '1', '2', '3', '4', '5', '6', '7', '8', '9', '…']\n",
        "stop_words.update(to_remove)\n",
        "print('Number of stopwords:', len(stop_words))"
      ]
    },
    {
      "cell_type": "code",
      "execution_count": null,
      "id": "765575e9",
      "metadata": {
        "colab": {
          "base_uri": "https://localhost:8080/"
        },
        "id": "765575e9",
        "outputId": "bf21e5ae-a7b0-4f52-a017-a85c71bae723"
      },
      "outputs": [
        {
          "output_type": "stream",
          "name": "stdout",
          "text": [
            "Collecting swifter\n",
            "  Downloading swifter-1.4.0.tar.gz (1.2 MB)\n",
            "\u001b[2K     \u001b[90m━━━━━━━━━━━━━━━━━━━━━━━━━━━━━━━━━━━━━━━━\u001b[0m \u001b[32m1.2/1.2 MB\u001b[0m \u001b[31m15.7 MB/s\u001b[0m eta \u001b[36m0:00:00\u001b[0m\n",
            "\u001b[?25h  Preparing metadata (setup.py) ... \u001b[?25l\u001b[?25hdone\n",
            "Requirement already satisfied: pandas>=1.0.0 in /usr/local/lib/python3.10/dist-packages (from swifter) (2.0.3)\n",
            "Requirement already satisfied: psutil>=5.6.6 in /usr/local/lib/python3.10/dist-packages (from swifter) (5.9.5)\n",
            "Requirement already satisfied: dask[dataframe]>=2.10.0 in /usr/local/lib/python3.10/dist-packages (from swifter) (2023.8.1)\n",
            "Requirement already satisfied: tqdm>=4.33.0 in /usr/local/lib/python3.10/dist-packages (from swifter) (4.66.4)\n",
            "Requirement already satisfied: click>=8.0 in /usr/local/lib/python3.10/dist-packages (from dask[dataframe]>=2.10.0->swifter) (8.1.7)\n",
            "Requirement already satisfied: cloudpickle>=1.5.0 in /usr/local/lib/python3.10/dist-packages (from dask[dataframe]>=2.10.0->swifter) (2.2.1)\n",
            "Requirement already satisfied: fsspec>=2021.09.0 in /usr/local/lib/python3.10/dist-packages (from dask[dataframe]>=2.10.0->swifter) (2023.6.0)\n",
            "Requirement already satisfied: packaging>=20.0 in /usr/local/lib/python3.10/dist-packages (from dask[dataframe]>=2.10.0->swifter) (24.1)\n",
            "Requirement already satisfied: partd>=1.2.0 in /usr/local/lib/python3.10/dist-packages (from dask[dataframe]>=2.10.0->swifter) (1.4.2)\n",
            "Requirement already satisfied: pyyaml>=5.3.1 in /usr/local/lib/python3.10/dist-packages (from dask[dataframe]>=2.10.0->swifter) (6.0.1)\n",
            "Requirement already satisfied: toolz>=0.10.0 in /usr/local/lib/python3.10/dist-packages (from dask[dataframe]>=2.10.0->swifter) (0.12.1)\n",
            "Requirement already satisfied: importlib-metadata>=4.13.0 in /usr/local/lib/python3.10/dist-packages (from dask[dataframe]>=2.10.0->swifter) (7.2.0)\n",
            "Requirement already satisfied: python-dateutil>=2.8.2 in /usr/local/lib/python3.10/dist-packages (from pandas>=1.0.0->swifter) (2.8.2)\n",
            "Requirement already satisfied: pytz>=2020.1 in /usr/local/lib/python3.10/dist-packages (from pandas>=1.0.0->swifter) (2023.4)\n",
            "Requirement already satisfied: tzdata>=2022.1 in /usr/local/lib/python3.10/dist-packages (from pandas>=1.0.0->swifter) (2024.1)\n",
            "Requirement already satisfied: numpy>=1.21.0 in /usr/local/lib/python3.10/dist-packages (from pandas>=1.0.0->swifter) (1.25.2)\n",
            "Requirement already satisfied: zipp>=0.5 in /usr/local/lib/python3.10/dist-packages (from importlib-metadata>=4.13.0->dask[dataframe]>=2.10.0->swifter) (3.19.2)\n",
            "Requirement already satisfied: locket in /usr/local/lib/python3.10/dist-packages (from partd>=1.2.0->dask[dataframe]>=2.10.0->swifter) (1.0.0)\n",
            "Requirement already satisfied: six>=1.5 in /usr/local/lib/python3.10/dist-packages (from python-dateutil>=2.8.2->pandas>=1.0.0->swifter) (1.16.0)\n",
            "Building wheels for collected packages: swifter\n",
            "  Building wheel for swifter (setup.py) ... \u001b[?25l\u001b[?25hdone\n",
            "  Created wheel for swifter: filename=swifter-1.4.0-py3-none-any.whl size=16507 sha256=cf38ed7d5b85a2c67982a8f0724a00a91fffd9bf8d1aa11cbef1a6998e92cfe5\n",
            "  Stored in directory: /root/.cache/pip/wheels/e4/cf/51/0904952972ee2c7aa3709437065278dc534ec1b8d2ad41b443\n",
            "Successfully built swifter\n",
            "Installing collected packages: swifter\n",
            "Successfully installed swifter-1.4.0\n"
          ]
        }
      ],
      "source": [
        "!pip install swifter\n",
        "import swifter"
      ]
    },
    {
      "cell_type": "code",
      "source": [
        "df=data"
      ],
      "metadata": {
        "id": "BDUv8ivUNyK4"
      },
      "id": "BDUv8ivUNyK4",
      "execution_count": null,
      "outputs": []
    },
    {
      "cell_type": "code",
      "execution_count": null,
      "id": "61d72b38",
      "metadata": {
        "colab": {
          "base_uri": "https://localhost:8080/",
          "height": 49,
          "referenced_widgets": [
            "af184f666f134199aad6703656831f04",
            "313a363c771c477591c48f65e4d60aa6",
            "22daf8bad22c4ed6a3a0074c2453cf9d",
            "d3a3eef76eb64a4b8b36189419779655",
            "0a67cd1164f0440ea969e4c91bc62c58",
            "e567ea30c9dc4229875efd261b25618a",
            "799e1240d7264254a5605e518d169957",
            "fbf69c7f72b649ef8915938e68fae66c",
            "cd54108f85b94687a49bc790d87a16a3",
            "768ba2d99cf64dd0ac8023ee4d037bfc",
            "b1d1fa2d28e549ab8b8fc118e2d17370"
          ]
        },
        "id": "61d72b38",
        "outputId": "296773e0-f312-4333-f90c-959f816e7ba5"
      },
      "outputs": [
        {
          "output_type": "display_data",
          "data": {
            "text/plain": [
              "Pandas Apply:   0%|          | 0/3736 [00:00<?, ?it/s]"
            ],
            "application/vnd.jupyter.widget-view+json": {
              "version_major": 2,
              "version_minor": 0,
              "model_id": "af184f666f134199aad6703656831f04"
            }
          },
          "metadata": {}
        }
      ],
      "source": [
        "def clean_text(text):\n",
        "    text = text.lower()\n",
        "    text = re.sub(r'http\\S+', '', text)\n",
        "    text = re.sub('\\[[^]]*\\]', '', text)\n",
        "    text = (\" \").join([word for word in text.split() if not word in stop_words])\n",
        "    text = \"\".join([char for char in text if not char in to_remove])\n",
        "    return text\n",
        "\n",
        "df['text'] = df['text'].swifter.apply(clean_text)"
      ]
    },
    {
      "cell_type": "markdown",
      "id": "01f2627d",
      "metadata": {
        "id": "01f2627d"
      },
      "source": [
        "\n",
        "## Word2Vec"
      ]
    },
    {
      "cell_type": "code",
      "execution_count": null,
      "id": "79e03831",
      "metadata": {
        "id": "79e03831"
      },
      "outputs": [],
      "source": [
        "from sklearn.metrics import classification_report,confusion_matrix,accuracy_score\n",
        "from sklearn.model_selection import train_test_split\n",
        "import gensim\n",
        "from keras.layers import Dense,Embedding,LSTM,Dropout\n",
        "from keras.models import Sequential\n",
        "from keras.preprocessing.sequence import pad_sequences\n",
        "from keras.preprocessing.text import Tokenizer"
      ]
    },
    {
      "cell_type": "code",
      "execution_count": null,
      "id": "e008c58c",
      "metadata": {
        "id": "e008c58c"
      },
      "outputs": [],
      "source": [
        "text_train, text_test, y_train, y_test = train_test_split(data['text'], data['Label'], test_size = 0.2, random_state = 42)"
      ]
    },
    {
      "cell_type": "code",
      "execution_count": null,
      "id": "843ad87a",
      "metadata": {
        "id": "843ad87a"
      },
      "outputs": [],
      "source": [
        "size_embedding = 200 #Dimensionality of the feature vectors\n",
        "windows = 3 #Maximum distance between the current and predicted word within a sentence\n",
        "min_count = 1 #Ignores words with total frequency lower than this\n",
        "maxlen = 1000 #Length decided for the text (adjusted by padding and truncating)"
      ]
    },
    {
      "cell_type": "code",
      "execution_count": null,
      "id": "93b03c8f",
      "metadata": {
        "id": "93b03c8f"
      },
      "outputs": [],
      "source": [
        "text_train_splited = [article.split() for article in text_train]"
      ]
    },
    {
      "cell_type": "code",
      "execution_count": null,
      "id": "44e4def7",
      "metadata": {
        "id": "44e4def7"
      },
      "outputs": [],
      "source": [
        "w2v_model = gensim.models.Word2Vec(sentences = text_train_splited,\n",
        "                                   vector_size = size_embedding,\n",
        "                                   window = windows,\n",
        "                                   min_count = min_count)"
      ]
    },
    {
      "cell_type": "code",
      "execution_count": null,
      "id": "4cacb055",
      "metadata": {
        "colab": {
          "base_uri": "https://localhost:8080/"
        },
        "id": "4cacb055",
        "outputId": "774000c4-5386-4983-e3b2-2a908aa2b412"
      },
      "outputs": [
        {
          "output_type": "stream",
          "name": "stdout",
          "text": [
            "Sive of vocabulary:  48318\n"
          ]
        }
      ],
      "source": [
        "tokenizer = Tokenizer()\n",
        "tokenizer.fit_on_texts(text_train_splited)\n",
        "text_train_tok = tokenizer.texts_to_sequences(text_train_splited)\n",
        "word_index = tokenizer.word_index\n",
        "print('Sive of vocabulary: ', len(word_index))"
      ]
    },
    {
      "cell_type": "code",
      "execution_count": null,
      "id": "a279e747",
      "metadata": {
        "id": "a279e747"
      },
      "outputs": [],
      "source": [
        "text_train_tok_pad = pad_sequences(text_train_tok, maxlen=maxlen)"
      ]
    },
    {
      "cell_type": "code",
      "execution_count": null,
      "id": "f9cb1e53",
      "metadata": {
        "id": "f9cb1e53"
      },
      "outputs": [],
      "source": [
        "def w2v_to_keras_weights(model, vocab):\n",
        "    vocab_size = len(vocab) + 1\n",
        "    size_embedding = model.vector_size\n",
        "    weight_matrix = np.zeros((vocab_size, size_embedding))\n",
        "    for word, i in vocab.items():\n",
        "        if word in model.wv:\n",
        "            weight_matrix[i] = model.wv[word]\n",
        "    return weight_matrix\n",
        "\n",
        "embedding_vectors = w2v_to_keras_weights(w2v_model, word_index)"
      ]
    },
    {
      "cell_type": "markdown",
      "id": "00de8a45",
      "metadata": {
        "id": "00de8a45"
      },
      "source": [
        "# Modeling"
      ]
    },
    {
      "cell_type": "raw",
      "id": "7a61bda2",
      "metadata": {
        "id": "7a61bda2"
      },
      "source": [
        "### In this section i will use lstm model and its variants such as : Bilstm , StackLstm and GRU and compare between them to find the based model"
      ]
    },
    {
      "cell_type": "markdown",
      "id": "832abfcd",
      "metadata": {
        "id": "832abfcd"
      },
      "source": [
        "### 1. LSTM"
      ]
    },
    {
      "cell_type": "code",
      "execution_count": null,
      "id": "24825dce",
      "metadata": {
        "id": "24825dce"
      },
      "outputs": [],
      "source": [
        "def set_model(embedding_vectors):\n",
        "    model = Sequential()\n",
        "    model.add(Embedding(embedding_vectors.shape[0],\n",
        "                        output_dim=embedding_vectors.shape[1],\n",
        "                        weights=[embedding_vectors],\n",
        "                        input_length=maxlen,\n",
        "                        trainable=False))\n",
        "    model.add(LSTM(units=32))\n",
        "    model.add(Dense(1, activation='sigmoid'))\n",
        "    model.compile(optimizer='adam', loss='binary_crossentropy', metrics=['acc'])\n",
        "    return model"
      ]
    },
    {
      "cell_type": "code",
      "execution_count": null,
      "id": "b9b3d123",
      "metadata": {
        "scrolled": true,
        "colab": {
          "base_uri": "https://localhost:8080/"
        },
        "id": "b9b3d123",
        "outputId": "8ffec3f5-c459-48cf-d579-1d130f510637"
      },
      "outputs": [
        {
          "output_type": "stream",
          "name": "stdout",
          "text": [
            "Model: \"sequential_1\"\n",
            "_________________________________________________________________\n",
            " Layer (type)                Output Shape              Param #   \n",
            "=================================================================\n",
            " embedding_1 (Embedding)     (None, 1000, 200)         9663800   \n",
            "                                                                 \n",
            " lstm_1 (LSTM)               (None, 32)                29824     \n",
            "                                                                 \n",
            " dense_1 (Dense)             (None, 1)                 33        \n",
            "                                                                 \n",
            "=================================================================\n",
            "Total params: 9693657 (36.98 MB)\n",
            "Trainable params: 29857 (116.63 KB)\n",
            "Non-trainable params: 9663800 (36.86 MB)\n",
            "_________________________________________________________________\n",
            "Epoch 1/50\n",
            "75/75 [==============================] - 5s 39ms/step - loss: 0.3634 - acc: 0.8464 - val_loss: 0.1912 - val_acc: 0.9365\n",
            "Epoch 2/50\n",
            "75/75 [==============================] - 3s 45ms/step - loss: 0.2168 - acc: 0.9184 - val_loss: 0.1770 - val_acc: 0.9415\n",
            "Epoch 3/50\n",
            "75/75 [==============================] - 2s 33ms/step - loss: 0.1789 - acc: 0.9322 - val_loss: 0.1491 - val_acc: 0.9532\n",
            "Epoch 4/50\n",
            "75/75 [==============================] - 2s 32ms/step - loss: 0.1539 - acc: 0.9385 - val_loss: 0.1475 - val_acc: 0.9498\n",
            "Epoch 5/50\n",
            "75/75 [==============================] - 3s 40ms/step - loss: 0.1369 - acc: 0.9418 - val_loss: 0.1231 - val_acc: 0.9548\n",
            "Epoch 6/50\n",
            "75/75 [==============================] - 3s 43ms/step - loss: 0.1235 - acc: 0.9515 - val_loss: 0.1597 - val_acc: 0.9331\n",
            "Epoch 7/50\n",
            "75/75 [==============================] - 3s 42ms/step - loss: 0.1055 - acc: 0.9615 - val_loss: 0.1163 - val_acc: 0.9548\n",
            "Epoch 8/50\n",
            "75/75 [==============================] - 2s 32ms/step - loss: 0.0978 - acc: 0.9615 - val_loss: 0.0971 - val_acc: 0.9699\n",
            "Epoch 9/50\n",
            "75/75 [==============================] - 2s 32ms/step - loss: 0.0833 - acc: 0.9715 - val_loss: 0.0998 - val_acc: 0.9615\n",
            "Epoch 10/50\n",
            "75/75 [==============================] - 2s 31ms/step - loss: 0.0699 - acc: 0.9787 - val_loss: 0.0925 - val_acc: 0.9615\n",
            "Epoch 11/50\n",
            "75/75 [==============================] - 3s 34ms/step - loss: 0.0736 - acc: 0.9757 - val_loss: 0.1016 - val_acc: 0.9649\n",
            "Epoch 12/50\n",
            "75/75 [==============================] - 3s 42ms/step - loss: 0.0640 - acc: 0.9770 - val_loss: 0.1144 - val_acc: 0.9582\n",
            "Epoch 13/50\n",
            "75/75 [==============================] - 2s 33ms/step - loss: 0.0522 - acc: 0.9837 - val_loss: 0.0872 - val_acc: 0.9716\n",
            "Epoch 14/50\n",
            "75/75 [==============================] - 2s 32ms/step - loss: 0.0379 - acc: 0.9887 - val_loss: 0.0843 - val_acc: 0.9732\n",
            "Epoch 15/50\n",
            "75/75 [==============================] - 2s 33ms/step - loss: 0.0403 - acc: 0.9879 - val_loss: 0.0858 - val_acc: 0.9699\n",
            "Epoch 16/50\n",
            "75/75 [==============================] - 3s 34ms/step - loss: 0.0405 - acc: 0.9866 - val_loss: 0.0946 - val_acc: 0.9783\n",
            "Epoch 17/50\n",
            "75/75 [==============================] - 3s 42ms/step - loss: 0.0296 - acc: 0.9921 - val_loss: 0.0987 - val_acc: 0.9615\n",
            "Epoch 18/50\n",
            "75/75 [==============================] - 2s 32ms/step - loss: 0.0301 - acc: 0.9921 - val_loss: 0.1021 - val_acc: 0.9749\n",
            "Epoch 19/50\n",
            "75/75 [==============================] - 2s 32ms/step - loss: 0.0262 - acc: 0.9921 - val_loss: 0.0927 - val_acc: 0.9766\n",
            "Epoch 20/50\n",
            "75/75 [==============================] - 2s 32ms/step - loss: 0.0261 - acc: 0.9908 - val_loss: 0.0941 - val_acc: 0.9749\n",
            "Epoch 21/50\n",
            "75/75 [==============================] - 2s 33ms/step - loss: 0.0230 - acc: 0.9937 - val_loss: 0.0978 - val_acc: 0.9699\n",
            "Epoch 22/50\n",
            "75/75 [==============================] - 3s 45ms/step - loss: 0.0662 - acc: 0.9757 - val_loss: 0.0903 - val_acc: 0.9682\n",
            "Epoch 23/50\n",
            "75/75 [==============================] - 2s 32ms/step - loss: 0.0379 - acc: 0.9883 - val_loss: 0.0752 - val_acc: 0.9766\n",
            "Epoch 24/50\n",
            "75/75 [==============================] - 2s 31ms/step - loss: 0.0286 - acc: 0.9912 - val_loss: 0.0872 - val_acc: 0.9732\n",
            "Epoch 25/50\n",
            "75/75 [==============================] - 2s 32ms/step - loss: 0.0396 - acc: 0.9845 - val_loss: 0.1051 - val_acc: 0.9732\n",
            "Epoch 26/50\n",
            "75/75 [==============================] - 2s 33ms/step - loss: 0.0856 - acc: 0.9649 - val_loss: 0.0733 - val_acc: 0.9749\n",
            "Epoch 27/50\n",
            "75/75 [==============================] - 3s 42ms/step - loss: 0.0209 - acc: 0.9946 - val_loss: 0.0800 - val_acc: 0.9732\n",
            "Epoch 28/50\n",
            "75/75 [==============================] - 3s 35ms/step - loss: 0.0134 - acc: 0.9975 - val_loss: 0.0813 - val_acc: 0.9749\n",
            "Epoch 29/50\n",
            "75/75 [==============================] - 4s 47ms/step - loss: 0.0111 - acc: 0.9971 - val_loss: 0.0848 - val_acc: 0.9783\n",
            "Epoch 30/50\n",
            "75/75 [==============================] - 2s 31ms/step - loss: 0.0080 - acc: 0.9983 - val_loss: 0.0907 - val_acc: 0.9766\n",
            "Epoch 31/50\n",
            "75/75 [==============================] - 3s 37ms/step - loss: 0.0057 - acc: 0.9992 - val_loss: 0.0926 - val_acc: 0.9732\n",
            "Epoch 32/50\n",
            "75/75 [==============================] - 3s 40ms/step - loss: 0.0046 - acc: 0.9992 - val_loss: 0.0980 - val_acc: 0.9732\n",
            "Epoch 33/50\n",
            "75/75 [==============================] - 2s 32ms/step - loss: 0.0044 - acc: 0.9992 - val_loss: 0.0952 - val_acc: 0.9783\n",
            "Epoch 34/50\n",
            "75/75 [==============================] - 2s 32ms/step - loss: 0.0032 - acc: 0.9996 - val_loss: 0.0919 - val_acc: 0.9766\n",
            "Epoch 35/50\n",
            "75/75 [==============================] - 2s 32ms/step - loss: 0.0026 - acc: 1.0000 - val_loss: 0.0967 - val_acc: 0.9732\n",
            "Epoch 36/50\n",
            "75/75 [==============================] - 3s 33ms/step - loss: 0.0022 - acc: 1.0000 - val_loss: 0.0992 - val_acc: 0.9766\n",
            "Epoch 37/50\n",
            "75/75 [==============================] - 3s 42ms/step - loss: 0.0019 - acc: 1.0000 - val_loss: 0.0970 - val_acc: 0.9732\n",
            "Epoch 38/50\n",
            "75/75 [==============================] - 2s 33ms/step - loss: 0.0017 - acc: 1.0000 - val_loss: 0.1008 - val_acc: 0.9766\n",
            "Epoch 39/50\n",
            "75/75 [==============================] - 2s 33ms/step - loss: 0.0015 - acc: 1.0000 - val_loss: 0.0992 - val_acc: 0.9783\n",
            "Epoch 40/50\n",
            "75/75 [==============================] - 2s 32ms/step - loss: 0.0013 - acc: 1.0000 - val_loss: 0.1027 - val_acc: 0.9783\n",
            "Epoch 41/50\n",
            "75/75 [==============================] - 3s 37ms/step - loss: 0.0011 - acc: 1.0000 - val_loss: 0.1073 - val_acc: 0.9766\n",
            "Epoch 42/50\n",
            "75/75 [==============================] - 3s 42ms/step - loss: 0.0010 - acc: 1.0000 - val_loss: 0.1056 - val_acc: 0.9749\n",
            "Epoch 43/50\n",
            "75/75 [==============================] - 2s 32ms/step - loss: 8.9873e-04 - acc: 1.0000 - val_loss: 0.1101 - val_acc: 0.9749\n",
            "Epoch 44/50\n",
            "75/75 [==============================] - 2s 33ms/step - loss: 8.1539e-04 - acc: 1.0000 - val_loss: 0.1119 - val_acc: 0.9749\n",
            "Epoch 45/50\n",
            "75/75 [==============================] - 2s 32ms/step - loss: 7.4242e-04 - acc: 1.0000 - val_loss: 0.1140 - val_acc: 0.9732\n",
            "Epoch 46/50\n",
            "75/75 [==============================] - 3s 34ms/step - loss: 6.7052e-04 - acc: 1.0000 - val_loss: 0.1137 - val_acc: 0.9749\n",
            "Epoch 47/50\n",
            "75/75 [==============================] - 3s 41ms/step - loss: 6.2024e-04 - acc: 1.0000 - val_loss: 0.1183 - val_acc: 0.9732\n",
            "Epoch 48/50\n",
            "75/75 [==============================] - 2s 31ms/step - loss: 5.6251e-04 - acc: 1.0000 - val_loss: 0.1222 - val_acc: 0.9732\n",
            "Epoch 49/50\n",
            "75/75 [==============================] - 2s 31ms/step - loss: 5.2650e-04 - acc: 1.0000 - val_loss: 0.1214 - val_acc: 0.9732\n",
            "Epoch 50/50\n",
            "75/75 [==============================] - 2s 32ms/step - loss: 4.7655e-04 - acc: 1.0000 - val_loss: 0.1263 - val_acc: 0.9732\n"
          ]
        }
      ],
      "source": [
        "model = set_model(embedding_vectors = embedding_vectors)\n",
        "model.summary()\n",
        "\n",
        "history = model.fit(text_train_tok_pad, y_train, validation_split=0.2, epochs=50, batch_size = 32, verbose = 1)"
      ]
    },
    {
      "cell_type": "code",
      "execution_count": null,
      "id": "3f9bfd09",
      "metadata": {
        "colab": {
          "base_uri": "https://localhost:8080/",
          "height": 927
        },
        "id": "3f9bfd09",
        "outputId": "6355a0ef-e49d-4775-fe2c-1eccfedd69a8"
      },
      "outputs": [
        {
          "output_type": "display_data",
          "data": {
            "text/plain": [
              "<Figure size 640x480 with 1 Axes>"
            ],
            "image/png": "[encoded data removed]"
          },
          "metadata": {}
        },
        {
          "output_type": "display_data",
          "data": {
            "text/plain": [
              "<Figure size 640x480 with 1 Axes>"
            ],
            "image/png": "[encoded data removed]"
          },
          "metadata": {}
        }
      ],
      "source": [
        "def plot_history(history, model_name):\n",
        "    # Summarize history for accuracy\n",
        "    plt.plot(history.history['acc'])\n",
        "    plt.plot(history.history['val_acc'])\n",
        "    plt.title(f'{model_name} Model Accuracy')\n",
        "    plt.ylabel('Accuracy')\n",
        "    plt.xlabel('Epoch')\n",
        "    plt.legend(['Train', 'Validation'], loc='upper left')\n",
        "    plt.show()\n",
        "\n",
        "    # Summarize history for loss\n",
        "    plt.plot(history.history['loss'])\n",
        "    plt.plot(history.history['val_loss'])\n",
        "    plt.title(f'{model_name} Model Loss')\n",
        "    plt.ylabel('Loss')\n",
        "    plt.xlabel('Epoch')\n",
        "    plt.legend(['Train', 'Validation'], loc='upper left')\n",
        "    plt.show()\n",
        "\n",
        "# Plot history for each model\n",
        "plot_history(history, 'LSTM')"
      ]
    },
    {
      "cell_type": "code",
      "source": [
        "model.fit(text_train_tok_pad, y_train, epochs=15, batch_size = 16, verbose = 0)"
      ],
      "metadata": {
        "colab": {
          "base_uri": "https://localhost:8080/"
        },
        "id": "OlUlCgIwO-E9",
        "outputId": "e3603f17-7775-4eaa-c257-7fc2d1d7451e"
      },
      "id": "OlUlCgIwO-E9",
      "execution_count": null,
      "outputs": [
        {
          "output_type": "execute_result",
          "data": {
            "text/plain": [
              "<keras.src.callbacks.History at 0x784ee810c4c0>"
            ]
          },
          "metadata": {},
          "execution_count": 42
        }
      ]
    },
    {
      "cell_type": "code",
      "source": [
        "text_train_splited = [article.split() for article in text_test]\n",
        "text_test_tok = tokenizer.texts_to_sequences(text_train_splited)\n",
        "text_test_tok_pad = pad_sequences(text_test_tok, maxlen=maxlen)\n",
        "pred = (model.predict(text_test_tok_pad) > 0.5).astype(\"int32\")\n",
        "\n",
        "print(classification_report(y_test, pred, target_names = ['Fake','Not Fake']))\n",
        "cm = pd.DataFrame(confusion_matrix(y_test,pred))\n",
        "\n",
        "fig , ax = plt.subplots(figsize = (2,2))\n",
        "ax = sns.heatmap(cm, annot = True, xticklabels = ['Fake','True'] , yticklabels = ['Fake','True'], cbar = False, fmt='')\n",
        "ax.set_xlabel(\"Predicted\"); ax.set_ylabel(\"Actual\"); fig.show()"
      ],
      "metadata": {
        "colab": {
          "base_uri": "https://localhost:8080/",
          "height": 408
        },
        "id": "rv5oQ_KOPLOG",
        "outputId": "50852149-f345-43ae-a13d-12280f3be740"
      },
      "id": "rv5oQ_KOPLOG",
      "execution_count": null,
      "outputs": [
        {
          "output_type": "stream",
          "name": "stdout",
          "text": [
            "24/24 [==============================] - 1s 20ms/step\n",
            "              precision    recall  f1-score   support\n",
            "\n",
            "        Fake       0.97      0.97      0.97       392\n",
            "    Not Fake       0.97      0.97      0.97       356\n",
            "\n",
            "    accuracy                           0.97       748\n",
            "   macro avg       0.97      0.97      0.97       748\n",
            "weighted avg       0.97      0.97      0.97       748\n",
            "\n"
          ]
        },
        {
          "output_type": "display_data",
          "data": {
            "text/plain": [
              "<Figure size 200x200 with 1 Axes>"
            ],
            "image/png": "[encoded data removed]"
          },
          "metadata": {}
        }
      ]
    },
    {
      "cell_type": "code",
      "source": [
        "!pip install seaborn"
      ],
      "metadata": {
        "colab": {
          "base_uri": "https://localhost:8080/"
        },
        "id": "bdL-vHhuPpqW",
        "outputId": "a7e257af-fb08-4751-f937-30c62b07e5a3"
      },
      "id": "bdL-vHhuPpqW",
      "execution_count": null,
      "outputs": [
        {
          "output_type": "stream",
          "name": "stdout",
          "text": [
            "Requirement already satisfied: seaborn in /usr/local/lib/python3.10/dist-packages (0.13.1)\n",
            "Requirement already satisfied: numpy!=1.24.0,>=1.20 in /usr/local/lib/python3.10/dist-packages (from seaborn) (1.25.2)\n",
            "Requirement already satisfied: pandas>=1.2 in /usr/local/lib/python3.10/dist-packages (from seaborn) (2.0.3)\n",
            "Requirement already satisfied: matplotlib!=3.6.1,>=3.4 in /usr/local/lib/python3.10/dist-packages (from seaborn) (3.7.1)\n",
            "Requirement already satisfied: contourpy>=1.0.1 in /usr/local/lib/python3.10/dist-packages (from matplotlib!=3.6.1,>=3.4->seaborn) (1.2.1)\n",
            "Requirement already satisfied: cycler>=0.10 in /usr/local/lib/python3.10/dist-packages (from matplotlib!=3.6.1,>=3.4->seaborn) (0.12.1)\n",
            "Requirement already satisfied: fonttools>=4.22.0 in /usr/local/lib/python3.10/dist-packages (from matplotlib!=3.6.1,>=3.4->seaborn) (4.53.0)\n",
            "Requirement already satisfied: kiwisolver>=1.0.1 in /usr/local/lib/python3.10/dist-packages (from matplotlib!=3.6.1,>=3.4->seaborn) (1.4.5)\n",
            "Requirement already satisfied: packaging>=20.0 in /usr/local/lib/python3.10/dist-packages (from matplotlib!=3.6.1,>=3.4->seaborn) (24.1)\n",
            "Requirement already satisfied: pillow>=6.2.0 in /usr/local/lib/python3.10/dist-packages (from matplotlib!=3.6.1,>=3.4->seaborn) (9.4.0)\n",
            "Requirement already satisfied: pyparsing>=2.3.1 in /usr/local/lib/python3.10/dist-packages (from matplotlib!=3.6.1,>=3.4->seaborn) (3.1.2)\n",
            "Requirement already satisfied: python-dateutil>=2.7 in /usr/local/lib/python3.10/dist-packages (from matplotlib!=3.6.1,>=3.4->seaborn) (2.8.2)\n",
            "Requirement already satisfied: pytz>=2020.1 in /usr/local/lib/python3.10/dist-packages (from pandas>=1.2->seaborn) (2023.4)\n",
            "Requirement already satisfied: tzdata>=2022.1 in /usr/local/lib/python3.10/dist-packages (from pandas>=1.2->seaborn) (2024.1)\n",
            "Requirement already satisfied: six>=1.5 in /usr/local/lib/python3.10/dist-packages (from python-dateutil>=2.7->matplotlib!=3.6.1,>=3.4->seaborn) (1.16.0)\n"
          ]
        }
      ]
    },
    {
      "cell_type": "code",
      "source": [
        "import seaborn as sns"
      ],
      "metadata": {
        "id": "D0WhButQPsxR"
      },
      "id": "D0WhButQPsxR",
      "execution_count": null,
      "outputs": []
    },
    {
      "cell_type": "markdown",
      "source": [
        "## 2. BILSTM"
      ],
      "metadata": {
        "id": "fUfGFc8cVj4e"
      },
      "id": "fUfGFc8cVj4e"
    },
    {
      "cell_type": "code",
      "source": [
        "from keras.models import Sequential\n",
        "from keras.layers import Embedding, LSTM, Bidirectional, Dense"
      ],
      "metadata": {
        "id": "Lffu2UccWjH0"
      },
      "id": "Lffu2UccWjH0",
      "execution_count": null,
      "outputs": []
    },
    {
      "cell_type": "code",
      "source": [
        "def set_bilstm_model(embedding_vectors):\n",
        "    model = Sequential()\n",
        "    model.add(Embedding(embedding_vectors.shape[0],\n",
        "                        output_dim=embedding_vectors.shape[1],\n",
        "                        weights=[embedding_vectors],\n",
        "                        input_length=maxlen,\n",
        "                        trainable=False))\n",
        "    model.add(Bidirectional(LSTM(units=32)))\n",
        "    model.add(Dense(1, activation='sigmoid'))\n",
        "    model.compile(optimizer='adam', loss='binary_crossentropy', metrics=['acc'])\n",
        "    return model\n",
        "\n",
        "model_bilstm = set_bilstm_model(embedding_vectors = embedding_vectors)\n",
        "model_bilstm.summary()"
      ],
      "metadata": {
        "colab": {
          "base_uri": "https://localhost:8080/"
        },
        "id": "Xhr5FO8dP6bV",
        "outputId": "a1365ff2-0c92-4ac1-a487-f196dcb9ddc9"
      },
      "id": "Xhr5FO8dP6bV",
      "execution_count": null,
      "outputs": [
        {
          "output_type": "stream",
          "name": "stdout",
          "text": [
            "Model: \"sequential_2\"\n",
            "_________________________________________________________________\n",
            " Layer (type)                Output Shape              Param #   \n",
            "=================================================================\n",
            " embedding_2 (Embedding)     (None, 1000, 200)         9663800   \n",
            "                                                                 \n",
            " bidirectional (Bidirection  (None, 64)                59648     \n",
            " al)                                                             \n",
            "                                                                 \n",
            " dense_2 (Dense)             (None, 1)                 65        \n",
            "                                                                 \n",
            "=================================================================\n",
            "Total params: 9723513 (37.09 MB)\n",
            "Trainable params: 59713 (233.25 KB)\n",
            "Non-trainable params: 9663800 (36.86 MB)\n",
            "_________________________________________________________________\n"
          ]
        }
      ]
    },
    {
      "cell_type": "code",
      "source": [
        "history_bilstm = model_bilstm.fit(text_train_tok_pad, y_train, validation_split=0.2, epochs=50, batch_size=32, verbose=1)"
      ],
      "metadata": {
        "colab": {
          "base_uri": "https://localhost:8080/"
        },
        "id": "bUVzjgyrQIaJ",
        "outputId": "096fc073-798d-4966-d5df-273dfe89764b"
      },
      "id": "bUVzjgyrQIaJ",
      "execution_count": null,
      "outputs": [
        {
          "output_type": "stream",
          "name": "stdout",
          "text": [
            "Epoch 1/50\n",
            "75/75 [==============================] - 16s 121ms/step - loss: 0.3729 - acc: 0.8665 - val_loss: 0.2041 - val_acc: 0.9264\n",
            "Epoch 2/50\n",
            "75/75 [==============================] - 4s 59ms/step - loss: 0.2403 - acc: 0.9105 - val_loss: 0.1848 - val_acc: 0.9415\n",
            "Epoch 3/50\n",
            "75/75 [==============================] - 5s 62ms/step - loss: 0.1865 - acc: 0.9310 - val_loss: 0.1598 - val_acc: 0.9515\n",
            "Epoch 4/50\n",
            "75/75 [==============================] - 7s 94ms/step - loss: 0.1765 - acc: 0.9368 - val_loss: 0.1719 - val_acc: 0.9482\n",
            "Epoch 5/50\n",
            "75/75 [==============================] - 5s 62ms/step - loss: 0.1667 - acc: 0.9448 - val_loss: 0.1201 - val_acc: 0.9582\n",
            "Epoch 6/50\n",
            "75/75 [==============================] - 9s 124ms/step - loss: 0.1303 - acc: 0.9498 - val_loss: 0.1155 - val_acc: 0.9565\n",
            "Epoch 7/50\n",
            "75/75 [==============================] - 8s 103ms/step - loss: 0.1141 - acc: 0.9577 - val_loss: 0.1004 - val_acc: 0.9649\n",
            "Epoch 8/50\n",
            "75/75 [==============================] - 7s 90ms/step - loss: 0.1072 - acc: 0.9644 - val_loss: 0.1053 - val_acc: 0.9632\n",
            "Epoch 9/50\n",
            "75/75 [==============================] - 4s 60ms/step - loss: 0.0851 - acc: 0.9720 - val_loss: 0.0961 - val_acc: 0.9682\n",
            "Epoch 10/50\n",
            "75/75 [==============================] - 7s 87ms/step - loss: 0.0788 - acc: 0.9753 - val_loss: 0.0981 - val_acc: 0.9649\n",
            "Epoch 11/50\n",
            "75/75 [==============================] - 5s 62ms/step - loss: 0.0692 - acc: 0.9795 - val_loss: 0.0907 - val_acc: 0.9666\n",
            "Epoch 12/50\n",
            "75/75 [==============================] - 5s 62ms/step - loss: 0.0622 - acc: 0.9778 - val_loss: 0.1094 - val_acc: 0.9582\n",
            "Epoch 13/50\n",
            "75/75 [==============================] - 5s 68ms/step - loss: 0.0635 - acc: 0.9795 - val_loss: 0.0789 - val_acc: 0.9699\n",
            "Epoch 14/50\n",
            "75/75 [==============================] - 5s 63ms/step - loss: 0.0455 - acc: 0.9883 - val_loss: 0.0877 - val_acc: 0.9699\n",
            "Epoch 15/50\n",
            "75/75 [==============================] - 6s 80ms/step - loss: 0.0589 - acc: 0.9816 - val_loss: 0.0715 - val_acc: 0.9699\n",
            "Epoch 16/50\n",
            "75/75 [==============================] - 5s 64ms/step - loss: 0.0436 - acc: 0.9883 - val_loss: 0.0732 - val_acc: 0.9732\n",
            "Epoch 17/50\n",
            "75/75 [==============================] - 5s 62ms/step - loss: 0.0481 - acc: 0.9849 - val_loss: 0.0789 - val_acc: 0.9799\n",
            "Epoch 18/50\n",
            "75/75 [==============================] - 6s 76ms/step - loss: 0.0426 - acc: 0.9849 - val_loss: 0.0765 - val_acc: 0.9732\n",
            "Epoch 19/50\n",
            "75/75 [==============================] - 5s 64ms/step - loss: 0.0284 - acc: 0.9937 - val_loss: 0.0849 - val_acc: 0.9649\n",
            "Epoch 20/50\n",
            "75/75 [==============================] - 5s 69ms/step - loss: 0.0286 - acc: 0.9925 - val_loss: 0.0832 - val_acc: 0.9666\n",
            "Epoch 21/50\n",
            "75/75 [==============================] - 5s 71ms/step - loss: 0.0481 - acc: 0.9833 - val_loss: 0.0946 - val_acc: 0.9649\n",
            "Epoch 22/50\n",
            "75/75 [==============================] - 5s 62ms/step - loss: 0.0297 - acc: 0.9908 - val_loss: 0.0798 - val_acc: 0.9732\n",
            "Epoch 23/50\n",
            "75/75 [==============================] - 6s 76ms/step - loss: 0.0195 - acc: 0.9946 - val_loss: 0.0805 - val_acc: 0.9749\n",
            "Epoch 24/50\n",
            "75/75 [==============================] - 5s 62ms/step - loss: 0.0179 - acc: 0.9954 - val_loss: 0.0714 - val_acc: 0.9699\n",
            "Epoch 25/50\n",
            "75/75 [==============================] - 4s 60ms/step - loss: 0.0149 - acc: 0.9967 - val_loss: 0.0832 - val_acc: 0.9749\n",
            "Epoch 26/50\n",
            "75/75 [==============================] - 7s 88ms/step - loss: 0.0114 - acc: 0.9971 - val_loss: 0.0873 - val_acc: 0.9766\n",
            "Epoch 27/50\n",
            "75/75 [==============================] - 5s 60ms/step - loss: 0.0261 - acc: 0.9900 - val_loss: 0.1015 - val_acc: 0.9582\n",
            "Epoch 28/50\n",
            "75/75 [==============================] - 8s 111ms/step - loss: 0.0254 - acc: 0.9929 - val_loss: 0.0819 - val_acc: 0.9716\n",
            "Epoch 29/50\n",
            "75/75 [==============================] - 7s 95ms/step - loss: 0.0106 - acc: 0.9967 - val_loss: 0.0977 - val_acc: 0.9666\n",
            "Epoch 30/50\n",
            "75/75 [==============================] - 6s 78ms/step - loss: 0.0078 - acc: 0.9983 - val_loss: 0.1095 - val_acc: 0.9682\n",
            "Epoch 31/50\n",
            "75/75 [==============================] - 9s 116ms/step - loss: 0.0061 - acc: 0.9992 - val_loss: 0.1143 - val_acc: 0.9682\n",
            "Epoch 32/50\n",
            "75/75 [==============================] - 12s 157ms/step - loss: 0.0116 - acc: 0.9967 - val_loss: 0.0758 - val_acc: 0.9732\n",
            "Epoch 33/50\n",
            "75/75 [==============================] - 9s 117ms/step - loss: 0.0119 - acc: 0.9983 - val_loss: 0.0938 - val_acc: 0.9615\n",
            "Epoch 34/50\n",
            "75/75 [==============================] - 5s 66ms/step - loss: 0.0149 - acc: 0.9946 - val_loss: 0.0831 - val_acc: 0.9699\n",
            "Epoch 35/50\n",
            "75/75 [==============================] - 8s 112ms/step - loss: 0.0077 - acc: 0.9983 - val_loss: 0.0858 - val_acc: 0.9699\n",
            "Epoch 36/50\n",
            "75/75 [==============================] - 10s 137ms/step - loss: 0.0072 - acc: 0.9992 - val_loss: 0.0961 - val_acc: 0.9682\n",
            "Epoch 37/50\n",
            "75/75 [==============================] - 10s 128ms/step - loss: 0.0307 - acc: 0.9879 - val_loss: 0.0975 - val_acc: 0.9732\n",
            "Epoch 38/50\n",
            "75/75 [==============================] - 5s 69ms/step - loss: 0.0263 - acc: 0.9933 - val_loss: 0.0820 - val_acc: 0.9783\n",
            "Epoch 39/50\n",
            "75/75 [==============================] - 5s 67ms/step - loss: 0.0074 - acc: 0.9992 - val_loss: 0.0811 - val_acc: 0.9766\n",
            "Epoch 40/50\n",
            "75/75 [==============================] - 5s 62ms/step - loss: 0.0044 - acc: 0.9996 - val_loss: 0.0904 - val_acc: 0.9783\n",
            "Epoch 41/50\n",
            "75/75 [==============================] - 6s 74ms/step - loss: 0.0030 - acc: 1.0000 - val_loss: 0.0936 - val_acc: 0.9749\n",
            "Epoch 42/50\n",
            "75/75 [==============================] - 5s 62ms/step - loss: 0.0023 - acc: 1.0000 - val_loss: 0.1059 - val_acc: 0.9732\n",
            "Epoch 43/50\n",
            "75/75 [==============================] - 5s 62ms/step - loss: 0.0020 - acc: 1.0000 - val_loss: 0.1096 - val_acc: 0.9749\n",
            "Epoch 44/50\n",
            "75/75 [==============================] - 6s 87ms/step - loss: 0.0016 - acc: 1.0000 - val_loss: 0.1074 - val_acc: 0.9732\n",
            "Epoch 45/50\n",
            "75/75 [==============================] - 5s 64ms/step - loss: 0.0014 - acc: 1.0000 - val_loss: 0.1150 - val_acc: 0.9732\n",
            "Epoch 46/50\n",
            "75/75 [==============================] - 6s 84ms/step - loss: 0.0012 - acc: 1.0000 - val_loss: 0.1174 - val_acc: 0.9732\n",
            "Epoch 47/50\n",
            "75/75 [==============================] - 5s 62ms/step - loss: 0.0011 - acc: 1.0000 - val_loss: 0.1247 - val_acc: 0.9732\n",
            "Epoch 48/50\n",
            "75/75 [==============================] - 6s 82ms/step - loss: 9.6104e-04 - acc: 1.0000 - val_loss: 0.1240 - val_acc: 0.9732\n",
            "Epoch 49/50\n",
            "75/75 [==============================] - 5s 70ms/step - loss: 8.5558e-04 - acc: 1.0000 - val_loss: 0.1303 - val_acc: 0.9732\n",
            "Epoch 50/50\n",
            "75/75 [==============================] - 5s 63ms/step - loss: 7.8195e-04 - acc: 1.0000 - val_loss: 0.1327 - val_acc: 0.9732\n"
          ]
        }
      ]
    },
    {
      "cell_type": "code",
      "source": [
        "def plot_history(history, model_name):\n",
        "    # Summarize history for accuracy\n",
        "    plt.plot(history.history['acc'])\n",
        "    plt.plot(history.history['val_acc'])\n",
        "    plt.title(f'{model_name} Model Accuracy')\n",
        "    plt.ylabel('Accuracy')\n",
        "    plt.xlabel('Epoch')\n",
        "    plt.legend(['Train', 'Validation'], loc='upper left')\n",
        "    plt.show()\n",
        "\n",
        "    # Summarize history for loss\n",
        "    plt.plot(history.history['loss'])\n",
        "    plt.plot(history.history['val_loss'])\n",
        "    plt.title(f'{model_name} Model Loss')\n",
        "    plt.ylabel('Loss')\n",
        "    plt.xlabel('Epoch')\n",
        "    plt.legend(['Train', 'Validation'], loc='upper left')\n",
        "    plt.show()\n",
        "\n",
        "# Plot history for each model\n",
        "plot_history(history_bilstm, 'BILSTM')"
      ],
      "metadata": {
        "colab": {
          "base_uri": "https://localhost:8080/",
          "height": 927
        },
        "id": "WBYg8m_sQV5B",
        "outputId": "cf06a915-6193-48aa-cb1f-5697517f3bff"
      },
      "id": "WBYg8m_sQV5B",
      "execution_count": null,
      "outputs": [
        {
          "output_type": "display_data",
          "data": {
            "text/plain": [
              "<Figure size 640x480 with 1 Axes>"
            ],
            "image/png": "[encoded data removed]"
          },
          "metadata": {}
        },
        {
          "output_type": "display_data",
          "data": {
            "text/plain": [
              "<Figure size 640x480 with 1 Axes>"
            ],
            "image/png": "[encoded data removed]"
          },
          "metadata": {}
        }
      ]
    },
    {
      "cell_type": "code",
      "source": [
        "model_bilstm.fit(text_train_tok_pad, y_train, epochs=15, batch_size = 16, verbose = 0)"
      ],
      "metadata": {
        "colab": {
          "base_uri": "https://localhost:8080/"
        },
        "id": "KxX3XVoFRB2q",
        "outputId": "477f15c8-9fdd-4fec-f57b-bcc46c0a7625"
      },
      "id": "KxX3XVoFRB2q",
      "execution_count": null,
      "outputs": [
        {
          "output_type": "execute_result",
          "data": {
            "text/plain": [
              "<keras.src.callbacks.History at 0x784ecda6c250>"
            ]
          },
          "metadata": {},
          "execution_count": 49
        }
      ]
    },
    {
      "cell_type": "code",
      "source": [
        "text_train_splited = [article.split() for article in text_test]\n",
        "text_test_tok = tokenizer.texts_to_sequences(text_train_splited)\n",
        "text_test_tok_pad = pad_sequences(text_test_tok, maxlen=maxlen)\n",
        "pred = (model_bilstm.predict(text_test_tok_pad) > 0.5).astype(\"int32\")\n",
        "\n",
        "print(classification_report(y_test, pred, target_names = ['Fake','Not Fake']))\n",
        "cm = pd.DataFrame(confusion_matrix(y_test,pred))\n",
        "\n",
        "fig , ax = plt.subplots(figsize = (2,2))\n",
        "ax = sns.heatmap(cm, annot = True, xticklabels = ['Fake','True'] , yticklabels = ['Fake','True'], cbar = False, fmt='')\n",
        "ax.set_xlabel(\"Predicted\"); ax.set_ylabel(\"Actual\"); fig.show()"
      ],
      "metadata": {
        "colab": {
          "base_uri": "https://localhost:8080/",
          "height": 408
        },
        "id": "ezrAvc4eRHhe",
        "outputId": "6e6edd79-5cec-42e3-8ef9-83d12ea04293"
      },
      "id": "ezrAvc4eRHhe",
      "execution_count": null,
      "outputs": [
        {
          "output_type": "stream",
          "name": "stdout",
          "text": [
            "24/24 [==============================] - 1s 28ms/step\n",
            "              precision    recall  f1-score   support\n",
            "\n",
            "        Fake       0.98      0.95      0.97       392\n",
            "    Not Fake       0.95      0.97      0.96       356\n",
            "\n",
            "    accuracy                           0.96       748\n",
            "   macro avg       0.96      0.96      0.96       748\n",
            "weighted avg       0.96      0.96      0.96       748\n",
            "\n"
          ]
        },
        {
          "output_type": "display_data",
          "data": {
            "text/plain": [
              "<Figure size 200x200 with 1 Axes>"
            ],
            "image/png": "[encoded data removed]"
          },
          "metadata": {}
        }
      ]
    },
    {
      "cell_type": "markdown",
      "source": [
        "## 3. Stacked LSTM"
      ],
      "metadata": {
        "id": "Sm_U4h8RVtRr"
      },
      "id": "Sm_U4h8RVtRr"
    },
    {
      "cell_type": "code",
      "source": [
        "from keras.callbacks import EarlyStopping"
      ],
      "metadata": {
        "id": "a3TcfLuiS___"
      },
      "id": "a3TcfLuiS___",
      "execution_count": null,
      "outputs": []
    },
    {
      "cell_type": "code",
      "source": [
        "early_stopping = EarlyStopping(monitor='val_loss', patience=3, restore_best_weights=True)"
      ],
      "metadata": {
        "id": "K2MaOFWeTFwx"
      },
      "id": "K2MaOFWeTFwx",
      "execution_count": null,
      "outputs": []
    },
    {
      "cell_type": "code",
      "source": [
        "def set_stacked_lstm_model(embedding_vectors):\n",
        "    model = Sequential()\n",
        "    model.add(Embedding(embedding_vectors.shape[0],\n",
        "                        output_dim=embedding_vectors.shape[1],\n",
        "                        weights=[embedding_vectors],\n",
        "                        input_length=maxlen,\n",
        "                        trainable=False))\n",
        "    model.add(LSTM(units=32, return_sequences=True))\n",
        "    model.add(LSTM(units=32))\n",
        "    model.add(Dense(1, activation='sigmoid'))\n",
        "    model.compile(optimizer='adam', loss='binary_crossentropy', metrics=['acc'])\n",
        "    return model\n",
        "\n",
        "model_stacked_lstm = set_stacked_lstm_model(embedding_vectors = embedding_vectors)\n",
        "model_stacked_lstm.summary()"
      ],
      "metadata": {
        "colab": {
          "base_uri": "https://localhost:8080/"
        },
        "id": "EaG3Bo3lTKgZ",
        "outputId": "f0ef410f-6c0f-45b6-8e43-4f78bc90c4da"
      },
      "id": "EaG3Bo3lTKgZ",
      "execution_count": null,
      "outputs": [
        {
          "output_type": "stream",
          "name": "stdout",
          "text": [
            "Model: \"sequential_3\"\n",
            "_________________________________________________________________\n",
            " Layer (type)                Output Shape              Param #   \n",
            "=================================================================\n",
            " embedding_3 (Embedding)     (None, 1000, 200)         9663800   \n",
            "                                                                 \n",
            " lstm_3 (LSTM)               (None, 1000, 32)          29824     \n",
            "                                                                 \n",
            " lstm_4 (LSTM)               (None, 32)                8320      \n",
            "                                                                 \n",
            " dense_3 (Dense)             (None, 1)                 33        \n",
            "                                                                 \n",
            "=================================================================\n",
            "Total params: 9701977 (37.01 MB)\n",
            "Trainable params: 38177 (149.13 KB)\n",
            "Non-trainable params: 9663800 (36.86 MB)\n",
            "_________________________________________________________________\n"
          ]
        }
      ]
    },
    {
      "cell_type": "code",
      "source": [
        "history_stacked_lstm = model_stacked_lstm.fit(text_train_tok_pad, y_train, validation_split=0.2, epochs=50,\n",
        "                                              batch_size=32,\n",
        "                                              callbacks=[early_stopping],\n",
        "                                              verbose=1)"
      ],
      "metadata": {
        "colab": {
          "base_uri": "https://localhost:8080/"
        },
        "id": "Kfbx45DUTSHi",
        "outputId": "bc7d38fa-027c-4f8c-8ee5-68210da8bda5"
      },
      "id": "Kfbx45DUTSHi",
      "execution_count": null,
      "outputs": [
        {
          "output_type": "stream",
          "name": "stdout",
          "text": [
            "Epoch 1/50\n",
            "75/75 [==============================] - 16s 88ms/step - loss: 0.4062 - acc: 0.8151 - val_loss: 0.2731 - val_acc: 0.8997\n",
            "Epoch 2/50\n",
            "75/75 [==============================] - 5s 61ms/step - loss: 0.2272 - acc: 0.9142 - val_loss: 0.2160 - val_acc: 0.9013\n",
            "Epoch 3/50\n",
            "75/75 [==============================] - 6s 74ms/step - loss: 0.1879 - acc: 0.9226 - val_loss: 0.1523 - val_acc: 0.9415\n",
            "Epoch 4/50\n",
            "75/75 [==============================] - 5s 64ms/step - loss: 0.1608 - acc: 0.9381 - val_loss: 0.1250 - val_acc: 0.9482\n",
            "Epoch 5/50\n",
            "75/75 [==============================] - 5s 71ms/step - loss: 0.1377 - acc: 0.9481 - val_loss: 0.1322 - val_acc: 0.9448\n",
            "Epoch 6/50\n",
            "75/75 [==============================] - 5s 67ms/step - loss: 0.1224 - acc: 0.9552 - val_loss: 0.1058 - val_acc: 0.9599\n",
            "Epoch 7/50\n",
            "75/75 [==============================] - 5s 63ms/step - loss: 0.0996 - acc: 0.9636 - val_loss: 0.1089 - val_acc: 0.9532\n",
            "Epoch 8/50\n",
            "75/75 [==============================] - 6s 79ms/step - loss: 0.0961 - acc: 0.9644 - val_loss: 0.1008 - val_acc: 0.9649\n",
            "Epoch 9/50\n",
            "75/75 [==============================] - 5s 64ms/step - loss: 0.0863 - acc: 0.9682 - val_loss: 0.0952 - val_acc: 0.9615\n",
            "Epoch 10/50\n",
            "75/75 [==============================] - 5s 66ms/step - loss: 0.0743 - acc: 0.9732 - val_loss: 0.1257 - val_acc: 0.9532\n",
            "Epoch 11/50\n",
            "75/75 [==============================] - 6s 73ms/step - loss: 0.0639 - acc: 0.9770 - val_loss: 0.1055 - val_acc: 0.9532\n",
            "Epoch 12/50\n",
            "75/75 [==============================] - 5s 65ms/step - loss: 0.0627 - acc: 0.9782 - val_loss: 0.0937 - val_acc: 0.9615\n",
            "Epoch 13/50\n",
            "75/75 [==============================] - 6s 74ms/step - loss: 0.0443 - acc: 0.9870 - val_loss: 0.1148 - val_acc: 0.9582\n",
            "Epoch 14/50\n",
            "75/75 [==============================] - 5s 65ms/step - loss: 0.0489 - acc: 0.9833 - val_loss: 0.0997 - val_acc: 0.9615\n",
            "Epoch 15/50\n",
            "75/75 [==============================] - 5s 65ms/step - loss: 0.0520 - acc: 0.9828 - val_loss: 0.0850 - val_acc: 0.9682\n",
            "Epoch 16/50\n",
            "75/75 [==============================] - 6s 84ms/step - loss: 0.0385 - acc: 0.9879 - val_loss: 0.1293 - val_acc: 0.9415\n",
            "Epoch 17/50\n",
            "75/75 [==============================] - 5s 61ms/step - loss: 0.0553 - acc: 0.9791 - val_loss: 0.0864 - val_acc: 0.9716\n",
            "Epoch 18/50\n",
            "75/75 [==============================] - 6s 81ms/step - loss: 0.0340 - acc: 0.9887 - val_loss: 0.0824 - val_acc: 0.9749\n",
            "Epoch 19/50\n",
            "75/75 [==============================] - 5s 72ms/step - loss: 0.0316 - acc: 0.9904 - val_loss: 0.0700 - val_acc: 0.9699\n",
            "Epoch 20/50\n",
            "75/75 [==============================] - 5s 63ms/step - loss: 0.0324 - acc: 0.9895 - val_loss: 0.0896 - val_acc: 0.9699\n",
            "Epoch 21/50\n",
            "75/75 [==============================] - 6s 75ms/step - loss: 0.0408 - acc: 0.9849 - val_loss: 0.0594 - val_acc: 0.9816\n",
            "Epoch 22/50\n",
            "75/75 [==============================] - 5s 61ms/step - loss: 0.0235 - acc: 0.9921 - val_loss: 0.0917 - val_acc: 0.9716\n",
            "Epoch 23/50\n",
            "75/75 [==============================] - 5s 73ms/step - loss: 0.0120 - acc: 0.9971 - val_loss: 0.0876 - val_acc: 0.9783\n",
            "Epoch 24/50\n",
            "75/75 [==============================] - 5s 61ms/step - loss: 0.0114 - acc: 0.9975 - val_loss: 0.1391 - val_acc: 0.9582\n"
          ]
        }
      ]
    },
    {
      "cell_type": "code",
      "source": [
        "def plot_history(history, model_name):\n",
        "    # Summarize history for accuracy\n",
        "    plt.plot(history.history['acc'])\n",
        "    plt.plot(history.history['val_acc'])\n",
        "    plt.title(f'{model_name} Model Accuracy')\n",
        "    plt.ylabel('Accuracy')\n",
        "    plt.xlabel('Epoch')\n",
        "    plt.legend(['Train', 'Validation'], loc='upper left')\n",
        "    plt.show()\n",
        "\n",
        "    # Summarize history for loss\n",
        "    plt.plot(history.history['loss'])\n",
        "    plt.plot(history.history['val_loss'])\n",
        "    plt.title(f'{model_name} Model Loss')\n",
        "    plt.ylabel('Loss')\n",
        "    plt.xlabel('Epoch')\n",
        "    plt.legend(['Train', 'Validation'], loc='upper left')\n",
        "    plt.show()\n",
        "\n",
        "# Plot history for each model\n",
        "plot_history(history_stacked_lstm, 'Stacked LSTM')"
      ],
      "metadata": {
        "colab": {
          "base_uri": "https://localhost:8080/",
          "height": 927
        },
        "id": "MbzfEnnlTf_x",
        "outputId": "0b9f625b-df68-431a-d7c7-a206585bde56"
      },
      "id": "MbzfEnnlTf_x",
      "execution_count": null,
      "outputs": [
        {
          "output_type": "display_data",
          "data": {
            "text/plain": [
              "<Figure size 640x480 with 1 Axes>"
            ],
            "image/png": "[encoded data removed]"
          },
          "metadata": {}
        },
        {
          "output_type": "display_data",
          "data": {
            "text/plain": [
              "<Figure size 640x480 with 1 Axes>"
            ],
            "image/png": "[encoded data removed]"
          },
          "metadata": {}
        }
      ]
    },
    {
      "cell_type": "code",
      "source": [
        "model_stacked_lstm.fit(text_train_tok_pad, y_train, epochs=15, batch_size = 16, verbose = 0)"
      ],
      "metadata": {
        "colab": {
          "base_uri": "https://localhost:8080/"
        },
        "id": "mtnMEsw1UObm",
        "outputId": "520718e5-b282-4f81-ac77-9bd160ab5cfb"
      },
      "id": "mtnMEsw1UObm",
      "execution_count": null,
      "outputs": [
        {
          "output_type": "execute_result",
          "data": {
            "text/plain": [
              "<keras.src.callbacks.History at 0x784ecdc7f940>"
            ]
          },
          "metadata": {},
          "execution_count": 57
        }
      ]
    },
    {
      "cell_type": "code",
      "source": [
        "text_train_splited = [article.split() for article in text_test]\n",
        "text_test_tok = tokenizer.texts_to_sequences(text_train_splited)\n",
        "text_test_tok_pad = pad_sequences(text_test_tok, maxlen=maxlen)\n",
        "pred = (model_stacked_lstm.predict(text_test_tok_pad) > 0.5).astype(\"int32\")\n",
        "\n",
        "print(classification_report(y_test, pred, target_names = ['Fake','Not Fake']))\n",
        "cm = pd.DataFrame(confusion_matrix(y_test,pred))\n",
        "\n",
        "fig , ax = plt.subplots(figsize = (2,2))\n",
        "ax = sns.heatmap(cm, annot = True, xticklabels = ['Fake','True'] , yticklabels = ['Fake','True'], cbar = False, fmt='')\n",
        "ax.set_xlabel(\"Predicted\"); ax.set_ylabel(\"Actual\"); fig.show()"
      ],
      "metadata": {
        "colab": {
          "base_uri": "https://localhost:8080/",
          "height": 408
        },
        "id": "rG-mQYMEUUjx",
        "outputId": "3f18fabe-4267-45e2-ad13-38bec28c3a56"
      },
      "id": "rG-mQYMEUUjx",
      "execution_count": null,
      "outputs": [
        {
          "output_type": "stream",
          "name": "stdout",
          "text": [
            "24/24 [==============================] - 1s 29ms/step\n",
            "              precision    recall  f1-score   support\n",
            "\n",
            "        Fake       0.98      0.97      0.98       392\n",
            "    Not Fake       0.97      0.98      0.97       356\n",
            "\n",
            "    accuracy                           0.97       748\n",
            "   macro avg       0.97      0.97      0.97       748\n",
            "weighted avg       0.97      0.97      0.97       748\n",
            "\n"
          ]
        },
        {
          "output_type": "display_data",
          "data": {
            "text/plain": [
              "<Figure size 200x200 with 1 Axes>"
            ],
            "image/png": "[encoded data removed]"
          },
          "metadata": {}
        }
      ]
    },
    {
      "cell_type": "markdown",
      "source": [
        "## 4. Convolutional LSTM"
      ],
      "metadata": {
        "id": "vWskSEaiWZGw"
      },
      "id": "vWskSEaiWZGw"
    },
    {
      "cell_type": "code",
      "source": [
        "from keras.layers import Conv1D, MaxPooling1D"
      ],
      "metadata": {
        "id": "gsVGtMqkWoR2"
      },
      "id": "gsVGtMqkWoR2",
      "execution_count": null,
      "outputs": []
    },
    {
      "cell_type": "code",
      "source": [
        "def set_convlstm_model(embedding_vectors):\n",
        "    model = Sequential()\n",
        "    model.add(Embedding(embedding_vectors.shape[0],\n",
        "                        output_dim=embedding_vectors.shape[1],\n",
        "                        weights=[embedding_vectors],\n",
        "                        input_length=maxlen,\n",
        "                        trainable=False))\n",
        "    model.add(Conv1D(filters=128, kernel_size=5, activation='relu'))\n",
        "    model.add(MaxPooling1D(pool_size=2))\n",
        "    model.add(LSTM(units=32))\n",
        "    model.add(Dense(1, activation='sigmoid'))\n",
        "    model.compile(optimizer='adam', loss='binary_crossentropy', metrics=['acc'])\n",
        "    return model\n",
        "\n",
        "model_convlstm = set_convlstm_model(embedding_vectors=embedding_vectors)\n",
        "model_convlstm.summary()"
      ],
      "metadata": {
        "colab": {
          "base_uri": "https://localhost:8080/"
        },
        "id": "7xMY0mlxWcca",
        "outputId": "0dfd4f56-e0d3-4ccf-8b43-6745ea1437d6"
      },
      "id": "7xMY0mlxWcca",
      "execution_count": null,
      "outputs": [
        {
          "output_type": "stream",
          "name": "stdout",
          "text": [
            "Model: \"sequential_4\"\n",
            "_________________________________________________________________\n",
            " Layer (type)                Output Shape              Param #   \n",
            "=================================================================\n",
            " embedding_4 (Embedding)     (None, 1000, 200)         9663800   \n",
            "                                                                 \n",
            " conv1d (Conv1D)             (None, 996, 128)          128128    \n",
            "                                                                 \n",
            " max_pooling1d (MaxPooling1  (None, 498, 128)          0         \n",
            " D)                                                              \n",
            "                                                                 \n",
            " lstm_5 (LSTM)               (None, 32)                20608     \n",
            "                                                                 \n",
            " dense_4 (Dense)             (None, 1)                 33        \n",
            "                                                                 \n",
            "=================================================================\n",
            "Total params: 9812569 (37.43 MB)\n",
            "Trainable params: 148769 (581.13 KB)\n",
            "Non-trainable params: 9663800 (36.86 MB)\n",
            "_________________________________________________________________\n"
          ]
        }
      ]
    },
    {
      "cell_type": "code",
      "source": [
        "history_convlstm = model_convlstm.fit(text_train_tok_pad, y_train, validation_split=0.2,\n",
        "                                      epochs=50, batch_size=32,\n",
        "                                      callbacks=[early_stopping], verbose=1)"
      ],
      "metadata": {
        "colab": {
          "base_uri": "https://localhost:8080/"
        },
        "id": "HnBwqpuQWs0H",
        "outputId": "6924c54c-0a69-40ff-9cf3-34ef9c70f3e7"
      },
      "id": "HnBwqpuQWs0H",
      "execution_count": null,
      "outputs": [
        {
          "output_type": "stream",
          "name": "stdout",
          "text": [
            "Epoch 1/50\n",
            "75/75 [==============================] - 2s 27ms/step - loss: 0.1608 - acc: 0.9414 - val_loss: 0.1186 - val_acc: 0.9532\n",
            "Epoch 2/50\n",
            "75/75 [==============================] - 2s 32ms/step - loss: 0.1237 - acc: 0.9548 - val_loss: 0.1260 - val_acc: 0.9482\n",
            "Epoch 3/50\n",
            "75/75 [==============================] - 2s 27ms/step - loss: 0.0870 - acc: 0.9678 - val_loss: 0.0828 - val_acc: 0.9682\n",
            "Epoch 4/50\n",
            "75/75 [==============================] - 2s 31ms/step - loss: 0.0746 - acc: 0.9753 - val_loss: 0.0859 - val_acc: 0.9666\n",
            "Epoch 5/50\n",
            "75/75 [==============================] - 3s 34ms/step - loss: 0.0649 - acc: 0.9812 - val_loss: 0.0874 - val_acc: 0.9615\n",
            "Epoch 6/50\n",
            "75/75 [==============================] - 3s 35ms/step - loss: 0.0414 - acc: 0.9858 - val_loss: 0.1311 - val_acc: 0.9482\n"
          ]
        }
      ]
    },
    {
      "cell_type": "code",
      "source": [
        "def plot_history(history, model_name):\n",
        "    # Summarize history for accuracy\n",
        "    plt.plot(history.history['acc'])\n",
        "    plt.plot(history.history['val_acc'])\n",
        "    plt.title(f'{model_name} Model Accuracy')\n",
        "    plt.ylabel('Accuracy')\n",
        "    plt.xlabel('Epoch')\n",
        "    plt.legend(['Train', 'Validation'], loc='upper left')\n",
        "    plt.show()\n",
        "\n",
        "    # Summarize history for loss\n",
        "    plt.plot(history.history['loss'])\n",
        "    plt.plot(history.history['val_loss'])\n",
        "    plt.title(f'{model_name} Model Loss')\n",
        "    plt.ylabel('Loss')\n",
        "    plt.xlabel('Epoch')\n",
        "    plt.legend(['Train', 'Validation'], loc='upper left')\n",
        "    plt.show()\n",
        "\n",
        "# Plot history for each model\n",
        "plot_history(history_convlstm, 'ConvLSTM')"
      ],
      "metadata": {
        "colab": {
          "base_uri": "https://localhost:8080/",
          "height": 927
        },
        "id": "qDXlZ05cXEWC",
        "outputId": "81d3bac0-19ff-4b96-c3d2-d615edd08cd6"
      },
      "id": "qDXlZ05cXEWC",
      "execution_count": null,
      "outputs": [
        {
          "output_type": "display_data",
          "data": {
            "text/plain": [
              "<Figure size 640x480 with 1 Axes>"
            ],
            "image/png": "[encoded data removed]"
          },
          "metadata": {}
        },
        {
          "output_type": "display_data",
          "data": {
            "text/plain": [
              "<Figure size 640x480 with 1 Axes>"
            ],
            "image/png": "[encoded data removed]"
          },
          "metadata": {}
        }
      ]
    },
    {
      "cell_type": "code",
      "source": [
        "model_convlstm.fit(text_train_tok_pad, y_train, epochs=15, batch_size = 16, verbose = 0)"
      ],
      "metadata": {
        "colab": {
          "base_uri": "https://localhost:8080/"
        },
        "id": "RbT06sgVXMlq",
        "outputId": "d08d2b0c-7ef3-4fc7-eeed-1e69610b9ae3"
      },
      "id": "RbT06sgVXMlq",
      "execution_count": null,
      "outputs": [
        {
          "output_type": "execute_result",
          "data": {
            "text/plain": [
              "<keras.src.callbacks.History at 0x784ecf475f60>"
            ]
          },
          "metadata": {},
          "execution_count": 66
        }
      ]
    },
    {
      "cell_type": "code",
      "source": [
        "text_train_splited = [article.split() for article in text_test]\n",
        "text_test_tok = tokenizer.texts_to_sequences(text_train_splited)\n",
        "text_test_tok_pad = pad_sequences(text_test_tok, maxlen=maxlen)\n",
        "pred = (model_convlstm.predict(text_test_tok_pad) > 0.5).astype(\"int32\")\n",
        "\n",
        "print(classification_report(y_test, pred, target_names = ['Fake','Not Fake']))\n",
        "cm = pd.DataFrame(confusion_matrix(y_test,pred))\n",
        "\n",
        "fig , ax = plt.subplots(figsize = (2,2))\n",
        "ax = sns.heatmap(cm, annot = True, xticklabels = ['Fake','True'] , yticklabels = ['Fake','True'], cbar = False, fmt='')\n",
        "ax.set_xlabel(\"Predicted\"); ax.set_ylabel(\"Actual\"); fig.show()"
      ],
      "metadata": {
        "colab": {
          "base_uri": "https://localhost:8080/",
          "height": 408
        },
        "id": "zQAahjd0XQAd",
        "outputId": "e44b7514-60e4-4b61-a86b-7b9703a2845c"
      },
      "id": "zQAahjd0XQAd",
      "execution_count": null,
      "outputs": [
        {
          "output_type": "stream",
          "name": "stdout",
          "text": [
            "24/24 [==============================] - 1s 12ms/step\n",
            "              precision    recall  f1-score   support\n",
            "\n",
            "        Fake       0.98      0.96      0.97       392\n",
            "    Not Fake       0.96      0.98      0.97       356\n",
            "\n",
            "    accuracy                           0.97       748\n",
            "   macro avg       0.97      0.97      0.97       748\n",
            "weighted avg       0.97      0.97      0.97       748\n",
            "\n"
          ]
        },
        {
          "output_type": "display_data",
          "data": {
            "text/plain": [
              "<Figure size 200x200 with 1 Axes>"
            ],
            "image/png": "[encoded data removed]"
          },
          "metadata": {}
        }
      ]
    },
    {
      "cell_type": "code",
      "source": [],
      "metadata": {
        "id": "Bo1GqkOXXbz6"
      },
      "id": "Bo1GqkOXXbz6",
      "execution_count": null,
      "outputs": []
    },
    {
      "cell_type": "markdown",
      "source": [
        "## 5. BIGRU"
      ],
      "metadata": {
        "id": "QbkbnTtsYCkG"
      },
      "id": "QbkbnTtsYCkG"
    },
    {
      "cell_type": "code",
      "source": [
        "from keras.layers import GRU"
      ],
      "metadata": {
        "id": "q1Owd4jCYXyz"
      },
      "id": "q1Owd4jCYXyz",
      "execution_count": null,
      "outputs": []
    },
    {
      "cell_type": "code",
      "source": [
        "def set_bigrumodel(embedding_vectors):\n",
        "    model = Sequential()\n",
        "    model.add(Embedding(embedding_vectors.shape[0],\n",
        "                        output_dim=embedding_vectors.shape[1],\n",
        "                        weights=[embedding_vectors],\n",
        "                        input_length=maxlen,\n",
        "                        trainable=False))\n",
        "    model.add(Bidirectional(GRU(units=32)))\n",
        "    model.add(Dense(1, activation='sigmoid'))\n",
        "    model.compile(optimizer='adam', loss='binary_crossentropy', metrics=['acc'])\n",
        "    return model\n",
        "\n",
        "model_bigru = set_bigrumodel(embedding_vectors = embedding_vectors)\n",
        "model_bigru.summary()"
      ],
      "metadata": {
        "colab": {
          "base_uri": "https://localhost:8080/"
        },
        "id": "M90BOBnmYFV7",
        "outputId": "28bf2529-3de6-49b0-e070-7c3c5f9e6daf"
      },
      "id": "M90BOBnmYFV7",
      "execution_count": null,
      "outputs": [
        {
          "output_type": "stream",
          "name": "stdout",
          "text": [
            "Model: \"sequential_5\"\n",
            "_________________________________________________________________\n",
            " Layer (type)                Output Shape              Param #   \n",
            "=================================================================\n",
            " embedding_5 (Embedding)     (None, 1000, 200)         9663800   \n",
            "                                                                 \n",
            " bidirectional_1 (Bidirecti  (None, 64)                44928     \n",
            " onal)                                                           \n",
            "                                                                 \n",
            " dense_5 (Dense)             (None, 1)                 65        \n",
            "                                                                 \n",
            "=================================================================\n",
            "Total params: 9708793 (37.04 MB)\n",
            "Trainable params: 44993 (175.75 KB)\n",
            "Non-trainable params: 9663800 (36.86 MB)\n",
            "_________________________________________________________________\n"
          ]
        }
      ]
    },
    {
      "cell_type": "code",
      "source": [
        "history_Bigru= model_bigru.fit(text_train_tok_pad, y_train, validation_split=0.2,\n",
        "                                      epochs=50, batch_size=32,\n",
        "                                      callbacks=[early_stopping], verbose=1)"
      ],
      "metadata": {
        "colab": {
          "base_uri": "https://localhost:8080/"
        },
        "id": "fX_oQCJ7YK8d",
        "outputId": "18ff0a46-1cdb-4683-94c3-9d85b8286016"
      },
      "id": "fX_oQCJ7YK8d",
      "execution_count": null,
      "outputs": [
        {
          "output_type": "stream",
          "name": "stdout",
          "text": [
            "Epoch 1/50\n",
            "75/75 [==============================] - 22s 248ms/step - loss: 0.3991 - acc: 0.8347 - val_loss: 0.2512 - val_acc: 0.9164\n",
            "Epoch 2/50\n",
            "75/75 [==============================] - 12s 155ms/step - loss: 0.2260 - acc: 0.9188 - val_loss: 0.1688 - val_acc: 0.9448\n",
            "Epoch 3/50\n",
            "75/75 [==============================] - 11s 146ms/step - loss: 0.1868 - acc: 0.9297 - val_loss: 0.1344 - val_acc: 0.9498\n",
            "Epoch 4/50\n",
            "75/75 [==============================] - 10s 139ms/step - loss: 0.1576 - acc: 0.9410 - val_loss: 0.1422 - val_acc: 0.9465\n",
            "Epoch 5/50\n",
            "75/75 [==============================] - 7s 93ms/step - loss: 0.1454 - acc: 0.9456 - val_loss: 0.1288 - val_acc: 0.9498\n",
            "Epoch 6/50\n",
            "75/75 [==============================] - 8s 107ms/step - loss: 0.1386 - acc: 0.9460 - val_loss: 0.1305 - val_acc: 0.9532\n",
            "Epoch 7/50\n",
            "75/75 [==============================] - 5s 61ms/step - loss: 0.1186 - acc: 0.9569 - val_loss: 0.1079 - val_acc: 0.9649\n",
            "Epoch 8/50\n",
            "75/75 [==============================] - 5s 67ms/step - loss: 0.0972 - acc: 0.9674 - val_loss: 0.1030 - val_acc: 0.9649\n",
            "Epoch 9/50\n",
            "75/75 [==============================] - 7s 94ms/step - loss: 0.0897 - acc: 0.9699 - val_loss: 0.1002 - val_acc: 0.9582\n",
            "Epoch 10/50\n",
            "75/75 [==============================] - 5s 63ms/step - loss: 0.0893 - acc: 0.9678 - val_loss: 0.0920 - val_acc: 0.9632\n",
            "Epoch 11/50\n",
            "75/75 [==============================] - 6s 74ms/step - loss: 0.0674 - acc: 0.9778 - val_loss: 0.0959 - val_acc: 0.9666\n",
            "Epoch 12/50\n",
            "75/75 [==============================] - 5s 62ms/step - loss: 0.0597 - acc: 0.9808 - val_loss: 0.1195 - val_acc: 0.9615\n",
            "Epoch 13/50\n",
            "75/75 [==============================] - 5s 64ms/step - loss: 0.0633 - acc: 0.9787 - val_loss: 0.0855 - val_acc: 0.9699\n",
            "Epoch 14/50\n",
            "75/75 [==============================] - 5s 71ms/step - loss: 0.0492 - acc: 0.9841 - val_loss: 0.0977 - val_acc: 0.9649\n",
            "Epoch 15/50\n",
            "75/75 [==============================] - 5s 62ms/step - loss: 0.0443 - acc: 0.9879 - val_loss: 0.0820 - val_acc: 0.9716\n",
            "Epoch 16/50\n",
            "75/75 [==============================] - 5s 73ms/step - loss: 0.0442 - acc: 0.9858 - val_loss: 0.0768 - val_acc: 0.9699\n",
            "Epoch 17/50\n",
            "75/75 [==============================] - 5s 64ms/step - loss: 0.0352 - acc: 0.9858 - val_loss: 0.0759 - val_acc: 0.9716\n",
            "Epoch 18/50\n",
            "75/75 [==============================] - 5s 61ms/step - loss: 0.0328 - acc: 0.9883 - val_loss: 0.0719 - val_acc: 0.9699\n",
            "Epoch 19/50\n",
            "75/75 [==============================] - 7s 89ms/step - loss: 0.0279 - acc: 0.9908 - val_loss: 0.0950 - val_acc: 0.9749\n",
            "Epoch 20/50\n",
            "75/75 [==============================] - 5s 67ms/step - loss: 0.0379 - acc: 0.9854 - val_loss: 0.0841 - val_acc: 0.9682\n",
            "Epoch 21/50\n",
            "75/75 [==============================] - 5s 65ms/step - loss: 0.0294 - acc: 0.9912 - val_loss: 0.0742 - val_acc: 0.9699\n"
          ]
        }
      ]
    },
    {
      "cell_type": "code",
      "source": [
        "def plot_history(history, model_name):\n",
        "    # Summarize history for accuracy\n",
        "    plt.plot(history.history['acc'])\n",
        "    plt.plot(history.history['val_acc'])\n",
        "    plt.title(f'{model_name} Model Accuracy')\n",
        "    plt.ylabel('Accuracy')\n",
        "    plt.xlabel('Epoch')\n",
        "    plt.legend(['Train', 'Validation'], loc='upper left')\n",
        "    plt.show()\n",
        "\n",
        "    # Summarize history for loss\n",
        "    plt.plot(history.history['loss'])\n",
        "    plt.plot(history.history['val_loss'])\n",
        "    plt.title(f'{model_name} Model Loss')\n",
        "    plt.ylabel('Loss')\n",
        "    plt.xlabel('Epoch')\n",
        "    plt.legend(['Train', 'Validation'], loc='upper left')\n",
        "    plt.show()\n",
        "\n",
        "# Plot history for each model\n",
        "plot_history(history_Bigru, 'Bigru')"
      ],
      "metadata": {
        "colab": {
          "base_uri": "https://localhost:8080/",
          "height": 927
        },
        "id": "Wr0hiySQZS-3",
        "outputId": "61d51168-7120-47a3-9668-2bfa001313f7"
      },
      "id": "Wr0hiySQZS-3",
      "execution_count": null,
      "outputs": [
        {
          "output_type": "display_data",
          "data": {
            "text/plain": [
              "<Figure size 640x480 with 1 Axes>"
            ],
            "image/png": "[encoded data removed]"
          },
          "metadata": {}
        },
        {
          "output_type": "display_data",
          "data": {
            "text/plain": [
              "<Figure size 640x480 with 1 Axes>"
            ],
            "image/png": "[encoded data removed]"
          },
          "metadata": {}
        }
      ]
    },
    {
      "cell_type": "code",
      "source": [
        "model_bigru.fit(text_train_tok_pad, y_train, epochs=15, batch_size = 16, verbose = 0)"
      ],
      "metadata": {
        "colab": {
          "base_uri": "https://localhost:8080/"
        },
        "id": "GwRQD4uCZqCD",
        "outputId": "26806fba-0e44-4f0c-b8bf-fc7d1bde40d8"
      },
      "id": "GwRQD4uCZqCD",
      "execution_count": null,
      "outputs": [
        {
          "output_type": "execute_result",
          "data": {
            "text/plain": [
              "<keras.src.callbacks.History at 0x784ecda8d780>"
            ]
          },
          "metadata": {},
          "execution_count": 72
        }
      ]
    },
    {
      "cell_type": "code",
      "source": [
        "text_train_splited = [article.split() for article in text_test]\n",
        "text_test_tok = tokenizer.texts_to_sequences(text_train_splited)\n",
        "text_test_tok_pad = pad_sequences(text_test_tok, maxlen=maxlen)\n",
        "pred = (model_bigru.predict(text_test_tok_pad) > 0.5).astype(\"int32\")\n",
        "\n",
        "print(classification_report(y_test, pred, target_names = ['Fake','Not Fake']))\n",
        "cm = pd.DataFrame(confusion_matrix(y_test,pred))\n",
        "\n",
        "fig , ax = plt.subplots(figsize = (2,2))\n",
        "ax = sns.heatmap(cm, annot = True, xticklabels = ['Fake','True'] , yticklabels = ['Fake','True'], cbar = False, fmt='')\n",
        "ax.set_xlabel(\"Predicted\"); ax.set_ylabel(\"Actual\"); fig.show()"
      ],
      "metadata": {
        "colab": {
          "base_uri": "https://localhost:8080/",
          "height": 408
        },
        "id": "fnkiGMmyZwy8",
        "outputId": "ace21ec5-1a2f-4c95-8bb5-9f6e997a7a73"
      },
      "id": "fnkiGMmyZwy8",
      "execution_count": null,
      "outputs": [
        {
          "output_type": "stream",
          "name": "stdout",
          "text": [
            "24/24 [==============================] - 1s 29ms/step\n",
            "              precision    recall  f1-score   support\n",
            "\n",
            "        Fake       0.98      0.97      0.98       392\n",
            "    Not Fake       0.97      0.98      0.97       356\n",
            "\n",
            "    accuracy                           0.98       748\n",
            "   macro avg       0.98      0.98      0.98       748\n",
            "weighted avg       0.98      0.98      0.98       748\n",
            "\n"
          ]
        },
        {
          "output_type": "display_data",
          "data": {
            "text/plain": [
              "<Figure size 200x200 with 1 Axes>"
            ],
            "image/png": "[encoded data removed]"
          },
          "metadata": {}
        }
      ]
    },
    {
      "cell_type": "markdown",
      "source": [
        "## 6. GRU"
      ],
      "metadata": {
        "id": "uKnKeXzYbtp2"
      },
      "id": "uKnKeXzYbtp2"
    },
    {
      "cell_type": "code",
      "source": [
        "def set_gru_model(embedding_vectors):\n",
        "    model = Sequential()\n",
        "    model.add(Embedding(embedding_vectors.shape[0],\n",
        "                        output_dim=embedding_vectors.shape[1],\n",
        "                        weights=[embedding_vectors],\n",
        "                        input_length=maxlen,\n",
        "                        trainable=False))\n",
        "    model.add(GRU(units=32))\n",
        "    model.add(Dense(1, activation='sigmoid'))\n",
        "    model.compile(optimizer='adam', loss='binary_crossentropy', metrics=['acc'])\n",
        "    return model\n",
        "\n",
        "model_gru = set_gru_model(embedding_vectors = embedding_vectors)\n",
        "model_gru.summary()"
      ],
      "metadata": {
        "colab": {
          "base_uri": "https://localhost:8080/"
        },
        "id": "XgSXmmPrbwnD",
        "outputId": "a2512095-6831-4ed1-fd3f-45d9563b47af"
      },
      "id": "XgSXmmPrbwnD",
      "execution_count": null,
      "outputs": [
        {
          "output_type": "stream",
          "name": "stdout",
          "text": [
            "Model: \"sequential_6\"\n",
            "_________________________________________________________________\n",
            " Layer (type)                Output Shape              Param #   \n",
            "=================================================================\n",
            " embedding_6 (Embedding)     (None, 1000, 200)         9663800   \n",
            "                                                                 \n",
            " gru_1 (GRU)                 (None, 32)                22464     \n",
            "                                                                 \n",
            " dense_6 (Dense)             (None, 1)                 33        \n",
            "                                                                 \n",
            "=================================================================\n",
            "Total params: 9686297 (36.95 MB)\n",
            "Trainable params: 22497 (87.88 KB)\n",
            "Non-trainable params: 9663800 (36.86 MB)\n",
            "_________________________________________________________________\n"
          ]
        }
      ]
    },
    {
      "cell_type": "code",
      "source": [
        "history_gru= model_gru.fit(text_train_tok_pad, y_train, validation_split=0.2,\n",
        "                                      epochs=50, batch_size=32,\n",
        "                                      callbacks=[early_stopping], verbose=1)"
      ],
      "metadata": {
        "colab": {
          "base_uri": "https://localhost:8080/"
        },
        "id": "S6gJMyGTcETB",
        "outputId": "62db305e-7dd1-4880-85ac-6ecbc50cd9cc"
      },
      "id": "S6gJMyGTcETB",
      "execution_count": null,
      "outputs": [
        {
          "output_type": "stream",
          "name": "stdout",
          "text": [
            "Epoch 1/50\n",
            "75/75 [==============================] - 9s 48ms/step - loss: 0.4127 - acc: 0.8247 - val_loss: 0.2256 - val_acc: 0.9231\n",
            "Epoch 2/50\n",
            "75/75 [==============================] - 3s 34ms/step - loss: 0.2231 - acc: 0.9180 - val_loss: 0.1522 - val_acc: 0.9448\n",
            "Epoch 3/50\n",
            "75/75 [==============================] - 3s 34ms/step - loss: 0.1823 - acc: 0.9285 - val_loss: 0.1700 - val_acc: 0.9298\n",
            "Epoch 4/50\n",
            "75/75 [==============================] - 6s 78ms/step - loss: 0.1688 - acc: 0.9377 - val_loss: 0.1268 - val_acc: 0.9565\n",
            "Epoch 5/50\n",
            "75/75 [==============================] - 5s 69ms/step - loss: 0.1437 - acc: 0.9448 - val_loss: 0.1200 - val_acc: 0.9515\n",
            "Epoch 6/50\n",
            "75/75 [==============================] - 4s 59ms/step - loss: 0.1461 - acc: 0.9385 - val_loss: 0.1122 - val_acc: 0.9532\n",
            "Epoch 7/50\n",
            "75/75 [==============================] - 5s 60ms/step - loss: 0.1194 - acc: 0.9536 - val_loss: 0.1281 - val_acc: 0.9498\n",
            "Epoch 8/50\n",
            "75/75 [==============================] - 2s 33ms/step - loss: 0.1097 - acc: 0.9611 - val_loss: 0.0858 - val_acc: 0.9699\n",
            "Epoch 9/50\n",
            "75/75 [==============================] - 2s 32ms/step - loss: 0.0943 - acc: 0.9636 - val_loss: 0.0950 - val_acc: 0.9615\n",
            "Epoch 10/50\n",
            "75/75 [==============================] - 3s 34ms/step - loss: 0.0839 - acc: 0.9703 - val_loss: 0.0756 - val_acc: 0.9749\n",
            "Epoch 11/50\n",
            "75/75 [==============================] - 4s 58ms/step - loss: 0.0713 - acc: 0.9757 - val_loss: 0.0743 - val_acc: 0.9699\n",
            "Epoch 12/50\n",
            "75/75 [==============================] - 5s 68ms/step - loss: 0.0614 - acc: 0.9787 - val_loss: 0.0756 - val_acc: 0.9682\n",
            "Epoch 13/50\n",
            "75/75 [==============================] - 4s 47ms/step - loss: 0.0577 - acc: 0.9808 - val_loss: 0.0696 - val_acc: 0.9699\n",
            "Epoch 14/50\n",
            "75/75 [==============================] - 5s 71ms/step - loss: 0.0465 - acc: 0.9883 - val_loss: 0.0606 - val_acc: 0.9749\n",
            "Epoch 15/50\n",
            "75/75 [==============================] - 4s 50ms/step - loss: 0.0405 - acc: 0.9891 - val_loss: 0.0669 - val_acc: 0.9699\n",
            "Epoch 16/50\n",
            "75/75 [==============================] - 3s 47ms/step - loss: 0.0377 - acc: 0.9866 - val_loss: 0.0604 - val_acc: 0.9716\n",
            "Epoch 17/50\n",
            "75/75 [==============================] - 2s 33ms/step - loss: 0.0370 - acc: 0.9895 - val_loss: 0.0637 - val_acc: 0.9732\n",
            "Epoch 18/50\n",
            "75/75 [==============================] - 5s 60ms/step - loss: 0.0279 - acc: 0.9921 - val_loss: 0.0562 - val_acc: 0.9799\n",
            "Epoch 19/50\n",
            "75/75 [==============================] - 5s 62ms/step - loss: 0.0258 - acc: 0.9941 - val_loss: 0.0638 - val_acc: 0.9799\n",
            "Epoch 20/50\n",
            "75/75 [==============================] - 4s 53ms/step - loss: 0.0213 - acc: 0.9954 - val_loss: 0.0596 - val_acc: 0.9799\n",
            "Epoch 21/50\n",
            "75/75 [==============================] - 7s 91ms/step - loss: 0.0311 - acc: 0.9895 - val_loss: 0.0599 - val_acc: 0.9783\n"
          ]
        }
      ]
    },
    {
      "cell_type": "code",
      "source": [
        "def plot_history(history, model_name):\n",
        "    # Summarize history for accuracy\n",
        "    plt.plot(history.history['acc'])\n",
        "    plt.plot(history.history['val_acc'])\n",
        "    plt.title(f'{model_name} Model Accuracy')\n",
        "    plt.ylabel('Accuracy')\n",
        "    plt.xlabel('Epoch')\n",
        "    plt.legend(['Train', 'Validation'], loc='upper left')\n",
        "    plt.show()\n",
        "\n",
        "    # Summarize history for loss\n",
        "    plt.plot(history.history['loss'])\n",
        "    plt.plot(history.history['val_loss'])\n",
        "    plt.title(f'{model_name} Model Loss')\n",
        "    plt.ylabel('Loss')\n",
        "    plt.xlabel('Epoch')\n",
        "    plt.legend(['Train', 'Validation'], loc='upper left')\n",
        "    plt.show()\n",
        "\n",
        "# Plot history for each model\n",
        "plot_history(history_gru, 'GRU')"
      ],
      "metadata": {
        "colab": {
          "base_uri": "https://localhost:8080/",
          "height": 927
        },
        "id": "Xvc1BgaMcO3e",
        "outputId": "3adef4e8-acc0-4807-f13f-69e910d85306"
      },
      "id": "Xvc1BgaMcO3e",
      "execution_count": null,
      "outputs": [
        {
          "output_type": "display_data",
          "data": {
            "text/plain": [
              "<Figure size 640x480 with 1 Axes>"
            ],
            "image/png": "[encoded data removed]"
          },
          "metadata": {}
        },
        {
          "output_type": "display_data",
          "data": {
            "text/plain": [
              "<Figure size 640x480 with 1 Axes>"
            ],
            "image/png": "[encoded data removed]"
          },
          "metadata": {}
        }
      ]
    },
    {
      "cell_type": "code",
      "source": [
        "model_gru.fit(text_train_tok_pad, y_train, epochs=15, batch_size = 16, verbose = 0)"
      ],
      "metadata": {
        "colab": {
          "base_uri": "https://localhost:8080/"
        },
        "id": "v0XrIWhxcZrn",
        "outputId": "b07e6767-c830-4973-d8da-36822294aab6"
      },
      "id": "v0XrIWhxcZrn",
      "execution_count": null,
      "outputs": [
        {
          "output_type": "execute_result",
          "data": {
            "text/plain": [
              "<keras.src.callbacks.History at 0x784ee25043d0>"
            ]
          },
          "metadata": {},
          "execution_count": 78
        }
      ]
    },
    {
      "cell_type": "code",
      "source": [
        "text_train_splited = [article.split() for article in text_test]\n",
        "text_test_tok = tokenizer.texts_to_sequences(text_train_splited)\n",
        "text_test_tok_pad = pad_sequences(text_test_tok, maxlen=maxlen)\n",
        "pred = (model_gru.predict(text_test_tok_pad) > 0.5).astype(\"int32\")\n",
        "\n",
        "print(classification_report(y_test, pred, target_names = ['Fake','Not Fake']))\n",
        "cm = pd.DataFrame(confusion_matrix(y_test,pred))\n",
        "\n",
        "fig , ax = plt.subplots(figsize = (2,2))\n",
        "ax = sns.heatmap(cm, annot = True, xticklabels = ['Fake','True'] , yticklabels = ['Fake','True'], cbar = False, fmt='')\n",
        "ax.set_xlabel(\"Predicted\"); ax.set_ylabel(\"Actual\"); fig.show()"
      ],
      "metadata": {
        "colab": {
          "base_uri": "https://localhost:8080/",
          "height": 408
        },
        "id": "VQ8WxImFcgxJ",
        "outputId": "dc99b202-222e-440e-9bcb-a9bd17dfc33d"
      },
      "id": "VQ8WxImFcgxJ",
      "execution_count": null,
      "outputs": [
        {
          "output_type": "stream",
          "name": "stdout",
          "text": [
            "24/24 [==============================] - 1s 15ms/step\n",
            "              precision    recall  f1-score   support\n",
            "\n",
            "        Fake       0.98      0.96      0.97       392\n",
            "    Not Fake       0.96      0.98      0.97       356\n",
            "\n",
            "    accuracy                           0.97       748\n",
            "   macro avg       0.97      0.97      0.97       748\n",
            "weighted avg       0.97      0.97      0.97       748\n",
            "\n"
          ]
        },
        {
          "output_type": "display_data",
          "data": {
            "text/plain": [
              "<Figure size 200x200 with 1 Axes>"
            ],
            "image/png": "[encoded data removed]"
          },
          "metadata": {}
        }
      ]
    },
    {
      "cell_type": "markdown",
      "source": [
        "## Conclusion : We denote that the best model is BIGRU which has the best accuracy , f1-score, macro-avg and weighted average"
      ],
      "metadata": {
        "id": "mVBCuO9JdmNC"
      },
      "id": "mVBCuO9JdmNC"
    },
    {
      "cell_type": "code",
      "source": [],
      "metadata": {
        "id": "J6_RKgGId736"
      },
      "id": "J6_RKgGId736",
      "execution_count": null,
      "outputs": []
    }
  ],
  "metadata": {
    "kernelspec": {
      "display_name": "Python 3",
      "name": "python3"
    },
    "language_info": {
      "codemirror_mode": {
        "name": "ipython",
        "version": 3
      },
      "file_extension": ".py",
      "mimetype": "text/x-python",
      "name": "python",
      "nbconvert_exporter": "python",
      "pygments_lexer": "ipython3",
      "version": "3.11.5"
    },
    "colab": {
      "provenance": []
    },
    "widgets": {
      "application/vnd.jupyter.widget-state+json": {
        "af184f666f134199aad6703656831f04": {
          "model_module": "@jupyter-widgets/controls",
          "model_name": "HBoxModel",
          "model_module_version": "1.5.0",
          "state": {
            "_dom_classes": [],
            "_model_module": "@jupyter-widgets/controls",
            "_model_module_version": "1.5.0",
            "_model_name": "HBoxModel",
            "_view_count": null,
            "_view_module": "@jupyter-widgets/controls",
            "_view_module_version": "1.5.0",
            "_view_name": "HBoxView",
            "box_style": "",
            "children": [
              "IPY_MODEL_313a363c771c477591c48f65e4d60aa6",
              "IPY_MODEL_22daf8bad22c4ed6a3a0074c2453cf9d",
              "IPY_MODEL_d3a3eef76eb64a4b8b36189419779655"
            ],
            "layout": "IPY_MODEL_0a67cd1164f0440ea969e4c91bc62c58"
          }
        },
        "313a363c771c477591c48f65e4d60aa6": {
          "model_module": "@jupyter-widgets/controls",
          "model_name": "HTMLModel",
          "model_module_version": "1.5.0",
          "state": {
            "_dom_classes": [],
            "_model_module": "@jupyter-widgets/controls",
            "_model_module_version": "1.5.0",
            "_model_name": "HTMLModel",
            "_view_count": null,
            "_view_module": "@jupyter-widgets/controls",
            "_view_module_version": "1.5.0",
            "_view_name": "HTMLView",
            "description": "",
            "description_tooltip": null,
            "layout": "IPY_MODEL_e567ea30c9dc4229875efd261b25618a",
            "placeholder": "​",
            "style": "IPY_MODEL_799e1240d7264254a5605e518d169957",
            "value": "Pandas Apply: 100%"
          }
        },
        "22daf8bad22c4ed6a3a0074c2453cf9d": {
          "model_module": "@jupyter-widgets/controls",
          "model_name": "FloatProgressModel",
          "model_module_version": "1.5.0",
          "state": {
            "_dom_classes": [],
            "_model_module": "@jupyter-widgets/controls",
            "_model_module_version": "1.5.0",
            "_model_name": "FloatProgressModel",
            "_view_count": null,
            "_view_module": "@jupyter-widgets/controls",
            "_view_module_version": "1.5.0",
            "_view_name": "ProgressView",
            "bar_style": "success",
            "description": "",
            "description_tooltip": null,
            "layout": "IPY_MODEL_fbf69c7f72b649ef8915938e68fae66c",
            "max": 3736,
            "min": 0,
            "orientation": "horizontal",
            "style": "IPY_MODEL_cd54108f85b94687a49bc790d87a16a3",
            "value": 3736
          }
        },
        "d3a3eef76eb64a4b8b36189419779655": {
          "model_module": "@jupyter-widgets/controls",
          "model_name": "HTMLModel",
          "model_module_version": "1.5.0",
          "state": {
            "_dom_classes": [],
            "_model_module": "@jupyter-widgets/controls",
            "_model_module_version": "1.5.0",
            "_model_name": "HTMLModel",
            "_view_count": null,
            "_view_module": "@jupyter-widgets/controls",
            "_view_module_version": "1.5.0",
            "_view_name": "HTMLView",
            "description": "",
            "description_tooltip": null,
            "layout": "IPY_MODEL_768ba2d99cf64dd0ac8023ee4d037bfc",
            "placeholder": "​",
            "style": "IPY_MODEL_b1d1fa2d28e549ab8b8fc118e2d17370",
            "value": " 3736/3736 [00:08&lt;00:00, 436.24it/s]"
          }
        },
        "0a67cd1164f0440ea969e4c91bc62c58": {
          "model_module": "@jupyter-widgets/base",
          "model_name": "LayoutModel",
          "model_module_version": "1.2.0",
          "state": {
            "_model_module": "@jupyter-widgets/base",
            "_model_module_version": "1.2.0",
            "_model_name": "LayoutModel",
            "_view_count": null,
            "_view_module": "@jupyter-widgets/base",
            "_view_module_version": "1.2.0",
            "_view_name": "LayoutView",
            "align_content": null,
            "align_items": null,
            "align_self": null,
            "border": null,
            "bottom": null,
            "display": null,
            "flex": null,
            "flex_flow": null,
            "grid_area": null,
            "grid_auto_columns": null,
            "grid_auto_flow": null,
            "grid_auto_rows": null,
            "grid_column": null,
            "grid_gap": null,
            "grid_row": null,
            "grid_template_areas": null,
            "grid_template_columns": null,
            "grid_template_rows": null,
            "height": null,
            "justify_content": null,
            "justify_items": null,
            "left": null,
            "margin": null,
            "max_height": null,
            "max_width": null,
            "min_height": null,
            "min_width": null,
            "object_fit": null,
            "object_position": null,
            "order": null,
            "overflow": null,
            "overflow_x": null,
            "overflow_y": null,
            "padding": null,
            "right": null,
            "top": null,
            "visibility": null,
            "width": null
          }
        },
        "e567ea30c9dc4229875efd261b25618a": {
          "model_module": "@jupyter-widgets/base",
          "model_name": "LayoutModel",
          "model_module_version": "1.2.0",
          "state": {
            "_model_module": "@jupyter-widgets/base",
            "_model_module_version": "1.2.0",
            "_model_name": "LayoutModel",
            "_view_count": null,
            "_view_module": "@jupyter-widgets/base",
            "_view_module_version": "1.2.0",
            "_view_name": "LayoutView",
            "align_content": null,
            "align_items": null,
            "align_self": null,
            "border": null,
            "bottom": null,
            "display": null,
            "flex": null,
            "flex_flow": null,
            "grid_area": null,
            "grid_auto_columns": null,
            "grid_auto_flow": null,
            "grid_auto_rows": null,
            "grid_column": null,
            "grid_gap": null,
            "grid_row": null,
            "grid_template_areas": null,
            "grid_template_columns": null,
            "grid_template_rows": null,
            "height": null,
            "justify_content": null,
            "justify_items": null,
            "left": null,
            "margin": null,
            "max_height": null,
            "max_width": null,
            "min_height": null,
            "min_width": null,
            "object_fit": null,
            "object_position": null,
            "order": null,
            "overflow": null,
            "overflow_x": null,
            "overflow_y": null,
            "padding": null,
            "right": null,
            "top": null,
            "visibility": null,
            "width": null
          }
        },
        "799e1240d7264254a5605e518d169957": {
          "model_module": "@jupyter-widgets/controls",
          "model_name": "DescriptionStyleModel",
          "model_module_version": "1.5.0",
          "state": {
            "_model_module": "@jupyter-widgets/controls",
            "_model_module_version": "1.5.0",
            "_model_name": "DescriptionStyleModel",
            "_view_count": null,
            "_view_module": "@jupyter-widgets/base",
            "_view_module_version": "1.2.0",
            "_view_name": "StyleView",
            "description_width": ""
          }
        },
        "fbf69c7f72b649ef8915938e68fae66c": {
          "model_module": "@jupyter-widgets/base",
          "model_name": "LayoutModel",
          "model_module_version": "1.2.0",
          "state": {
            "_model_module": "@jupyter-widgets/base",
            "_model_module_version": "1.2.0",
            "_model_name": "LayoutModel",
            "_view_count": null,
            "_view_module": "@jupyter-widgets/base",
            "_view_module_version": "1.2.0",
            "_view_name": "LayoutView",
            "align_content": null,
            "align_items": null,
            "align_self": null,
            "border": null,
            "bottom": null,
            "display": null,
            "flex": null,
            "flex_flow": null,
            "grid_area": null,
            "grid_auto_columns": null,
            "grid_auto_flow": null,
            "grid_auto_rows": null,
            "grid_column": null,
            "grid_gap": null,
            "grid_row": null,
            "grid_template_areas": null,
            "grid_template_columns": null,
            "grid_template_rows": null,
            "height": null,
            "justify_content": null,
            "justify_items": null,
            "left": null,
            "margin": null,
            "max_height": null,
            "max_width": null,
            "min_height": null,
            "min_width": null,
            "object_fit": null,
            "object_position": null,
            "order": null,
            "overflow": null,
            "overflow_x": null,
            "overflow_y": null,
            "padding": null,
            "right": null,
            "top": null,
            "visibility": null,
            "width": null
          }
        },
        "cd54108f85b94687a49bc790d87a16a3": {
          "model_module": "@jupyter-widgets/controls",
          "model_name": "ProgressStyleModel",
          "model_module_version": "1.5.0",
          "state": {
            "_model_module": "@jupyter-widgets/controls",
            "_model_module_version": "1.5.0",
            "_model_name": "ProgressStyleModel",
            "_view_count": null,
            "_view_module": "@jupyter-widgets/base",
            "_view_module_version": "1.2.0",
            "_view_name": "StyleView",
            "bar_color": null,
            "description_width": ""
          }
        },
        "768ba2d99cf64dd0ac8023ee4d037bfc": {
          "model_module": "@jupyter-widgets/base",
          "model_name": "LayoutModel",
          "model_module_version": "1.2.0",
          "state": {
            "_model_module": "@jupyter-widgets/base",
            "_model_module_version": "1.2.0",
            "_model_name": "LayoutModel",
            "_view_count": null,
            "_view_module": "@jupyter-widgets/base",
            "_view_module_version": "1.2.0",
            "_view_name": "LayoutView",
            "align_content": null,
            "align_items": null,
            "align_self": null,
            "border": null,
            "bottom": null,
            "display": null,
            "flex": null,
            "flex_flow": null,
            "grid_area": null,
            "grid_auto_columns": null,
            "grid_auto_flow": null,
            "grid_auto_rows": null,
            "grid_column": null,
            "grid_gap": null,
            "grid_row": null,
            "grid_template_areas": null,
            "grid_template_columns": null,
            "grid_template_rows": null,
            "height": null,
            "justify_content": null,
            "justify_items": null,
            "left": null,
            "margin": null,
            "max_height": null,
            "max_width": null,
            "min_height": null,
            "min_width": null,
            "object_fit": null,
            "object_position": null,
            "order": null,
            "overflow": null,
            "overflow_x": null,
            "overflow_y": null,
            "padding": null,
            "right": null,
            "top": null,
            "visibility": null,
            "width": null
          }
        },
        "b1d1fa2d28e549ab8b8fc118e2d17370": {
          "model_module": "@jupyter-widgets/controls",
          "model_name": "DescriptionStyleModel",
          "model_module_version": "1.5.0",
          "state": {
            "_model_module": "@jupyter-widgets/controls",
            "_model_module_version": "1.5.0",
            "_model_name": "DescriptionStyleModel",
            "_view_count": null,
            "_view_module": "@jupyter-widgets/base",
            "_view_module_version": "1.2.0",
            "_view_name": "StyleView",
            "description_width": ""
          }
        }
      }
    }
  },
  "nbformat": 4,
  "nbformat_minor": 5
}